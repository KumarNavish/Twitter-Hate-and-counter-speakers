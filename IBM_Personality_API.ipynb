{
 "cells": [
  {
   "cell_type": "code",
   "execution_count": 7,
   "metadata": {
    "ExecuteTime": {
     "end_time": "2018-09-03T20:52:41.616731Z",
     "start_time": "2018-09-03T20:52:41.612458Z"
    }
   },
   "outputs": [],
   "source": [
    "from __future__ import print_function\n",
    "import sys\n",
    "import requests\n",
    "import json\n",
    "import tweepy\n",
    "import pickle"
   ]
  },
  {
   "cell_type": "markdown",
   "metadata": {
    "ExecuteTime": {
     "end_time": "2018-08-23T14:51:43.508956Z",
     "start_time": "2018-08-23T14:51:43.494247Z"
    }
   },
   "source": [
    "### IBM Personality API Keys"
   ]
  },
  {
   "cell_type": "code",
   "execution_count": 8,
   "metadata": {
    "ExecuteTime": {
     "end_time": "2018-09-03T20:52:42.026698Z",
     "start_time": "2018-09-03T20:52:42.023023Z"
    }
   },
   "outputs": [],
   "source": [
    "pi_url = \"https://gateway.watsonplatform.net/personality-insights/api\"\n",
    "pi_username = \"#######\"\n",
    "pi_password = \"#######\""
   ]
  },
  {
   "cell_type": "code",
   "execution_count": 9,
   "metadata": {
    "ExecuteTime": {
     "end_time": "2018-09-03T20:52:42.230931Z",
     "start_time": "2018-09-03T20:52:42.223760Z"
    }
   },
   "outputs": [],
   "source": [
    "def ibm_personality_api(pi_content_items):\n",
    "    # { \"url\": \"https://gateway.watsonplatform.net/personality-insights/api\", \"username\": \"#######\", \"password\": \"#####\" }\n",
    "    r = requests.post(pi_url + '/v2/profile',\n",
    "                      auth=(pi_username, pi_password),\n",
    "                      headers={\n",
    "                          'content-type': 'application/json',\n",
    "                          'accept': 'application/json'\n",
    "                      },\n",
    "                      data=json.dumps(pi_content_items)\n",
    "                      )\n",
    "\n",
    "    print(\"Profile Request sent. Status code: %d, content-type: %s\" %\n",
    "          (r.status_code, r.headers['content-type']))\n",
    "    personality_output = json.loads(r.text)\n",
    "    return personality_output"
   ]
  },
  {
   "cell_type": "code",
   "execution_count": 10,
   "metadata": {
    "ExecuteTime": {
     "end_time": "2018-09-03T20:52:42.377942Z",
     "start_time": "2018-09-03T20:52:42.366762Z"
    }
   },
   "outputs": [],
   "source": [
    "def convert_status_to_pi_content_item(names, tweet_text):\n",
    "    # My code here\n",
    "    return {\n",
    "        'userid': names,\n",
    "#         'id': names+'_test',\n",
    "        'sourceid': 'python-twitter',\n",
    "        'contenttype': 'text/plain',\n",
    "#         'language': s.lang,\n",
    "        'content': tweet_text,\n",
    "        # 'created': s.created_at,\n",
    "#         'reply': (s.in_reply_to_status_id is None),\n",
    "#         'forward': False\n",
    "    }"
   ]
  },
  {
   "cell_type": "code",
   "execution_count": 4,
   "metadata": {
    "ExecuteTime": {
     "end_time": "2018-09-03T20:47:38.923645Z",
     "start_time": "2018-09-03T20:47:36.956363Z"
    }
   },
   "outputs": [],
   "source": [
    "# Getting the required files :\n",
    "with open('Refined_Project_Dataset/all_user_tweets.pkl','rb') as fp:\n",
    "    all_user_tweets = pickle.load(fp)"
   ]
  },
  {
   "cell_type": "code",
   "execution_count": null,
   "metadata": {
    "ExecuteTime": {
     "end_time": "2018-09-03T21:03:28.595320Z",
     "start_time": "2018-09-03T20:52:48.941257Z"
    },
    "scrolled": true
   },
   "outputs": [],
   "source": [
    "with open('Refined_Project_Dataset/user_personality.pkl','rb') as fp:\n",
    "    final_user_personality = pickle.load(fp)\n",
    "\n",
    "existing_user_personality = set()\n",
    "for each in final_user_personality:\n",
    "    try:\n",
    "        existing_user_personality.add(each['id'])\n",
    "    except:\n",
    "        print('missing user')\n",
    "        continue\n",
    "\n",
    "    \n",
    "print(len(existing_user_personality))\n",
    "\n",
    "for names,tweets in all_user_tweets.items():\n",
    "    if names in existing_user_personality:\n",
    "        continue\n",
    "    print(names)\n",
    "    pi_content_items_array = []\n",
    "    for each_tweet in tweets:\n",
    "        pi_content_items_array.append(convert_status_to_pi_content_item(names,each_tweet))\n",
    "    \n",
    "    pi_content_items = {'contentItems': pi_content_items_array}\n",
    "    personality_output = ibm_personality_api(pi_content_items)\n",
    "    final_user_personality.append(personality_output)"
   ]
  },
  {
   "cell_type": "code",
   "execution_count": 23,
   "metadata": {
    "ExecuteTime": {
     "end_time": "2018-09-03T21:40:59.363286Z",
     "start_time": "2018-09-03T21:40:59.310427Z"
    }
   },
   "outputs": [
    {
     "data": {
      "text/plain": [
       "2668"
      ]
     },
     "execution_count": 23,
     "metadata": {},
     "output_type": "execute_result"
    }
   ],
   "source": [
    "temp = final_user_personality\n",
    "len(temp)"
   ]
  },
  {
   "cell_type": "code",
   "execution_count": 22,
   "metadata": {
    "ExecuteTime": {
     "end_time": "2018-09-03T21:40:57.030810Z",
     "start_time": "2018-09-03T21:40:56.580769Z"
    }
   },
   "outputs": [],
   "source": [
    "# with open('Refined_Project_Dataset/user_personality.pkl','wb') as fp:\n",
    "#     pickle.dump(final_user_personality,fp)\n",
    "with open('Refined_Project_Dataset/user_personality.pkl','rb') as fp:\n",
    "    final_user_personality = pickle.load(fp)"
   ]
  },
  {
   "cell_type": "code",
   "execution_count": 19,
   "metadata": {
    "ExecuteTime": {
     "end_time": "2018-09-03T21:37:25.171002Z",
     "start_time": "2018-09-03T21:37:25.136001Z"
    }
   },
   "outputs": [
    {
     "data": {
      "text/plain": [
       "(548, 1239, 220)"
      ]
     },
     "execution_count": 19,
     "metadata": {},
     "output_type": "execute_result"
    }
   ],
   "source": [
    "import pandas as pd\n",
    "df = pd.read_json('Refined_Project_Dataset/Binny_Tagged_Final.json')\n",
    "hate_usernames = set(df['original_tweetusername'].values.tolist())\n",
    "counter_usernames = set(df[df.tag!='0']['replier_user_name'].values.tolist())\n",
    "Non_counter_usernames = set(df[df.tag=='0']['replier_user_name'].values.tolist())\n",
    "len(hate_usernames),len(counter_usernames),len(Non_counter_usernames)"
   ]
  },
  {
   "cell_type": "code",
   "execution_count": 27,
   "metadata": {
    "ExecuteTime": {
     "end_time": "2018-09-03T21:43:04.623561Z",
     "start_time": "2018-09-03T21:43:04.610323Z"
    }
   },
   "outputs": [
    {
     "data": {
      "text/plain": [
       "{'id': 'RoyDunn83494681',\n",
       " 'source': 'python-twitter',\n",
       " 'word_count': 347,\n",
       " 'word_count_message': 'There were 347 words in the input. We need a minimum of 600, preferably 1,200 or more, to compute statistically significant estimates',\n",
       " 'processed_lang': 'en',\n",
       " 'tree': {'id': 'r',\n",
       "  'name': 'root',\n",
       "  'children': [{'id': 'personality',\n",
       "    'name': 'Big 5',\n",
       "    'children': [{'id': 'Extraversion_parent',\n",
       "      'name': 'Extraversion',\n",
       "      'category': 'personality',\n",
       "      'percentage': 0.9519702960548467,\n",
       "      'children': [{'id': 'Openness',\n",
       "        'name': 'Openness',\n",
       "        'category': 'personality',\n",
       "        'percentage': 0.8550937559093148,\n",
       "        'sampling_error': 0.0627462137,\n",
       "        'children': [{'id': 'Adventurousness',\n",
       "          'name': 'Adventurousness',\n",
       "          'category': 'personality',\n",
       "          'percentage': 0.7133808254951195,\n",
       "          'sampling_error': 0.052771050400000005},\n",
       "         {'id': 'Artistic interests',\n",
       "          'name': 'Artistic interests',\n",
       "          'category': 'personality',\n",
       "          'percentage': 0.2813572980468769,\n",
       "          'sampling_error': 0.1077253989},\n",
       "         {'id': 'Emotionality',\n",
       "          'name': 'Emotionality',\n",
       "          'category': 'personality',\n",
       "          'percentage': 0.036478629705156695,\n",
       "          'sampling_error': 0.0493124488},\n",
       "         {'id': 'Imagination',\n",
       "          'name': 'Imagination',\n",
       "          'category': 'personality',\n",
       "          'percentage': 0.8320056519767053,\n",
       "          'sampling_error': 0.0667098551},\n",
       "         {'id': 'Intellect',\n",
       "          'name': 'Intellect',\n",
       "          'category': 'personality',\n",
       "          'percentage': 0.6099558975199805,\n",
       "          'sampling_error': 0.0583616297},\n",
       "         {'id': 'Liberalism',\n",
       "          'name': 'Authority-challenging',\n",
       "          'category': 'personality',\n",
       "          'percentage': 0.49333366958608166,\n",
       "          'sampling_error': 0.08636879139999999}]},\n",
       "       {'id': 'Conscientiousness',\n",
       "        'name': 'Conscientiousness',\n",
       "        'category': 'personality',\n",
       "        'percentage': 0.17109931860676358,\n",
       "        'sampling_error': 0.0788481401,\n",
       "        'children': [{'id': 'Achievement striving',\n",
       "          'name': 'Achievement striving',\n",
       "          'category': 'personality',\n",
       "          'percentage': 0.5980122008026162,\n",
       "          'sampling_error': 0.1020507614},\n",
       "         {'id': 'Cautiousness',\n",
       "          'name': 'Cautiousness',\n",
       "          'category': 'personality',\n",
       "          'percentage': 0.1841036344588815,\n",
       "          'sampling_error': 0.0944545055},\n",
       "         {'id': 'Dutifulness',\n",
       "          'name': 'Dutifulness',\n",
       "          'category': 'personality',\n",
       "          'percentage': 0.01629964800357303,\n",
       "          'sampling_error': 0.0627113296},\n",
       "         {'id': 'Orderliness',\n",
       "          'name': 'Orderliness',\n",
       "          'category': 'personality',\n",
       "          'percentage': 0.751059846608673,\n",
       "          'sampling_error': 0.0725725082},\n",
       "         {'id': 'Self-discipline',\n",
       "          'name': 'Self-discipline',\n",
       "          'category': 'personality',\n",
       "          'percentage': 0.40036675826307444,\n",
       "          'sampling_error': 0.0481630658},\n",
       "         {'id': 'Self-efficacy',\n",
       "          'name': 'Self-efficacy',\n",
       "          'category': 'personality',\n",
       "          'percentage': 0.8187124739925102,\n",
       "          'sampling_error': 0.0954051665}]},\n",
       "       {'id': 'Extraversion',\n",
       "        'name': 'Extraversion',\n",
       "        'category': 'personality',\n",
       "        'percentage': 0.9519702960548467,\n",
       "        'sampling_error': 0.058805264600000004,\n",
       "        'children': [{'id': 'Activity level',\n",
       "          'name': 'Activity level',\n",
       "          'category': 'personality',\n",
       "          'percentage': 0.4482186767727593,\n",
       "          'sampling_error': 0.08042803030000001},\n",
       "         {'id': 'Assertiveness',\n",
       "          'name': 'Assertiveness',\n",
       "          'category': 'personality',\n",
       "          'percentage': 0.8228365948780862,\n",
       "          'sampling_error': 0.0858886126},\n",
       "         {'id': 'Cheerfulness',\n",
       "          'name': 'Cheerfulness',\n",
       "          'category': 'personality',\n",
       "          'percentage': 0.482770323056908,\n",
       "          'sampling_error': 0.1081713376},\n",
       "         {'id': 'Excitement-seeking',\n",
       "          'name': 'Excitement-seeking',\n",
       "          'category': 'personality',\n",
       "          'percentage': 0.8297103991233645,\n",
       "          'sampling_error': 0.0828676839},\n",
       "         {'id': 'Friendliness',\n",
       "          'name': 'Outgoing',\n",
       "          'category': 'personality',\n",
       "          'percentage': 0.5439553027332686,\n",
       "          'sampling_error': 0.0777941577},\n",
       "         {'id': 'Gregariousness',\n",
       "          'name': 'Gregariousness',\n",
       "          'category': 'personality',\n",
       "          'percentage': 0.7030130811104731,\n",
       "          'sampling_error': 0.0592280122}]},\n",
       "       {'id': 'Agreeableness',\n",
       "        'name': 'Agreeableness',\n",
       "        'category': 'personality',\n",
       "        'percentage': 0.06245518699461128,\n",
       "        'sampling_error': 0.0998602695,\n",
       "        'children': [{'id': 'Altruism',\n",
       "          'name': 'Altruism',\n",
       "          'category': 'personality',\n",
       "          'percentage': 0.07595966799661996,\n",
       "          'sampling_error': 0.0729996029},\n",
       "         {'id': 'Cooperation',\n",
       "          'name': 'Cooperation',\n",
       "          'category': 'personality',\n",
       "          'percentage': 0.006175110496064451,\n",
       "          'sampling_error': 0.0820442405},\n",
       "         {'id': 'Modesty',\n",
       "          'name': 'Modesty',\n",
       "          'category': 'personality',\n",
       "          'percentage': 0.03620808140894077,\n",
       "          'sampling_error': 0.0581042186},\n",
       "         {'id': 'Morality',\n",
       "          'name': 'Uncompromising',\n",
       "          'category': 'personality',\n",
       "          'percentage': 0.1471031986181745,\n",
       "          'sampling_error': 0.0651272406},\n",
       "         {'id': 'Sympathy',\n",
       "          'name': 'Sympathy',\n",
       "          'category': 'personality',\n",
       "          'percentage': 0.47797140047704056,\n",
       "          'sampling_error': 0.10068292509999999},\n",
       "         {'id': 'Trust',\n",
       "          'name': 'Trust',\n",
       "          'category': 'personality',\n",
       "          'percentage': 0.12337708379995793,\n",
       "          'sampling_error': 0.058373422}]},\n",
       "       {'id': 'Neuroticism',\n",
       "        'name': 'Emotional range',\n",
       "        'category': 'personality',\n",
       "        'percentage': 0.7871117926423081,\n",
       "        'sampling_error': 0.0939941905,\n",
       "        'children': [{'id': 'Anger',\n",
       "          'name': 'Fiery',\n",
       "          'category': 'personality',\n",
       "          'percentage': 0.918552372398012,\n",
       "          'sampling_error': 0.0969691573},\n",
       "         {'id': 'Anxiety',\n",
       "          'name': 'Prone to worry',\n",
       "          'category': 'personality',\n",
       "          'percentage': 0.19756999772883382,\n",
       "          'sampling_error': 0.0570697426},\n",
       "         {'id': 'Depression',\n",
       "          'name': 'Melancholy',\n",
       "          'category': 'personality',\n",
       "          'percentage': 0.5909459945353303,\n",
       "          'sampling_error': 0.0610279642},\n",
       "         {'id': 'Immoderation',\n",
       "          'name': 'Immoderation',\n",
       "          'category': 'personality',\n",
       "          'percentage': 0.4015033235175508,\n",
       "          'sampling_error': 0.0546376598},\n",
       "         {'id': 'Self-consciousness',\n",
       "          'name': 'Self-consciousness',\n",
       "          'category': 'personality',\n",
       "          'percentage': 0.22537466554124902,\n",
       "          'sampling_error': 0.0588836193},\n",
       "         {'id': 'Vulnerability',\n",
       "          'name': 'Susceptible to stress',\n",
       "          'category': 'personality',\n",
       "          'percentage': 0.05275459400994681,\n",
       "          'sampling_error': 0.0881378818}]}]}]},\n",
       "   {'id': 'needs',\n",
       "    'name': 'Needs',\n",
       "    'children': [{'id': 'Love_parent',\n",
       "      'name': 'Love',\n",
       "      'category': 'needs',\n",
       "      'percentage': 0.009577481177626912,\n",
       "      'children': [{'id': 'Challenge',\n",
       "        'name': 'Challenge',\n",
       "        'category': 'needs',\n",
       "        'percentage': 0.3261555704979822,\n",
       "        'sampling_error': 0.0858018795},\n",
       "       {'id': 'Closeness',\n",
       "        'name': 'Closeness',\n",
       "        'category': 'needs',\n",
       "        'percentage': 0.01525474860723497,\n",
       "        'sampling_error': 0.0845924799},\n",
       "       {'id': 'Curiosity',\n",
       "        'name': 'Curiosity',\n",
       "        'category': 'needs',\n",
       "        'percentage': 0.15441200544575506,\n",
       "        'sampling_error': 0.1224693123},\n",
       "       {'id': 'Excitement',\n",
       "        'name': 'Excitement',\n",
       "        'category': 'needs',\n",
       "        'percentage': 0.24164627939300065,\n",
       "        'sampling_error': 0.1118163024},\n",
       "       {'id': 'Harmony',\n",
       "        'name': 'Harmony',\n",
       "        'category': 'needs',\n",
       "        'percentage': 0.20333355649386398,\n",
       "        'sampling_error': 0.11170519470000001},\n",
       "       {'id': 'Ideal',\n",
       "        'name': 'Ideal',\n",
       "        'category': 'needs',\n",
       "        'percentage': 0.12488104581493248,\n",
       "        'sampling_error': 0.1013612807},\n",
       "       {'id': 'Liberty',\n",
       "        'name': 'Liberty',\n",
       "        'category': 'needs',\n",
       "        'percentage': 0.18329302905491585,\n",
       "        'sampling_error': 0.1483144757},\n",
       "       {'id': 'Love',\n",
       "        'name': 'Love',\n",
       "        'category': 'needs',\n",
       "        'percentage': 0.009577481177626912,\n",
       "        'sampling_error': 0.102832488},\n",
       "       {'id': 'Practicality',\n",
       "        'name': 'Practicality',\n",
       "        'category': 'needs',\n",
       "        'percentage': 0.7635262000289116,\n",
       "        'sampling_error': 0.0893162702},\n",
       "       {'id': 'Self-expression',\n",
       "        'name': 'Self-expression',\n",
       "        'category': 'needs',\n",
       "        'percentage': 0.41335684158039127,\n",
       "        'sampling_error': 0.0831767581},\n",
       "       {'id': 'Stability',\n",
       "        'name': 'Stability',\n",
       "        'category': 'needs',\n",
       "        'percentage': 0.12038227745967178,\n",
       "        'sampling_error': 0.1087813668},\n",
       "       {'id': 'Structure',\n",
       "        'name': 'Structure',\n",
       "        'category': 'needs',\n",
       "        'percentage': 0.15960984274167955,\n",
       "        'sampling_error': 0.0816255083}]}]},\n",
       "   {'id': 'values',\n",
       "    'name': 'Values',\n",
       "    'children': [{'id': 'Conservation_parent',\n",
       "      'name': 'Conservation',\n",
       "      'category': 'values',\n",
       "      'percentage': 0.06465955096323966,\n",
       "      'children': [{'id': 'Conservation',\n",
       "        'name': 'Conservation',\n",
       "        'category': 'values',\n",
       "        'percentage': 0.06465955096323966,\n",
       "        'sampling_error': 0.0694399753},\n",
       "       {'id': 'Openness to change',\n",
       "        'name': 'Openness to change',\n",
       "        'category': 'values',\n",
       "        'percentage': 0.30337481228267343,\n",
       "        'sampling_error': 0.0656380303},\n",
       "       {'id': 'Hedonism',\n",
       "        'name': 'Hedonism',\n",
       "        'category': 'values',\n",
       "        'percentage': 0.5007649785572864,\n",
       "        'sampling_error': 0.1401890296},\n",
       "       {'id': 'Self-enhancement',\n",
       "        'name': 'Self-enhancement',\n",
       "        'category': 'values',\n",
       "        'percentage': 0.6507528852395501,\n",
       "        'sampling_error': 0.10568839149999999},\n",
       "       {'id': 'Self-transcendence',\n",
       "        'name': 'Self-transcendence',\n",
       "        'category': 'values',\n",
       "        'percentage': 0.09145678499569732,\n",
       "        'sampling_error': 0.0837671561}]}]}]},\n",
       " 'warnings': [{'warning_id': 'WORD_COUNT_MESSAGE',\n",
       "   'message': 'There were 347 words in the input. We need a minimum of 600, preferably 1,200 or more, to compute statistically significant estimates'}]}"
      ]
     },
     "execution_count": 27,
     "metadata": {},
     "output_type": "execute_result"
    }
   ],
   "source": [
    "final_user_personality[2665]"
   ]
  },
  {
   "cell_type": "code",
   "execution_count": 31,
   "metadata": {
    "ExecuteTime": {
     "end_time": "2018-09-03T21:50:08.662183Z",
     "start_time": "2018-09-03T21:50:08.652076Z"
    }
   },
   "outputs": [],
   "source": [
    "Hate_user_personality = []\n",
    "Counter_user_personality = []\n",
    "Noncounter_user_personality = []\n",
    "for each_personality in final_user_personality:\n",
    "    try:\n",
    "        if each_personality['id'] in hate_usernames:\n",
    "            Hate_user_personality.append(each_personality)\n",
    "    except:\n",
    "        pass\n",
    "    \n",
    "    try:\n",
    "        if each_personality['id'] in counter_usernames:\n",
    "            Counter_user_personality.append(each_personality)\n",
    "    except:\n",
    "        pass\n",
    "    \n",
    "    try:\n",
    "        if each_personality['id'] in Non_counter_usernames:\n",
    "            Noncounter_user_personality.append(each_personality)\n",
    "    except:\n",
    "        pass"
   ]
  },
  {
   "cell_type": "code",
   "execution_count": 32,
   "metadata": {
    "ExecuteTime": {
     "end_time": "2018-09-03T21:50:08.943740Z",
     "start_time": "2018-09-03T21:50:08.937844Z"
    }
   },
   "outputs": [
    {
     "data": {
      "text/plain": [
       "(505, 1160, 204)"
      ]
     },
     "execution_count": 32,
     "metadata": {},
     "output_type": "execute_result"
    }
   ],
   "source": [
    "len(Hate_user_personality),len(Counter_user_personality),len(Noncounter_user_personality)"
   ]
  },
  {
   "cell_type": "code",
   "execution_count": 33,
   "metadata": {
    "ExecuteTime": {
     "end_time": "2018-09-03T21:51:14.218521Z",
     "start_time": "2018-09-03T21:51:14.072774Z"
    }
   },
   "outputs": [],
   "source": [
    "with open('Refined_Project_Dataset/Hate_user_personality.pkl','wb') as fp:\n",
    "    pickle.dump(Hate_user_personality,fp)\n",
    "with open('Refined_Project_Dataset/Counter_user_personality.pkl','wb') as fp:\n",
    "    pickle.dump(Counter_user_personality,fp)\n",
    "with open('Refined_Project_Dataset/Noncounter_user_personality.pkl','wb') as fp:\n",
    "    pickle.dump(Noncounter_user_personality,fp)"
   ]
  }
 ],
 "metadata": {
  "kernelspec": {
   "display_name": "Python 3",
   "language": "python",
   "name": "python3"
  },
  "language_info": {
   "codemirror_mode": {
    "name": "ipython",
    "version": 3
   },
   "file_extension": ".py",
   "mimetype": "text/x-python",
   "name": "python",
   "nbconvert_exporter": "python",
   "pygments_lexer": "ipython3",
   "version": "3.6.5"
  }
 },
 "nbformat": 4,
 "nbformat_minor": 2
}
