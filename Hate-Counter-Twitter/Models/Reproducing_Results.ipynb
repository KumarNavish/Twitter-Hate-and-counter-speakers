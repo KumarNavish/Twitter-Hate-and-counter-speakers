{
 "cells": [
  {
   "cell_type": "code",
   "execution_count": 1,
   "metadata": {
    "ExecuteTime": {
     "end_time": "2018-11-04T16:56:01.141655Z",
     "start_time": "2018-11-04T16:56:00.442444Z"
    }
   },
   "outputs": [],
   "source": [
    "import pickle\n",
    "from sklearn.metrics import classification_report\n",
    "from sklearn.feature_extraction.text import TfidfVectorizer\n",
    "import preprocessor as prep ###### Twitter preprocessor\n",
    "from sklearn.externals import joblib # to save & load the model "
   ]
  },
  {
   "cell_type": "markdown",
   "metadata": {},
   "source": [
    "## CatBoost with Tfidf:"
   ]
  },
  {
   "cell_type": "code",
   "execution_count": 5,
   "metadata": {
    "ExecuteTime": {
     "end_time": "2018-11-04T18:28:52.406621Z",
     "start_time": "2018-11-04T18:28:51.820349Z"
    }
   },
   "outputs": [
    {
     "name": "stdout",
     "output_type": "stream",
     "text": [
      "             precision    recall  f1-score   support\n",
      "\n",
      "          0       0.52      0.98      0.68        93\n",
      "          1       0.83      0.11      0.19        93\n",
      "\n",
      "avg / total       0.68      0.54      0.44       186\n",
      "\n",
      "Accuracy: 0.543010752688172\n"
     ]
    }
   ],
   "source": [
    "## Load the model:\n",
    "cbc = joblib.load('Refined_Project_Dataset/Catboost-model-tfidf.joblib')\n",
    "\n",
    "# Fetch your test tweets and labels:\n",
    "\"\"\"\n",
    "1) x_test : list containing all tweets of users\n",
    "2) y_test : contains binary class values as 1: Hate | 0:Counter\n",
    "\n",
    "\"\"\"\n",
    "x_test = pickle.load(open('Refined_Project_Dataset/xw_test_tfidf.pkl','rb'))\n",
    "y_test = pickle.load(open('Refined_Project_Dataset/yw_test_tfidf.pkl','rb'))\n",
    "\n",
    "# # Preprocessing:**************************************************\n",
    "# prep_tweets = []\n",
    "# for tweet in tqdm(x_test):\n",
    "#     prep_tweets.append(prep.tokenize(x_test))\n",
    "    \n",
    "# #****************************************************************************\n",
    "# transformer = TfidfTransformer() \n",
    "# # TF-IDF Vectorizers :\n",
    "# word_vectorizer = TfidfVectorizer(vocabulary=pickle.load(open(\"word_vocab.pkl\", \"rb\")) # pretrained vocabulary from 6 million tweets on word level\n",
    "# char_vectorizer = TfidfVectorizer(vocabulary=pickle.load(open(\"char_vocab.pkl\", \"rb\")) # pretrained vocabulary from 6 million tweets on char level\n",
    "\n",
    "# char_features = char_vectorizer.transform(prep_tweets)\n",
    "# word_features = word_vectorizer.transform(prep_tweets)\n",
    "\n",
    "# # Prepare features[word + char]:\n",
    "# features = np.c_[np.asarray(word_features.todense()),np.asarray(char_features.todense())]\n",
    "\n",
    "#print classification report of your model's performance:\n",
    "print(classification_report(y_test,cbc.predict(x_test)))\n",
    "print('Accuracy:',cbc.score(x_test,y_test)) "
   ]
  },
  {
   "cell_type": "markdown",
   "metadata": {},
   "source": [
    "## Best Model:"
   ]
  },
  {
   "cell_type": "code",
   "execution_count": 4,
   "metadata": {
    "ExecuteTime": {
     "end_time": "2018-11-04T16:56:24.053102Z",
     "start_time": "2018-11-04T16:56:22.473288Z"
    }
   },
   "outputs": [
    {
     "name": "stdout",
     "output_type": "stream",
     "text": [
      "             precision    recall  f1-score   support\n",
      "\n",
      "          0       0.70      0.98      0.82        93\n",
      "          1       0.96      0.58      0.72        93\n",
      "\n",
      "avg / total       0.83      0.78      0.77       186\n",
      "\n",
      "Accuracy: 0.7795698924731183\n"
     ]
    }
   ],
   "source": [
    "## Load the model:\n",
    "cbc = joblib.load('Refined_Project_Dataset/Catboost-model.joblib')\n",
    "\n",
    "\"\"\"\n",
    "Here x_test is composed of :\n",
    "tfidf[word+char] + user history + Lexical[empath] + Sentiments[Vader+TextBlob+Profane] \n",
    "in the respective order\n",
    "\"\"\"\n",
    "## Load your testing test features and lablels:\n",
    "x_test = pickle.load(open('Refined_Project_Dataset/xw_test.pkl','rb'))\n",
    "y_test = pickle.load(open('Refined_Project_Dataset/yw_test.pkl','rb'))\n",
    "\n",
    "#print classification report of your model's performance:\n",
    "print(classification_report(y_test,cbc.predict(x_test)))\n",
    "print('Accuracy:',cbc.score(x_test,y_test))"
   ]
  },
  {
   "cell_type": "code",
   "execution_count": null,
   "metadata": {},
   "outputs": [],
   "source": []
  }
 ],
 "metadata": {
  "kernelspec": {
   "display_name": "Python 3",
   "language": "python",
   "name": "python3"
  },
  "language_info": {
   "codemirror_mode": {
    "name": "ipython",
    "version": 3
   },
   "file_extension": ".py",
   "mimetype": "text/x-python",
   "name": "python",
   "nbconvert_exporter": "python",
   "pygments_lexer": "ipython3",
   "version": "3.6.5"
  }
 },
 "nbformat": 4,
 "nbformat_minor": 2
}
