{
 "cells": [
  {
   "cell_type": "markdown",
   "metadata": {},
   "source": [
    "# This notebook studies the characteristics of the counterspeech users and Hate users."
   ]
  },
  {
   "cell_type": "markdown",
   "metadata": {},
   "source": [
    "### Import the required Libraries"
   ]
  },
  {
   "cell_type": "code",
   "execution_count": 1,
   "metadata": {
    "ExecuteTime": {
     "end_time": "2018-11-02T18:47:33.766409Z",
     "start_time": "2018-11-02T18:47:33.753599Z"
    }
   },
   "outputs": [
    {
     "data": {
      "application/javascript": [
       "IPython.notebook.set_autosave_interval(5000)"
      ]
     },
     "metadata": {},
     "output_type": "display_data"
    },
    {
     "name": "stdout",
     "output_type": "stream",
     "text": [
      "Autosaving every 5 seconds\n"
     ]
    }
   ],
   "source": [
    "%autosave 5"
   ]
  },
  {
   "cell_type": "code",
   "execution_count": 2,
   "metadata": {
    "ExecuteTime": {
     "end_time": "2018-11-02T18:47:35.100319Z",
     "start_time": "2018-11-02T18:47:33.831613Z"
    }
   },
   "outputs": [],
   "source": [
    "import json\n",
    "import pickle\n",
    "import os\n",
    "import re\n",
    "from collections import defaultdict,Counter,OrderedDict\n",
    "import gzip\n",
    "import pandas as pd\n",
    "import numpy as np\n",
    "import matplotlib\n",
    "import matplotlib.pyplot as plt\n",
    "import seaborn as sns\n",
    "from scipy.stats import ttest_ind\n",
    "from scipy.stats import mannwhitneyu\n",
    "from scipy.stats import normaltest\n",
    "import scipy"
   ]
  },
  {
   "cell_type": "markdown",
   "metadata": {},
   "source": [
    "# Analyzing our own dataset of 1513 tweets:"
   ]
  },
  {
   "cell_type": "code",
   "execution_count": null,
   "metadata": {
    "ExecuteTime": {
     "end_time": "2018-11-02T18:47:35.160494Z",
     "start_time": "2018-11-02T18:47:35.102508Z"
    }
   },
   "outputs": [],
   "source": [
    "import pandas as pd\n",
    "import numpy as np\n",
    "import re\n",
    "df = pd.read_json('Refined_Project_Dataset/Binny_Tagged_Final.json')\n",
    "# df.drop_duplicates(subset = ['original_tweetid','reply_id'],inplace = True)\n",
    "# df.to_json('Refined_Project_Dataset/Binny_Tagged_Final.json',orient = 'records')\n",
    "df.head(1)"
   ]
  },
  {
   "cell_type": "code",
   "execution_count": 4,
   "metadata": {
    "ExecuteTime": {
     "end_time": "2018-11-02T18:47:35.242578Z",
     "start_time": "2018-11-02T18:47:35.162258Z"
    }
   },
   "outputs": [
    {
     "name": "stdout",
     "output_type": "stream",
     "text": [
      "(1513, 10)\n"
     ]
    },
    {
     "data": {
      "text/plain": [
       "223"
      ]
     },
     "execution_count": 4,
     "metadata": {},
     "output_type": "execute_result"
    }
   ],
   "source": [
    "print(df.shape)\n",
    "(df.tag=='0').sum()"
   ]
  },
  {
   "cell_type": "markdown",
   "metadata": {},
   "source": [
    "### Unique Hate and Counter Usernames:"
   ]
  },
  {
   "cell_type": "code",
   "execution_count": 5,
   "metadata": {
    "ExecuteTime": {
     "end_time": "2018-11-02T18:47:35.367240Z",
     "start_time": "2018-11-02T18:47:35.244341Z"
    }
   },
   "outputs": [
    {
     "data": {
      "text/plain": [
       "(548, 1239, 220)"
      ]
     },
     "execution_count": 5,
     "metadata": {},
     "output_type": "execute_result"
    }
   ],
   "source": [
    "hate_usernames = set(df['original_tweetusername'].values.tolist())\n",
    "counter_usernames = set(df[df.tag!='0']['replier_user_name'].values.tolist())\n",
    "Non_counter_usernames = set(df[df.tag=='0']['replier_user_name'].values.tolist())\n",
    "len(hate_usernames),len(counter_usernames),len(Non_counter_usernames)"
   ]
  },
  {
   "cell_type": "markdown",
   "metadata": {},
   "source": [
    "### Unique Hate and Counter UserIDs:"
   ]
  },
  {
   "cell_type": "code",
   "execution_count": 6,
   "metadata": {
    "ExecuteTime": {
     "end_time": "2018-11-02T18:47:35.500255Z",
     "start_time": "2018-11-02T18:47:35.369988Z"
    }
   },
   "outputs": [
    {
     "data": {
      "text/plain": [
       "(558, 1290, 223)"
      ]
     },
     "execution_count": 6,
     "metadata": {},
     "output_type": "execute_result"
    }
   ],
   "source": [
    "hate_usernamesID = set(df['original_tweetid'].values.astype(str))\n",
    "counter_usernamesID = set(df[df.tag!='0']['reply_id'].values.astype(str))\n",
    "Non_counter_usernamesID = set(df[df.tag=='0']['reply_id'].values.astype(str))\n",
    "len(hate_usernamesID),len(counter_usernamesID),len(Non_counter_usernamesID)"
   ]
  },
  {
   "cell_type": "markdown",
   "metadata": {},
   "source": [
    "# Deleted  users:"
   ]
  },
  {
   "cell_type": "code",
   "execution_count": 7,
   "metadata": {
    "ExecuteTime": {
     "end_time": "2018-11-02T18:47:35.687591Z",
     "start_time": "2018-11-02T18:47:35.502254Z"
    }
   },
   "outputs": [
    {
     "data": {
      "text/plain": [
       "85"
      ]
     },
     "execution_count": 7,
     "metadata": {},
     "output_type": "execute_result"
    }
   ],
   "source": [
    "deleted_tweets = np.loadtxt('deleted/Deleted_tweets.txt',dtype = str,delimiter = '\\n')\n",
    "deleted_users = np.loadtxt('deleted/Deleted_users.txt',dtype = str,delimiter = '\\n')\n",
    "users = [] \n",
    "for user in deleted_users:\n",
    "    if '404' in user:\n",
    "        users.append(re.findall(r'\\w+',user)[0])\n",
    "len(users)"
   ]
  },
  {
   "cell_type": "code",
   "execution_count": 8,
   "metadata": {
    "ExecuteTime": {
     "end_time": "2018-11-02T18:47:35.751484Z",
     "start_time": "2018-11-02T18:47:35.689288Z"
    }
   },
   "outputs": [
    {
     "name": "stdout",
     "output_type": "stream",
     "text": [
      "1\n"
     ]
    },
    {
     "data": {
      "text/plain": [
       "(25, 53, 8)"
      ]
     },
     "execution_count": 8,
     "metadata": {},
     "output_type": "execute_result"
    }
   ],
   "source": [
    "Deleted_hate = list(set(users).intersection(set(hate_usernames)))\n",
    "Deleted_counter = list(set(users).intersection(set(counter_usernames)))\n",
    "Deleted_Noncounter = list(set(users).intersection(set(Non_counter_usernames)))\n",
    "print(len((hate_usernames.intersection(counter_usernames)).intersection(Deleted_counter)))\n",
    "len(Deleted_hate),len(Deleted_counter),len(Deleted_Noncounter)"
   ]
  },
  {
   "cell_type": "code",
   "execution_count": 9,
   "metadata": {
    "ExecuteTime": {
     "end_time": "2018-11-02T18:47:35.898857Z",
     "start_time": "2018-11-02T18:47:35.753159Z"
    }
   },
   "outputs": [
    {
     "name": "stdout",
     "output_type": "stream",
     "text": [
      "Noncounter :  {'0': 8, '1': 0, '2': 0, '3': 0, '4': 0, '5': 0, '6': 0, '7': 0, '8': 0, '9': 0, '11': 0}\n",
      "\n",
      "Counter :  {'0': 0, '1': 6, '2': 3, '3': 6, '4': 1, '5': 4, '6': 15, '7': 4, '8': 10, '9': 10, '11': 7}\n",
      "\n",
      "Hate :  {'0': 2, '1': 0, '2': 2, '3': 2, '4': 0, '5': 3, '6': 1, '7': 4, '8': 5, '9': 9, '11': 3}\n"
     ]
    }
   ],
   "source": [
    "missing_counter_labels = []\n",
    "missing_hate_labels = []\n",
    "missing_Noncounter_labels = []\n",
    "for i in counter_usernames:\n",
    "    if i in Deleted_counter:\n",
    "        missing_counter_labels.append(df[df['replier_user_name']== i]['tag'].values[0])\n",
    "\n",
    "for i in hate_usernames:\n",
    "    if i in Deleted_hate:\n",
    "        missing_hate_labels.append(df[df['original_tweetusername']== i]['tag'].values[0])\n",
    "\n",
    "for i in Non_counter_usernames:\n",
    "    if i in Deleted_Noncounter:\n",
    "        missing_Noncounter_labels.append(df[df['replier_user_name']== i]['tag'].values[0])\n",
    "# np.savetxt('missing_counter_labels.txt',missing_counter_labels,fmt = '%s') \n",
    "# np.savetxt('missing_hate_labels.txt',missing_hate_labels,fmt = '%s') \n",
    "\n",
    "categories = ['0','1','2','3','4','5','6','7','8','9','11']\n",
    "dict_counter = {}\n",
    "dict_hate = {}\n",
    "dict_Noncounter = {}\n",
    "for i in categories:\n",
    "    dict_counter[i] = (re.findall(r'\\d+',(' '.join(missing_counter_labels)))).count(i)\n",
    "                \n",
    "for i in categories:\n",
    "    dict_hate[i] = (re.findall(r'\\d+',(' '.join(missing_hate_labels)))).count(i)\n",
    "for i in categories:\n",
    "    dict_Noncounter[i] = (re.findall(r'\\d+',(' '.join(missing_Noncounter_labels)))).count(i)\n",
    "    \n",
    "print('Noncounter : ',dict_Noncounter,end = '\\n\\n')\n",
    "print('Counter : ',dict_counter,end = '\\n\\n')\n",
    "print('Hate : ',dict_hate)"
   ]
  },
  {
   "cell_type": "code",
   "execution_count": 10,
   "metadata": {
    "ExecuteTime": {
     "end_time": "2018-11-02T18:47:36.018660Z",
     "start_time": "2018-11-02T18:47:35.903125Z"
    }
   },
   "outputs": [
    {
     "data": {
      "text/plain": [
       "1972"
      ]
     },
     "execution_count": 10,
     "metadata": {},
     "output_type": "execute_result"
    }
   ],
   "source": [
    "#######UserNames of all Counter,non-counter and Hate Users:\n",
    "all_usernames = [i for i in (hate_usernames.union(counter_usernames)).union(Non_counter_usernames)]\n",
    "len(all_usernames)"
   ]
  },
  {
   "cell_type": "code",
   "execution_count": 11,
   "metadata": {
    "ExecuteTime": {
     "end_time": "2018-11-02T18:47:36.191511Z",
     "start_time": "2018-11-02T18:47:36.020849Z"
    }
   },
   "outputs": [],
   "source": [
    "h,c,n,a = [],[],[],[]\n",
    "deleted = np.loadtxt('Deleted_tweets.txt',delimiter = '\\n' , dtype = str)\n",
    "for each_id in deleted:\n",
    "    if re.findall(r'\\w+',each_id)[-1]== 'USER_DELETED':\n",
    "        print(end = '')\n",
    "#         if re.findall(r'\\w+',each_id)[0] in hate_usernames:\n",
    "#             h.append(re.findall(r'\\w+',each_id)[0])\n",
    "#         elif re.findall(r'\\w+',each_id)[0] in counter_usernames:\n",
    "#             c.append(re.findall(r'\\w+',each_id)[0])\n",
    "#         elif re.findall(r'\\w+',each_id)[0] in Non_counter_usernames:\n",
    "#             n.append(re.findall(r'\\w+',each_id)[0])\n",
    "    else:\n",
    "        a.append(re.findall(r'\\w+',each_id)[0])\n",
    "    if each_id in hate_usernamesID:\n",
    "        h.append(each_id)\n",
    "    elif each_id in counter_usernamesID:\n",
    "        c.append(each_id)\n",
    "    elif each_id in Non_counter_usernamesID:\n",
    "        n.append(each_id)\n",
    "hca = []\n",
    "for i in a:\n",
    "    if i in hate_usernames:\n",
    "        hca.append(df[df['original_tweetusername']==i]['original_tweetid'].values[0])\n",
    "    if i in counter_usernames.union(Non_counter_usernames):\n",
    "        hca.append(df[df['replier_user_name']==i]['reply_id'].values[0])"
   ]
  },
  {
   "cell_type": "code",
   "execution_count": 12,
   "metadata": {
    "ExecuteTime": {
     "end_time": "2018-11-02T18:47:36.294948Z",
     "start_time": "2018-11-02T18:47:36.194175Z"
    }
   },
   "outputs": [
    {
     "data": {
      "text/plain": [
       "(169, 412, 84)"
      ]
     },
     "execution_count": 12,
     "metadata": {},
     "output_type": "execute_result"
    }
   ],
   "source": [
    "# (set(h).intersection(set(c)).union(set(h).intersection(set(n)))).union(set(c).intersection(set(n)))\n",
    "len(set(h)^(set(h).intersection((set(c).union(set(n)).union(hca))))) , len(set(c)^(set(c).intersection((set(n).union(set(h)).union(hca))))) , len(set(n)^(set(n).intersection((set(c).union(set(h)).union(hca)))))"
   ]
  },
  {
   "cell_type": "code",
   "execution_count": 13,
   "metadata": {
    "ExecuteTime": {
     "end_time": "2018-11-02T18:47:36.402737Z",
     "start_time": "2018-11-02T18:47:36.297537Z"
    }
   },
   "outputs": [
    {
     "data": {
      "text/plain": [
       "(169, 412, 84)"
      ]
     },
     "execution_count": 13,
     "metadata": {},
     "output_type": "execute_result"
    }
   ],
   "source": [
    "h = set(h)-(set(h).intersection(hca))\n",
    "len(set(h)),len(c),len(n)"
   ]
  },
  {
   "cell_type": "code",
   "execution_count": 14,
   "metadata": {
    "ExecuteTime": {
     "end_time": "2018-11-02T18:47:36.509640Z",
     "start_time": "2018-11-02T18:47:36.405532Z"
    }
   },
   "outputs": [
    {
     "data": {
      "text/plain": [
       "169"
      ]
     },
     "execution_count": 14,
     "metadata": {},
     "output_type": "execute_result"
    }
   ],
   "source": [
    "len(set(h)-(set(h).intersection(hca)))"
   ]
  },
  {
   "cell_type": "markdown",
   "metadata": {},
   "source": [
    "### Finding out intersections b/w users :"
   ]
  },
  {
   "cell_type": "code",
   "execution_count": 15,
   "metadata": {
    "ExecuteTime": {
     "end_time": "2018-11-02T18:47:36.608556Z",
     "start_time": "2018-11-02T18:47:36.512380Z"
    }
   },
   "outputs": [
    {
     "data": {
      "text/plain": [
       "18"
      ]
     },
     "execution_count": 15,
     "metadata": {},
     "output_type": "execute_result"
    }
   ],
   "source": [
    "(len(hate_usernames.intersection(counter_usernames)))"
   ]
  },
  {
   "cell_type": "code",
   "execution_count": 16,
   "metadata": {
    "ExecuteTime": {
     "end_time": "2018-11-02T18:47:36.716961Z",
     "start_time": "2018-11-02T18:47:36.610503Z"
    }
   },
   "outputs": [
    {
     "data": {
      "text/plain": [
       "10"
      ]
     },
     "execution_count": 16,
     "metadata": {},
     "output_type": "execute_result"
    }
   ],
   "source": [
    "len(hate_usernames.intersection(Non_counter_usernames))"
   ]
  },
  {
   "cell_type": "code",
   "execution_count": 17,
   "metadata": {
    "ExecuteTime": {
     "end_time": "2018-11-02T18:47:36.818048Z",
     "start_time": "2018-11-02T18:47:36.719374Z"
    }
   },
   "outputs": [
    {
     "data": {
      "text/plain": [
       "9"
      ]
     },
     "execution_count": 17,
     "metadata": {},
     "output_type": "execute_result"
    }
   ],
   "source": [
    "len(counter_usernames.intersection(Non_counter_usernames))"
   ]
  },
  {
   "cell_type": "markdown",
   "metadata": {},
   "source": [
    "## Category Wise Distribution:"
   ]
  },
  {
   "cell_type": "code",
   "execution_count": 18,
   "metadata": {
    "ExecuteTime": {
     "end_time": "2018-11-02T18:47:36.932464Z",
     "start_time": "2018-11-02T18:47:36.822638Z"
    }
   },
   "outputs": [
    {
     "name": "stdout",
     "output_type": "stream",
     "text": [
      "Category0 Count:223\n",
      "Category1 Count:136\n",
      "Category2 Count:177\n",
      "Category3 Count:69\n",
      "Category4 Count:58\n",
      "Category5 Count:132\n",
      "Category6 Count:168\n",
      "Category7 Count:134\n",
      "Category8 Count:175\n",
      "Category9 Count:357\n",
      "Category11 Count:198\n"
     ]
    }
   ],
   "source": [
    "categories = ['0','1','2','3','4','5','6','7','8','9','11']\n",
    "for i in categories:   \n",
    "    print('Category{} Count:{}'.format(i,(re.findall(r'\\d+',(' '.join(df.tag.tolist())))).count(i)))"
   ]
  },
  {
   "cell_type": "markdown",
   "metadata": {},
   "source": [
    "## Pic Based analysis:"
   ]
  },
  {
   "cell_type": "code",
   "execution_count": 19,
   "metadata": {
    "ExecuteTime": {
     "end_time": "2018-11-02T18:47:46.225811Z",
     "start_time": "2018-11-02T18:47:36.935440Z"
    }
   },
   "outputs": [
    {
     "data": {
      "text/plain": [
       "(12, 145, 60)"
      ]
     },
     "execution_count": 19,
     "metadata": {},
     "output_type": "execute_result"
    }
   ],
   "source": [
    "########### For Hate ###########\n",
    "def get_hateids_with_pics(names):\n",
    "    ids = []\n",
    "    for name in names:\n",
    "        tweets = df[df['original_tweetusername']==name].drop_duplicates(subset = ['original_tweetid'])['original_tweet'].tolist()\n",
    "        IDs = df[df['original_tweetusername']==name].drop_duplicates(subset = ['original_tweetid'])['original_tweetid'].tolist()\n",
    "        if len(tweets)!=1:\n",
    "            for tweet,ID in zip(tweets,IDs):\n",
    "                if re.findall(r'pic.twitter.com/',tweet)!= list():\n",
    "                    ids.append(ID)\n",
    "        else:\n",
    "            if re.findall(r'pic.twitter.com/',tweets[0])!= list():\n",
    "                    ids.append(IDs[0])           \n",
    "    return ids\n",
    "########### For Non-Counter ###########\n",
    "def get_Noncounterids_with_pics(names):\n",
    "    ids = []\n",
    "    for name in names:\n",
    "        tweets = df[df['replier_user_name']==name].drop_duplicates(subset = ['reply_id'])['reply_text'].tolist()\n",
    "        IDs = df[df['replier_user_name']==name].drop_duplicates(subset = ['reply_id'])['reply_id'].tolist()\n",
    "        if len(tweets)!=1:\n",
    "            for tweet,ID in zip(tweets,IDs):\n",
    "                if re.findall(r'pic.twitter.com/',tweet)!= list():\n",
    "                    ids.append(ID)\n",
    "        else:\n",
    "            if re.findall(r'pic.twitter.com/',tweets[0])!= list():\n",
    "#                     print(IDs[0],tweets)\n",
    "                    ids.append(IDs[0])           \n",
    "    return ids\n",
    "######### ID Based Analysis ##############\n",
    "hate_ids_pic = get_hateids_with_pics(hate_usernames)\n",
    "counter_ids_pic = get_Noncounterids_with_pics(counter_usernames) #### For Counter\n",
    "NonCounter_ids_pic = get_Noncounterids_with_pics(Non_counter_usernames)\n",
    "len(hate_ids_pic),len(counter_ids_pic),len(NonCounter_ids_pic)"
   ]
  },
  {
   "cell_type": "code",
   "execution_count": 20,
   "metadata": {
    "ExecuteTime": {
     "end_time": "2018-11-02T18:47:46.230646Z",
     "start_time": "2018-11-02T18:47:46.227943Z"
    }
   },
   "outputs": [],
   "source": [
    "# df.to_json('Refined_Project_Dataset/Binny_Tagged_Final.json',orient = 'records')"
   ]
  },
  {
   "cell_type": "markdown",
   "metadata": {},
   "source": [
    "#### Let's see an example of hate users using pics:|"
   ]
  },
  {
   "cell_type": "code",
   "execution_count": null,
   "metadata": {
    "ExecuteTime": {
     "end_time": "2018-11-06T00:43:31.398997Z",
     "start_time": "2018-11-06T00:43:31.309051Z"
    }
   },
   "outputs": [],
   "source": [
    "df[df['original_tweetusername']=='T_Bowen10']['original_tweet'].values"
   ]
  },
  {
   "cell_type": "markdown",
   "metadata": {},
   "source": [
    "### Pic to Pic Conversations:"
   ]
  },
  {
   "cell_type": "code",
   "execution_count": 22,
   "metadata": {
    "ExecuteTime": {
     "end_time": "2018-11-02T18:47:46.443153Z",
     "start_time": "2018-11-02T18:47:46.310944Z"
    }
   },
   "outputs": [
    {
     "data": {
      "text/plain": [
       "(69, 12)"
      ]
     },
     "execution_count": 22,
     "metadata": {},
     "output_type": "execute_result"
    }
   ],
   "source": [
    "counter_pics = 0\n",
    "for i in hate_ids_pic:\n",
    "    new_df = df[df['original_tweetid']==i]\n",
    "    for j in counter_ids_pic:\n",
    "#         print(new_df['reply_id'].tolist().count(j))\n",
    "        counter_pics+=new_df['reply_id'].tolist().count(j)\n",
    "\n",
    "Noncounter_pics = 0\n",
    "for i in hate_ids_pic:\n",
    "    new_df = df[df['original_tweetid']==i]\n",
    "    for j in NonCounter_ids_pic:\n",
    "#         print(new_df['reply_id'].tolist().count(j))\n",
    "        Noncounter_pics+=new_df['reply_id'].tolist().count(j)\n",
    "counter_pics,Noncounter_pics"
   ]
  },
  {
   "cell_type": "code",
   "execution_count": 23,
   "metadata": {
    "ExecuteTime": {
     "end_time": "2018-11-02T18:47:46.584503Z",
     "start_time": "2018-11-02T18:47:46.445849Z"
    }
   },
   "outputs": [],
   "source": [
    "# for Id in counter_ids_pic:\n",
    "# #     print()\n",
    "#     if re.findall(r'pic.twitter.com/',df[df['reply_id']==Id]['reply_text'].values[0])!= list(): \n",
    "#         if df[df['reply_id']==Id]['tag'].values[0]!= '6':\n",
    "#             if df[df['reply_id']==Id]['tag'].values[0]!= '11':\n",
    "#                 print(df.loc[df['reply_id']==Id ,'tag'].values[0],end = '--------')\n",
    "#                 df.loc[df['reply_id']==Id ,'tag'] +=',6'\n",
    "#                 print(df.loc[df['reply_id']==Id ,'tag'].values[0])\n",
    "#             else:\n",
    "#                 print(df.loc[df['reply_id']==Id ,'tag'].values[0],end = '--------')\n",
    "#                 df.loc[df['reply_id']==Id ,'tag'] = '6'\n",
    "#                 print(df.loc[df['reply_id']==Id ,'tag'].values[0])"
   ]
  },
  {
   "cell_type": "markdown",
   "metadata": {},
   "source": [
    "#######################################__End__######################################"
   ]
  },
  {
   "cell_type": "markdown",
   "metadata": {},
   "source": [
    "## User-Characteristics Analysis :"
   ]
  },
  {
   "cell_type": "code",
   "execution_count": 24,
   "metadata": {
    "ExecuteTime": {
     "end_time": "2018-11-02T18:47:46.947072Z",
     "start_time": "2018-11-02T18:47:46.586395Z"
    }
   },
   "outputs": [],
   "source": [
    "from empath import Empath\n",
    "from vaderSentiment.vaderSentiment import SentimentIntensityAnalyzer\n",
    "lexicon = Empath()\n",
    "sentiment_analyzer = SentimentIntensityAnalyzer()"
   ]
  },
  {
   "cell_type": "code",
   "execution_count": 25,
   "metadata": {
    "ExecuteTime": {
     "end_time": "2018-11-02T18:47:47.024281Z",
     "start_time": "2018-11-02T18:47:46.949721Z"
    }
   },
   "outputs": [],
   "source": [
    "with open('Refined_Project_Dataset/lexicon_hate_user.pkl','rb') as fp:\n",
    "    lexicon_hate_user = pickle.load(fp)\n",
    "with open('Refined_Project_Dataset/lexicon_counter_user.pkl','rb') as fp:\n",
    "    lexicon_counter_user = pickle.load(fp)\n",
    "with open('Refined_Project_Dataset/lexicon_Noncounter_user.pkl','rb') as fp:\n",
    "    lexicon_Noncounter_user = pickle.load(fp)\n",
    "with open('Refined_Project_Dataset/sentiment_hate_user.pkl','rb') as fp:\n",
    "    sentiment_hate_user = pickle.load(fp)\n",
    "with open('Refined_Project_Dataset/sentiment_counter_user.pkl','rb') as fp:\n",
    "    sentiment_counter_user = pickle.load(fp)\n",
    "with open('Refined_Project_Dataset/sentiment_Noncounter_user.pkl','rb') as fp:\n",
    "    sentiment_Noncounter_user = pickle.load(fp)\n",
    "with open('Refined_Project_Dataset/textblob_hate_user.pkl','rb') as fp:\n",
    "    textblob_hate_user = pickle.load(fp)\n",
    "with open('Refined_Project_Dataset/textblob_counter_user.pkl','rb') as fp:\n",
    "    textblob_counter_user = pickle.load(fp)\n",
    "with open('Refined_Project_Dataset/textblob_Noncounter_user.pkl','rb') as fp:\n",
    "    textblob_Noncounter_user = pickle.load(fp)\n",
    "with open('Refined_Project_Dataset/profane_hate_user.pkl','rb') as fp:\n",
    "    profane_hate_user = pickle.load(fp)\n",
    "with open('Refined_Project_Dataset/profane_counter_user.pkl','rb') as fp:\n",
    "    profane_counter_user = pickle.load(fp)\n",
    "with open('Refined_Project_Dataset/profane_Noncounter_user.pkl','rb') as fp:\n",
    "    profane_Noncounter_user = pickle.load(fp)"
   ]
  },
  {
   "cell_type": "code",
   "execution_count": null,
   "metadata": {
    "ExecuteTime": {
     "end_time": "2018-11-02T18:47:51.317061Z",
     "start_time": "2018-11-02T18:47:47.026686Z"
    }
   },
   "outputs": [],
   "source": [
    "import csv\n",
    "Hate_hate = []\n",
    "counter_hate = []\n",
    "Noncounter_hate = []\n",
    "c = 0\n",
    "with open('Refined_Project_Dataset/user_predictions_hate.csv') as fp:\n",
    "    for user_dict in csv.reader(fp,delimiter = '\\n'):\n",
    "        name = re.findall(r'\\w+',user_dict[0])[0]\n",
    "#         print(name)\n",
    "        lst = [int(i) for i in re.findall(r'\\d+',user_dict[0])]\n",
    "        c +=1\n",
    "        if name in hate_usernames:\n",
    "            Hate_hate.append(lst.count(0)/len(lst))\n",
    "        if name in counter_usernames:\n",
    "            counter_hate.append(lst.count(0)/len(lst))\n",
    "        if name in Non_counter_usernames:\n",
    "            Noncounter_hate.append(lst.count(0)/len(lst))"
   ]
  },
  {
   "cell_type": "code",
   "execution_count": null,
   "metadata": {
    "ExecuteTime": {
     "end_time": "2018-11-02T18:47:51.317826Z",
     "start_time": "2018-11-02T13:11:44.215Z"
    }
   },
   "outputs": [],
   "source": [
    "#Hate\n",
    "print('Hate_Mean {}'.format(np.mean(Hate_hate)))\n",
    "print('Counter_Mean {}'.format(np.mean(counter_hate)))\n",
    "print('Noncounter_Mean {}'.format(np.mean(Noncounter_hate)))\n",
    "print('Hate_Median {}'.format(np.median(Hate_hate)))\n",
    "print('Counter_Median {}'.format(np.median(counter_hate)))\n",
    "print('Noncounter_Median {}'.format(np.median(Noncounter_hate)))\n",
    "####### Test :\n",
    "print('Ttest \\n Counter----Hate \\n',ttest_ind(counter_hate,Hate_hate))\n",
    "print('Counter----Noncounter \\n',ttest_ind(counter_hate,Noncounter_hate))\n",
    "print('Hate----Noncounter \\n',ttest_ind(Hate_hate,Noncounter_hate))\n",
    "print('Manwhitneytest \\n Counter----Hate \\n',mannwhitneyu(counter_hate,Hate_hate))\n",
    "print('Counter----Noncounter \\n',mannwhitneyu(counter_hate,Noncounter_hate))\n",
    "print('Hate----Noncounter \\n',mannwhitneyu(Hate_hate,Noncounter_hate))\n",
    "######################## Profane Hate ############################\n",
    "Noncounter_df = pd.DataFrame(np.c_[['NonCounter' for i in range(len(Noncounter_hate))],Noncounter_hate],columns = ['Users',''])\n",
    "counter_df = pd.DataFrame(np.c_[['Counter' for i in range(len(counter_hate))],counter_hate],columns = ['Users',''])\n",
    "hate_df = pd.DataFrame(np.c_[['Hate' for i in range(len(Hate_hate))],Hate_hate],columns = ['Users',''])\n",
    "Comb_df = pd.concat([counter_df,hate_df],ignore_index = True)\n",
    "Comb_df = Comb_df.apply(pd.to_numeric, errors='ignore')\n",
    "plt.figure(figsize = (2.2,2))\n",
    "ax  = sns.boxplot(x = 'Users',y ='',data = Comb_df, linewidth=1,width=0.6,showfliers = False,palette = {'Hate':'#c44e52' ,'Counter':'#55a868'})\n",
    "ax.set_xticklabels('')\n",
    "ax.set_xlabel('')\n",
    "ax.set_title('Hate')\n",
    "plt.tight_layout()\n",
    "plt.savefig('Images/Hate.eps', format='eps')\n",
    "plt.show()"
   ]
  },
  {
   "cell_type": "code",
   "execution_count": null,
   "metadata": {
    "ExecuteTime": {
     "end_time": "2018-11-02T18:47:51.318732Z",
     "start_time": "2018-11-02T13:11:44.297Z"
    }
   },
   "outputs": [],
   "source": [
    "#Offensive\n",
    "print('Hate_Mean {}'.format(np.mean(Hate_hate)))\n",
    "print('Counter_Mean {}'.format(np.mean(counter_hate)))\n",
    "print('Noncounter_Mean {}'.format(np.mean(Noncounter_hate)))\n",
    "print('Hate_Median {}'.format(np.median(Hate_hate)))\n",
    "print('Counter_Median {}'.format(np.median(counter_hate)))\n",
    "print('Noncounter_Median {}'.format(np.median(Noncounter_hate)))\n",
    "####### Test :\n",
    "print('Ttest \\n Counter----Hate \\n',ttest_ind(counter_hate,Hate_hate))\n",
    "print('Counter----Noncounter \\n',ttest_ind(counter_hate,Noncounter_hate))\n",
    "print('Hate----Noncounter \\n',ttest_ind(Hate_hate,Noncounter_hate))\n",
    "print('Manwhitneytest \\n Counter----Hate \\n',mannwhitneyu(counter_hate,Hate_hate))\n",
    "print('Counter----Noncounter \\n',mannwhitneyu(counter_hate,Noncounter_hate))\n",
    "print('Hate----Noncounter \\n',mannwhitneyu(Hate_hate,Noncounter_hate))\n",
    "######################## Profane Offensive ############################\n",
    "Noncounter_df = pd.DataFrame(np.c_[['NonCounter' for i in range(len(Noncounter_hate))],Noncounter_hate],columns = ['Users',''])\n",
    "counter_df = pd.DataFrame(np.c_[['Counter' for i in range(len(counter_hate))],counter_hate],columns = ['Users',''])\n",
    "hate_df = pd.DataFrame(np.c_[['Hate' for i in range(len(Hate_hate))],Hate_hate],columns = ['Users',''])\n",
    "Comb_df = pd.concat([counter_df,hate_df],ignore_index = True)\n",
    "Comb_df = Comb_df.apply(pd.to_numeric, errors='ignore')\n",
    "plt.figure(figsize = (2.2,2))\n",
    "ax  = sns.boxplot(x = 'Users',y ='',data = Comb_df, linewidth=1,width=0.6,showfliers = False,palette = {'Hate':'#c44e52' ,'Counter':'#55a868'})\n",
    "ax.set_xticklabels('')\n",
    "ax.set_xlabel('')\n",
    "ax.set_title('Offensive')\n",
    "plt.tight_layout()\n",
    "plt.savefig('Images/Offensive.eps', format='eps')\n",
    "plt.show()"
   ]
  },
  {
   "cell_type": "markdown",
   "metadata": {},
   "source": [
    "### Counterspeech Category Based Analysis:"
   ]
  },
  {
   "cell_type": "code",
   "execution_count": null,
   "metadata": {
    "ExecuteTime": {
     "end_time": "2018-11-02T18:47:51.319562Z",
     "start_time": "2018-11-02T13:11:44.379Z"
    }
   },
   "outputs": [],
   "source": [
    "df[df['tag']=='1,5,9']"
   ]
  },
  {
   "cell_type": "code",
   "execution_count": null,
   "metadata": {
    "ExecuteTime": {
     "end_time": "2018-11-02T18:47:51.320456Z",
     "start_time": "2018-11-02T13:11:44.468Z"
    }
   },
   "outputs": [],
   "source": [
    "a,c,c1,c2 = 0,0,0,0\n",
    "for i in df[df['tag']!='0']['tag'].tolist():\n",
    "    if len(re.findall(r'\\d+',i))==2:\n",
    "        c1+=1\n",
    "#         print(i)\n",
    "    elif len(re.findall(r'\\d+',i))==3 :\n",
    "#         print(i)\n",
    "        c2+=1\n",
    "    elif len(re.findall(r'\\d+',i))==1 :\n",
    "#         print(i)\n",
    "        c+=1\n",
    "    else:\n",
    "        print(i)\n",
    "        a+=1\n",
    "print(\"\\n1 Label :\",c,\"\\n2 Labels :\",c1,\"\\n3 labels:\",c2,\"\\n4 labels: 2\",\"\\n5 labels: 1\")"
   ]
  },
  {
   "cell_type": "code",
   "execution_count": null,
   "metadata": {
    "ExecuteTime": {
     "end_time": "2018-11-02T18:47:51.321257Z",
     "start_time": "2018-11-02T13:11:44.539Z"
    }
   },
   "outputs": [],
   "source": [
    "When_acting_as_CounterSpeakers_categories_in_which_they_have_tweeted_against_other_hate_speeches =[]\n",
    "When_acting_as_HateSpeakers_categories_in_which_their_hatespeech_has_been_countered_by_other_counter_speakers = []\n",
    "CounterSpeakers_categories = []\n",
    "HateSpeakers_categories = []\n",
    "for name in hate_usernames.intersection(counter_usernames):\n",
    "        CounterSpeakers_categories.append(df[df['replier_user_name']== name]['tag'].tolist())\n",
    "        HateSpeakers_categories.append(df[df['original_tweetusername']== name]['tag'].tolist())\n",
    "# for ind_name in hate_usernames.intersection(counter_usernames):   \n",
    "#     if name == ind_name:\n",
    "#         categories_in_which_their_hatespeech_has_been_tweeted_by_other_counter_speakers.append(tweets[tweets['original_tweetusername']== name]['tag'].values[0])\n",
    "for i in CounterSpeakers_categories:\n",
    "    When_acting_as_CounterSpeakers_categories_in_which_they_have_tweeted_against_other_hate_speeches += i \n",
    "for i in HateSpeakers_categories:\n",
    "    When_acting_as_HateSpeakers_categories_in_which_their_hatespeech_has_been_countered_by_other_counter_speakers += i "
   ]
  },
  {
   "cell_type": "code",
   "execution_count": null,
   "metadata": {
    "ExecuteTime": {
     "end_time": "2018-11-02T18:47:51.322054Z",
     "start_time": "2018-11-02T13:11:44.595Z"
    }
   },
   "outputs": [],
   "source": [
    "df.head(1)"
   ]
  },
  {
   "cell_type": "code",
   "execution_count": null,
   "metadata": {
    "ExecuteTime": {
     "end_time": "2018-11-02T18:47:51.322798Z",
     "start_time": "2018-11-02T13:11:44.653Z"
    }
   },
   "outputs": [],
   "source": [
    "CounterSpeakers_categories,len(CounterSpeakers_categories)"
   ]
  },
  {
   "cell_type": "code",
   "execution_count": null,
   "metadata": {
    "ExecuteTime": {
     "end_time": "2018-11-02T18:47:51.323674Z",
     "start_time": "2018-11-02T13:11:44.716Z"
    }
   },
   "outputs": [],
   "source": [
    "categories = ['0','1','2','3','4','5','6','7','8','9','11']\n",
    "dict_counter = {}\n",
    "dict_hate = {}\n",
    "for i in categories:\n",
    "    dict_counter[i] = (re.findall(r'\\d+',(' '.join(When_acting_as_CounterSpeakers_categories_in_which_they_have_tweeted_against_other_hate_speeches)))).count(i)\n",
    "                \n",
    "for i in categories:\n",
    "    dict_hate[i] = (re.findall(r'\\d+',(' '.join(When_acting_as_HateSpeakers_categories_in_which_their_hatespeech_has_been_countered_by_other_counter_speakers)))).count(i)\n",
    "print(dict_counter)\n",
    "print(dict_hate)"
   ]
  },
  {
   "cell_type": "code",
   "execution_count": null,
   "metadata": {
    "ExecuteTime": {
     "end_time": "2018-11-02T18:47:51.324736Z",
     "start_time": "2018-11-02T13:11:44.776Z"
    }
   },
   "outputs": [],
   "source": [
    "When_acting_as_HateSpeakers_categories_in_which_their_hatespeech_has_been_countered_by_other_counter_speakers"
   ]
  },
  {
   "cell_type": "markdown",
   "metadata": {},
   "source": [
    "### Since the file is too large to process, we will break it into multiple smaller pickle file for efficiency reasons."
   ]
  },
  {
   "cell_type": "code",
   "execution_count": null,
   "metadata": {
    "ExecuteTime": {
     "end_time": "2018-11-02T18:47:51.325545Z",
     "start_time": "2018-11-02T13:11:44.882Z"
    },
    "scrolled": true
   },
   "outputs": [],
   "source": [
    "# dict_user_info = {}\n",
    "# dict_user_tweetid = defaultdict(set)\n",
    "# dict_tweet_info = {}\n",
    "# set_tweet_info = set()\n",
    "# ##### Opening Tweet_Info File:\n",
    "# tweet_info_fp = open('Refined_Project_Dataset/tweet_info.json','w')\n",
    "\n",
    "# with open('Refined_Project_Dataset/Tweet_and_User_Info.json','r') as fp:\n",
    "#     for line_counter, line in enumerate(fp):\n",
    "#         if line_counter%100000==0:\n",
    "#             print(line_counter)\n",
    "#         temp_user = json.loads(line)['user']\n",
    "#         temp_tweet = json.loads(line)\n",
    "# #         print(type(temp_tweet))\n",
    "#         if temp_user['name'] not in dict_user_info:\n",
    "#             dict_user_info[temp_user['screen_name']] = temp_user\n",
    "        \n",
    "#         if temp_tweet['id_str'] not in set_tweet_info:\n",
    "# #             dict_tweet_info[temp_tweet['id_str']] = {'tweet_id':temp_tweet['id_str'], 'tweet_text': temp_tweet['text'],\n",
    "# #                                                     'created_at':temp_tweet['created_at'], 'entities': temp_tweet['entities'],\n",
    "# #                                                     'username': temp_tweet['user']['name']}\n",
    "#             set_tweet_info.add(temp_tweet['id_str'])\n",
    "#         if temp_tweet['retweeted']== False:\n",
    "#             temp_tweet_str = json.dumps({'tweet_id':temp_tweet['id_str'], 'tweet_text': temp_tweet['text'],\n",
    "#                                                     'created_at':temp_tweet['created_at'], 'entities': temp_tweet['entities'],\n",
    "#                                                     'username': temp_tweet['user']['screen_name']})\n",
    "#             tweet_info_fp.write(temp_tweet_str)\n",
    "#             tweet_info_fp.write('\\n')\n",
    "    \n",
    "# #         print(temp_user['name'], temp_tweet['id_str'])\n",
    "#         dict_user_tweetid[temp_user['screen_name']].add(temp_tweet['id_str'])\n",
    "        \n",
    "\n",
    "# with open('Refined_Project_Dataset/user_info.pkl','wb') as fp:\n",
    "#     pickle.dump(dict_user_info,fp)\n",
    "# print('User info pickle done..')\n",
    "\n",
    "# with open('Refined_Project_Dataset/user_tweetid.pkl','wb') as fp:\n",
    "#     pickle.dump(dict_user_tweetid,fp)\n",
    "# print('User tweetid mapping done...')\n",
    "\n",
    "# # with open('./Dataset/tweet_info.pkl','wb') as fp:\n",
    "# #     pickle.dump(dict_tweet_info,fp)\n",
    "# tweet_info_fp.close()\n",
    "# print('Tweet info pickle done...')"
   ]
  },
  {
   "cell_type": "markdown",
   "metadata": {},
   "source": [
    "### tweet_info.json : Contains information about each id and its corresponding TweetData except user information. "
   ]
  },
  {
   "cell_type": "code",
   "execution_count": null,
   "metadata": {
    "ExecuteTime": {
     "end_time": "2018-11-02T18:47:51.326403Z",
     "start_time": "2018-11-02T13:11:44.977Z"
    }
   },
   "outputs": [],
   "source": [
    "# all_user_tweets = defaultdict(list)\n",
    "# binny_hashtags =  {}\n",
    "# binny_hashtags['hate'],binny_hashtags['counter'],binny_hashtags['Noncounter'] = defaultdict(list),defaultdict(list),defaultdict(list)\n",
    "# with open('Refined_Project_Dataset/tweet_info.json','r') as fp:\n",
    "#     for line_counter,line in enumerate(fp):\n",
    "#         temp = json.loads(line.strip())\n",
    "# #         print(temp)\n",
    "# #         break\n",
    "#         print(line_counter)\n",
    "#         if temp['entities']['hashtags']!=[]:\n",
    "#             if temp['username'] in hate_usernames:\n",
    "#                 binny_hashtags['hate'][temp['username']].append(temp['entities']['hashtags'][0]['text'])\n",
    "#             elif temp['username'] in counter_usernames:\n",
    "#                 binny_hashtags['counter'][temp['username']].append(temp['entities']['hashtags'][0]['text'])\n",
    "#             elif temp['username'] in Non_counter_usernames:\n",
    "#                 binny_hashtags['Noncounter'][temp['username']].append(temp['entities']['hashtags'][0]['text'])\n",
    "# #         all_user_tweets[temp['username']].append(temp['tweet_text'])\n",
    "# # with open('Refined_Project_Dataset/all_user_tweets.pkl','wb') as fp:\n",
    "# #     pickle.dump(all_user_tweets, fp)\n",
    "with open('Refined_Project_Dataset/all_user_tweets.pkl','rb') as fp:\n",
    "    all_user_tweets = pickle.load(fp)\n",
    "# with open('Refined_Project_Dataset/Binny_hashtag_words_per_user.pkl','wb') as fp:\n",
    "#     pickle.dump(binny_hashtags,fp)\n",
    "# len(binny_hashtags['hate'].keys())"
   ]
  },
  {
   "cell_type": "code",
   "execution_count": null,
   "metadata": {
    "ExecuteTime": {
     "end_time": "2018-11-02T18:47:51.327434Z",
     "start_time": "2018-11-02T13:11:45.035Z"
    }
   },
   "outputs": [],
   "source": [
    "# len(binny_hashtags['hate'].keys()),len(binny_hashtags['counter'].keys()),len(binny_hashtags['Noncounter'].keys())"
   ]
  },
  {
   "cell_type": "code",
   "execution_count": null,
   "metadata": {
    "ExecuteTime": {
     "end_time": "2018-11-02T18:47:51.328329Z",
     "start_time": "2018-11-02T13:11:45.089Z"
    }
   },
   "outputs": [],
   "source": [
    "len(list(all_user_tweets.values())[1532])"
   ]
  },
  {
   "cell_type": "markdown",
   "metadata": {},
   "source": [
    "### Ravina Dataset:"
   ]
  },
  {
   "cell_type": "code",
   "execution_count": 29,
   "metadata": {
    "ExecuteTime": {
     "end_time": "2018-10-29T01:43:37.607592Z",
     "start_time": "2018-10-29T01:43:37.600820Z"
    }
   },
   "outputs": [],
   "source": [
    "# all_tweets_corresponding_to_hate_usernames = {}\n",
    "# all_tweets_corresponding_to_counter_usernames = {}\n",
    "# for name,tweets in all_user_tweets.items():\n",
    "#     if name in hate :\n",
    "#         all_tweets_corresponding_to_hate_usernames.update({name:tweets})\n",
    "#     elif name in counter:\n",
    "#         all_tweets_corresponding_to_counter_usernames.update({name:tweets})\n",
    "\n",
    "# with open('all_tweets_corresponding_to_counter_usernames.pkl','wb') as fp :\n",
    "#     pickle.dump(all_tweets_corresponding_to_counter_usernames,fp)\n",
    "# with open('all_tweets_corresponding_to_hate_usernames.pkl','wb') as fp :\n",
    "#     pickle.dump(all_tweets_corresponding_to_hate_usernames,fp)\n",
    "    \n",
    "# with open('./Dataset/user_info.pkl','rb') as fp:\n",
    "#         user_tweet_info = pickle.load(fp)\n",
    "\n",
    "# user_tweet_info_hate = {}\n",
    "# user_tweet_info_counter = {}\n",
    "# for name,tweet_info in user_tweet_info.items():\n",
    "#     if name in hate :\n",
    "#         user_tweet_info_hate.update({name:tweet_info})\n",
    "#     elif name in counter:\n",
    "#         user_tweet_info_counter.update({name:tweet_info})\n",
    "\n",
    "# with open('user_tweet_info_counter.pkl','wb') as fp :\n",
    "#     pickle.dump(user_tweet_info_counter,fp)\n",
    "# with open('user_tweet_info_hate.pkl','wb') as fp :\n",
    "#     pickle.dump(user_tweet_info_hate,fp)\n",
    "\n"
   ]
  },
  {
   "cell_type": "markdown",
   "metadata": {},
   "source": [
    "### Hashtag Based Analysis :"
   ]
  },
  {
   "cell_type": "markdown",
   "metadata": {},
   "source": [
    "* __hashtag_words_Hate__ : Dictionary with keys as __hate users__ names and values equal to list of all hashtag words posted by that particlar user. \n",
    "* __hashtag_words_Counter__ :Dictionary with keys as __Counter users__ names and values equal to list of all hashtag words posted by that particlar user."
   ]
  },
  {
   "cell_type": "code",
   "execution_count": 30,
   "metadata": {
    "ExecuteTime": {
     "end_time": "2018-10-29T01:43:40.589572Z",
     "start_time": "2018-10-29T01:43:38.235595Z"
    }
   },
   "outputs": [],
   "source": [
    "hashtag_words_Hate = []\n",
    "hashtag_words_Counter = []    \n",
    "hashtag_words_NonCounter = []\n",
    "\n",
    "######################################################\n",
    "\n",
    "hashtag_words_Hate_userwise = {}\n",
    "hashtag_words_Counter_userwise = {}\n",
    "hashtag_words_NonCounter_userwise = {}\n",
    "######################################################\n",
    "\n",
    "hashtags_per_tweet_hate = []\n",
    "hashtags_per_tweet_counter = []\n",
    "hashtags_per_tweet_NonCounter = []\n",
    "######################################################\n",
    "\n",
    "# hate_users_tweets_less_than_10 = []\n",
    "# counter_users_tweets_less_than_10 = []\n",
    "\n",
    "for name,tweets in all_user_tweets.items():\n",
    "    ind_tweets = ' '.join(tweets)    ##### all tweets for particular user\n",
    "    if name.strip() in hate_usernames:\n",
    "        hashtag_words_Hate.append(' '.join([i for i in set(re.findall(r'\\w+',' '.join(re.findall(r'#\\w+',ind_tweets))))]))\n",
    "        hashtag_words_Hate_userwise[name] = re.findall(r'\\w+',' '.join(re.findall(r'#\\w+',ind_tweets)))\n",
    "        hashtags_per_tweet_hate.append(len(hashtag_words_Hate_userwise[name])/len(tweets))\n",
    "#         if len(tweets)<10:\n",
    "#             hate_users_tweets_less_than_10.append(name)\n",
    "            \n",
    "    elif name.strip() in counter_usernames:\n",
    "        hashtag_words_Counter.append(' '.join([i for i in set(re.findall(r'\\w+',' '.join(re.findall(r'#\\w+',ind_tweets))))]))\n",
    "        hashtag_words_Counter_userwise[name] = re.findall(r'\\w+',' '.join(re.findall(r'#\\w+',ind_tweets))) \n",
    "        hashtags_per_tweet_counter.append(len(hashtag_words_Counter_userwise[name])/len(tweets))\n",
    "#         if len(tweets)<10:\n",
    "#             counter_users_tweets_less_than_10.append(name)\n",
    "    elif name.strip() in Non_counter_usernames:\n",
    "        hashtag_words_NonCounter.append(' '.join([i for i in set(re.findall(r'\\w+',' '.join(re.findall(r'#\\w+',ind_tweets))))]))\n",
    "        hashtag_words_NonCounter_userwise[name] = re.findall(r'\\w+',' '.join(re.findall(r'#\\w+',ind_tweets))) \n",
    "        hashtags_per_tweet_NonCounter.append(len(hashtag_words_NonCounter_userwise[name])/len(tweets))\n",
    "hashtag_words_Hate_wordcloud = np.array(sorted(Counter(re.findall(r'\\w+',(' '.join(hashtag_words_Hate)).lower())).items(),key = lambda x : x[1],reverse = True))[:200,0]\n",
    "hashtag_words_Counter_wordcloud = np.array(sorted(Counter(re.findall(r'\\w+',(' '.join(hashtag_words_Counter)).lower())).items(),key = lambda x : x[1],reverse = True))[:200,0]\n",
    "hashtag_words_NonCounter_wordcloud = np.array(sorted(Counter(re.findall(r'\\w+',(' '.join(hashtag_words_NonCounter)).lower())).items(),key = lambda x : x[1],reverse = True))[:200,0]"
   ]
  },
  {
   "cell_type": "code",
   "execution_count": 31,
   "metadata": {
    "ExecuteTime": {
     "end_time": "2018-10-29T01:43:40.594045Z",
     "start_time": "2018-10-29T01:43:40.591468Z"
    }
   },
   "outputs": [],
   "source": [
    "# with open('Refined_Project_Dataset/hashtag_words_Hate_wordcloud.json','w') as fp:\n",
    "#     json.dump(sorted(Counter(re.findall(r'[a-zA-Z]+',' '.join(hashtag_words_Hate))).items(),key = lambda x : x[1],reverse = True),fp)\n",
    "# with open('Refined_Project_Dataset/hashtag_words_Counter_wordcloud.json','w') as fp:\n",
    "#     json.dump(sorted(Counter(re.findall(r'[a-zA-Z]+',' '.join(hashtag_words_Counter))).items(),key = lambda x : x[1],reverse = True),fp)\n",
    "# with open('Refined_Project_Dataset/hashtag_words_NonCounter_wordcloud.json','w') as fp:\n",
    "#     json.dump(sorted(Counter(re.findall(r'[a-zA-Z]+',' '.join(hashtag_words_NonCounter))).items(),key = lambda x : x[1],reverse = True),fp)"
   ]
  },
  {
   "cell_type": "code",
   "execution_count": 41,
   "metadata": {
    "ExecuteTime": {
     "end_time": "2018-10-23T21:36:12.719657Z",
     "start_time": "2018-10-23T21:36:12.711900Z"
    }
   },
   "outputs": [
    {
     "data": {
      "text/plain": [
       "(200, 200, 200)"
      ]
     },
     "execution_count": 41,
     "metadata": {},
     "output_type": "execute_result"
    }
   ],
   "source": [
    "# np.savetxt('hashtag_words_Hate_wordcloud.txt',[hashtag_words_Hate_wordcloud],fmt = '%s')\n",
    "# np.savetxt('hashtag_words_Counter_wordcloud.txt',[hashtag_words_Counter_wordcloud],fmt = '%s')\n",
    "# np.savetxt('hashtag_words_NonCounter_wordcloud.txt',[hashtag_words_NonCounter_wordcloud],fmt = '%s')\n",
    "len(hashtag_words_Hate_wordcloud), len(hashtag_words_Counter_wordcloud),len(hashtag_words_NonCounter_wordcloud)"
   ]
  },
  {
   "cell_type": "code",
   "execution_count": 42,
   "metadata": {
    "ExecuteTime": {
     "end_time": "2018-10-23T21:36:14.077878Z",
     "start_time": "2018-10-23T21:36:14.070999Z"
    }
   },
   "outputs": [
    {
     "data": {
      "text/plain": [
       "array(['1', 'newprofilepic', '2', 'worldcup', 'tbt', 'breaking', 'metoo',\n",
       "       'blackpanther', 'trump', 'netneutrality'], dtype='<U58')"
      ]
     },
     "execution_count": 42,
     "metadata": {},
     "output_type": "execute_result"
    }
   ],
   "source": [
    "hashtag_words_NonCounter_wordcloud[:10]"
   ]
  },
  {
   "cell_type": "markdown",
   "metadata": {},
   "source": [
    "* __hashtag_words_Hate_wordcloud__ : List of all hashtag words posted by all __Hate users__. \n",
    "* __hashtag_words_Counter_wordcloud__ :List of all hashtag words posted by all __Counter users__.\n",
    "* __hashtag_words_NonCounter_wordcloud__ :List of all hashtag words posted by all __NonCounter users__."
   ]
  },
  {
   "cell_type": "markdown",
   "metadata": {},
   "source": [
    "### T-Test/Mann-Whitney U-Test and Boxplot :"
   ]
  },
  {
   "cell_type": "code",
   "execution_count": 129,
   "metadata": {
    "ExecuteTime": {
     "end_time": "2018-10-23T22:24:01.425703Z",
     "start_time": "2018-10-23T22:24:00.918887Z"
    }
   },
   "outputs": [
    {
     "name": "stdout",
     "output_type": "stream",
     "text": [
      "Hate Vs Counter\n",
      "Ttest_indResult(statistic=4.13489708078942, pvalue=3.7283125451743634e-05)\n",
      "MannwhitneyuResult(statistic=243545.5, pvalue=1.1986761645065478e-08)\n",
      "\n",
      "Hate Vs NonCounter\n",
      "Ttest_indResult(statistic=1.4694908541389018, pvalue=0.1421522072031254)\n",
      "MannwhitneyuResult(statistic=40673.5, pvalue=0.001183110248419422)\n",
      "\n",
      "Counter Vs NonCounter\n",
      "Ttest_indResult(statistic=1.4197946271126023, pvalue=0.15589990141702753)\n",
      "MannwhitneyuResult(statistic=104492.0, pvalue=0.20416659296044926)\n"
     ]
    },
    {
     "data": {
      "image/png": "[encoded data removed]",
      "text/plain": [
       "<Figure size 158.4x144 with 1 Axes>"
      ]
     },
     "metadata": {},
     "output_type": "display_data"
    },
    {
     "data": {
      "image/png": "[encoded data removed]",
      "text/plain": [
       "<Figure size 158.4x144 with 1 Axes>"
      ]
     },
     "metadata": {},
     "output_type": "display_data"
    },
    {
     "data": {
      "text/plain": [
       "['#4c72b0', '#55a868', '#c44e52', '#8172b2', '#ccb974', '#64b5cd']"
      ]
     },
     "execution_count": 129,
     "metadata": {},
     "output_type": "execute_result"
    }
   ],
   "source": [
    "sns.set()\n",
    "Noncounter_df = pd.DataFrame(np.c_[['NonCounter' for i in range(len(hashtags_per_tweet_NonCounter))],hashtags_per_tweet_NonCounter],columns = ['Users',''])\n",
    "counter_df = pd.DataFrame(np.c_[['Counter' for i in range(len(hashtags_per_tweet_counter))],hashtags_per_tweet_counter],columns = ['Users',''])\n",
    "hate_df = pd.DataFrame(np.c_[['Hate' for i in range(len(hashtags_per_tweet_hate))],hashtags_per_tweet_hate],columns = ['Users',''])\n",
    "Comb_df = pd.concat([counter_df,hate_df],ignore_index = True)\n",
    "Comb_df = Comb_df.apply(pd.to_numeric, errors='ignore')\n",
    "print('Hate Vs Counter')\n",
    "print(ttest_ind(hashtags_per_tweet_counter,hashtags_per_tweet_hate))\n",
    "print(mannwhitneyu(hashtags_per_tweet_counter,hashtags_per_tweet_hate),end = '\\n\\n')\n",
    "print('Hate Vs NonCounter')\n",
    "print(ttest_ind(hashtags_per_tweet_NonCounter,hashtags_per_tweet_hate))\n",
    "print(mannwhitneyu(hashtags_per_tweet_NonCounter,hashtags_per_tweet_hate),end = '\\n\\n')\n",
    "print('Counter Vs NonCounter')\n",
    "print(ttest_ind(hashtags_per_tweet_counter,hashtags_per_tweet_NonCounter))\n",
    "print(mannwhitneyu(hashtags_per_tweet_counter,hashtags_per_tweet_NonCounter))\n",
    "# palette = {'Counter':'darkslateblue','Hate':'crimson','NonCounter':'forestgreen'}\n",
    "plt.figure(figsize=(2.2,2))\n",
    "ax = sns.boxplot(x = 'Users',y ='',data = Comb_df ,showfliers = False, linewidth=1,width=0.5,palette = {'Hate':'#c44e52' ,'Counter':'#55a868'})\n",
    "ax.set_xticklabels('')\n",
    "plt.xlabel('')\n",
    "plt.title('hashtags/tweet')\n",
    "plt.tight_layout()\n",
    "plt.savefig('Images/hashtagsPERtweet.eps', format='eps')\n",
    "plt.show()\n",
    "############################### Barplot#############################\n",
    "plt.figure(figsize=(2.2,2))\n",
    "ax = sns.barplot(x = 'Users',y ='',data = Comb_df,estimator = np.median,errwidth=1.2 )\n",
    "ax.set_xticklabels('')\n",
    "plt.title('hashtags/tweet')\n",
    "plt.xlabel('')\n",
    "plt.tight_layout()\n",
    "plt.show()\n",
    "current_palette = sns.color_palette()\n",
    "current_palette.as_hex()"
   ]
  },
  {
   "cell_type": "markdown",
   "metadata": {},
   "source": [
    "## Lexical and Sentiment analysis on hatespeakes and CounterSpeaker Tweets: "
   ]
  },
  {
   "cell_type": "markdown",
   "metadata": {},
   "source": [
    "* Below __Code snippet__ implements __lexicon_counter_user__,__lexicon_hate_user__,__sentiment_counter_user__ ,__sentiment_hate_user__"
   ]
  },
  {
   "cell_type": "markdown",
   "metadata": {},
   "source": [
    "* __Lexical Analysis and TextBlob:__"
   ]
  },
  {
   "cell_type": "markdown",
   "metadata": {},
   "source": [
    "## Interest Topics :"
   ]
  },
  {
   "cell_type": "code",
   "execution_count": 110,
   "metadata": {
    "ExecuteTime": {
     "end_time": "2018-11-03T01:48:45.921154Z",
     "start_time": "2018-11-03T01:48:45.917742Z"
    }
   },
   "outputs": [
    {
     "data": {
      "text/plain": [
       "(548, 1239)"
      ]
     },
     "execution_count": 110,
     "metadata": {},
     "output_type": "execute_result"
    }
   ],
   "source": [
    "len(hate_usernames),len(counter_usernames)"
   ]
  },
  {
   "cell_type": "code",
   "execution_count": 122,
   "metadata": {
    "ExecuteTime": {
     "end_time": "2018-11-03T02:37:41.692843Z",
     "start_time": "2018-11-03T02:37:40.713358Z"
    }
   },
   "outputs": [
    {
     "name": "stderr",
     "output_type": "stream",
     "text": [
      "100%|██████████| 3/3 [00:00<00:00, 26.16it/s]"
     ]
    },
    {
     "name": "stdout",
     "output_type": "stream",
     "text": [
      "all--1637\n",
      "popular--823\n",
      "niche--4573\n"
     ]
    },
    {
     "name": "stderr",
     "output_type": "stream",
     "text": [
      "\n",
      "100%|██████████| 3/3 [00:00<00:00,  8.95it/s]\n"
     ]
    }
   ],
   "source": [
    "from tqdm import tqdm\n",
    "with open('output328.json','r') as fp:\n",
    "    output = json.load(fp)\n",
    "len_hate = len(hate_usernames.intersection(set(output.keys()))) \n",
    "len_counter = len((counter_usernames.union(Non_counter_usernames)).intersection(set(output.keys()))) \n",
    "\n",
    "hateuser_interests = {}\n",
    "Counteruser_interests = {}\n",
    "for user in output.keys():\n",
    "    try:\n",
    "        if user in hate_usernames:\n",
    "            hateuser_interests[user]={}\n",
    "            for each_category_list in output[user]['response']:\n",
    "                hateuser_interests[user][each_category_list[0]] = {}\n",
    "                sum_  = sum(list(each_category_list[1].values()))\n",
    "                for key,value in each_category_list[1].items():\n",
    "                    hateuser_interests[user][each_category_list[0]].update({key : value/sum_})\n",
    "        if user in counter_usernames:\n",
    "            Counteruser_interests[user]={}\n",
    "            for each_category_list in output[user]['response']:\n",
    "                Counteruser_interests[user][each_category_list[0]] = {}\n",
    "                sum_  = sum(list(each_category_list[1].values()))\n",
    "                for key,value in each_category_list[1].items():\n",
    "                    Counteruser_interests[user][each_category_list[0]].update({key : value/sum_})\n",
    "    except:\n",
    "        pass\n",
    "#------------------------------------------------------------------------------------------\n",
    "hate = {}\n",
    "for dict_ in hateuser_interests.values():\n",
    "    for class_,values_dict in dict_.items(): \n",
    "        if class_ not in hate.keys():\n",
    "                hate[class_] = {}\n",
    "        else:\n",
    "            for name,value in values_dict.items():\n",
    "                if name not in hate[class_].keys():\n",
    "                    hate[class_][name] = []\n",
    "                else:\n",
    "                    hate[class_][name].append(value)\n",
    "counter = {}\n",
    "for dict_ in Counteruser_interests.values():\n",
    "    for class_,values_dict in dict_.items(): \n",
    "        if class_ not in counter.keys():\n",
    "                counter[class_] = {}\n",
    "        else:\n",
    "            for name,value in values_dict.items():\n",
    "                if name not in counter[class_].keys():\n",
    "                    counter[class_][name] = []\n",
    "                else:\n",
    "                    counter[class_][name].append(value)\n",
    "#--------------------------------------------------------------------\n",
    "vocab = {}\n",
    "for class_ in hate.keys():\n",
    "    vocab[class_]=[i for i in set(list(hate[class_].keys())+list(counter[class_].keys()))]\n",
    "    print('{}--{}'.format(class_,len(vocab[class_])))\n",
    "#-------------------------------------------------------\n",
    "# Binny asked Dictionary:\n",
    "#Hate\n",
    "for class_,topic_dict in tqdm(hate.items()):\n",
    "    for topic,value in topic_dict.items():\n",
    "                if hate[class_][topic]==[]:\n",
    "                    hate[class_][topic].extend(np.zeros(len(hate_usernames)).tolist())\n",
    "                else:\n",
    "                    hate[class_][topic].extend(np.zeros(len(hate_usernames)-len(hate[class_][topic])).tolist())\n",
    "for class_,topics in vocab.items():\n",
    "    for name in topics:\n",
    "        if name not in hate[class_].keys():\n",
    "            hate[class_][name] = np.zeros(len(hate_usernames)).tolist()\n",
    "#Counter            \n",
    "for class_,topic_dict in tqdm(counter.items()):\n",
    "    for topic,value in topic_dict.items():\n",
    "                if counter[class_][topic]==[]:\n",
    "                    counter[class_][topic].extend(np.zeros(len(counter_usernames)).tolist())\n",
    "                else:\n",
    "                    counter[class_][topic].extend(np.zeros(len(counter_usernames)-len(counter[class_][topic])).tolist())\n",
    "for class_,topics in vocab.items():\n",
    "    for name in topics:\n",
    "        if name not in counter[class_].keys():\n",
    "            counter[class_][name] = np.zeros(len(counter_usernames)).tolist()\n",
    "# with open('Refined_Project_Dataset/Binny_Hate_interest_dict.json','w') as fp:\n",
    "#     json.dump(hate,fp)\n",
    "# with open('Refined_Project_Dataset/Binny_Counter_interest_dict.json','w') as fp:\n",
    "#     json.dump(counter,fp)\n",
    "# with open('Refined_Project_Dataset/Binny_Hate_interest_dict.json','r') as fp:\n",
    "#     hate = json.load(fp)\n",
    "# with open('Refined_Project_Dataset/Binny_Counter_interest_dict.json','r') as fp:\n",
    "#     counter = json.load(fp)"
   ]
  },
  {
   "cell_type": "code",
   "execution_count": 137,
   "metadata": {
    "ExecuteTime": {
     "end_time": "2018-11-03T05:06:08.494693Z",
     "start_time": "2018-11-03T05:06:05.334822Z"
    }
   },
   "outputs": [
    {
     "name": "stdout",
     "output_type": "stream",
     "text": [
      "**************************** all *******************************\n",
      "bbc\n",
      "Hate-Mean: 0.00015659421075130714--Median: 0.0 | Counter-Mean: 1.7764299255374202e-05--Median: 0.0\n",
      "MannwhitneyuResult(statistic=337283.0, pvalue=0.008345760341552258)\n",
      "\n",
      "ncaa\n",
      "Hate-Mean: 0.00015719560992236592--Median: 0.0 | Counter-Mean: 0.0--Median: 0.0\n",
      "MannwhitneyuResult(statistic=337627.5, pvalue=0.004591739919921564)\n",
      "\n",
      "nba players\n",
      "Hate-Mean: 0.0004467558107353772--Median: 0.0 | Counter-Mean: 0.0001380229936761032--Median: 0.0\n",
      "MannwhitneyuResult(statistic=335564.5, pvalue=0.006813612204461781)\n",
      "\n",
      "niggas\n",
      "Hate-Mean: 0.0004345352082767713--Median: 0.0 | Counter-Mean: 0.00010200964160115918--Median: 0.0\n",
      "MannwhitneyuResult(statistic=335016.0, pvalue=0.0012683928275952887)\n",
      "\n",
      "shit\n",
      "Hate-Mean: 0.0014694689615932922--Median: 0.0 | Counter-Mean: 0.0008069067061101916--Median: 0.0\n",
      "MannwhitneyuResult(statistic=331599.5, pvalue=0.008206764033900681)\n",
      "\n",
      "tube\n",
      "Hate-Mean: 0.0011194900705917643--Median: 0.0 | Counter-Mean: 0.00039864411667646924--Median: 0.0\n",
      "MannwhitneyuResult(statistic=333055.0, pvalue=0.0026908567572964492)\n",
      "\n",
      "hoops\n",
      "Hate-Mean: 0.0003940709935424973--Median: 0.0 | Counter-Mean: 0.00011986803983292157--Median: 0.0\n",
      "MannwhitneyuResult(statistic=335556.5, pvalue=0.006718431021018907)\n",
      "\n",
      "country music\n",
      "Hate-Mean: 0.0002596460183859339--Median: 0.0 | Counter-Mean: 2.5487447432139673e-05--Median: 0.0\n",
      "MannwhitneyuResult(statistic=337281.5, pvalue=0.00830874627694689)\n",
      "\n",
      "professional\n",
      "Hate-Mean: 0.00032502025377773887--Median: 0.0 | Counter-Mean: 7.257904011838336e-05--Median: 0.0\n",
      "MannwhitneyuResult(statistic=336240.5, pvalue=0.008622641378523204)\n",
      "\n",
      "timeline\n",
      "Hate-Mean: 0.000728045630302709--Median: 0.0 | Counter-Mean: 0.00010513859534528947--Median: 0.0\n",
      "MannwhitneyuResult(statistic=333409.5, pvalue=0.0001635103560464963)\n",
      "\n",
      "funny shit\n",
      "Hate-Mean: 0.0001533067661863423--Median: 0.0 | Counter-Mean: 0.0--Median: 0.0\n",
      "MannwhitneyuResult(statistic=337627.5, pvalue=0.004591739919921564)\n",
      "\n",
      "monster brasil\n",
      "Hate-Mean: 0.00013129636303512132--Median: 0.0 | Counter-Mean: 0.0--Median: 0.0\n",
      "MannwhitneyuResult(statistic=337627.5, pvalue=0.004591739919921564)\n",
      "\n",
      "**************************** popular *******************************\n",
      "texas\n",
      "Hate-Mean: 0.00035640081996847565--Median: 0.0 | Counter-Mean: 0.0--Median: 0.0\n",
      "MannwhitneyuResult(statistic=337008.0, pvalue=0.0013096415212768273)\n",
      "\n",
      "entertainers\n",
      "Hate-Mean: 0.0002459841849855671--Median: 0.0 | Counter-Mean: 0.0--Median: 0.0\n",
      "MannwhitneyuResult(statistic=337627.5, pvalue=0.004591739919921564)\n",
      "\n",
      "shit\n",
      "Hate-Mean: 0.002018665357662875--Median: 0.0 | Counter-Mean: 0.0010598515419282524--Median: 0.0\n",
      "MannwhitneyuResult(statistic=328595.5, pvalue=0.0019404272673881205)\n",
      "\n",
      "timeline\n",
      "Hate-Mean: 0.0006396051292161534--Median: 0.0 | Counter-Mean: 5.6335422280255124e-05--Median: 0.0\n",
      "MannwhitneyuResult(statistic=334103.0, pvalue=0.00013866532475585058)\n",
      "\n",
      "basket\n",
      "Hate-Mean: 0.00023534539183515734--Median: 0.0 | Counter-Mean: 6.332605381322178e-05--Median: 0.0\n",
      "MannwhitneyuResult(statistic=336597.0, pvalue=0.009584633525915515)\n",
      "\n",
      "cute\n",
      "Hate-Mean: 0.0002948284553678427--Median: 0.0 | Counter-Mean: 2.7798809086524883e-05--Median: 0.0\n",
      "MannwhitneyuResult(statistic=336931.5, pvalue=0.009463659472743741)\n",
      "\n",
      "**************************** niche *******************************\n",
      "miscellaneous\n",
      "Hate-Mean: 0.0013833684742526942--Median: 0.0 | Counter-Mean: 0.0004609332617383561--Median: 0.0\n",
      "MannwhitneyuResult(statistic=329181.0, pvalue=6.77115834103104e-05)\n",
      "\n",
      "crazy\n",
      "Hate-Mean: 0.00042866530325805864--Median: 0.0 | Counter-Mean: 5.339497142927747e-05--Median: 0.0\n",
      "MannwhitneyuResult(statistic=335696.5, pvalue=0.00106165730088776)\n",
      "\n",
      "homies\n",
      "Hate-Mean: 0.0009128807238996187--Median: 0.0 | Counter-Mean: 0.00014266253214530978--Median: 0.0\n",
      "MannwhitneyuResult(statistic=332094.0, pvalue=5.965606269087396e-05)\n",
      "\n",
      "mother\n",
      "Hate-Mean: 0.00027523067962832037--Median: 0.0 | Counter-Mean: 5.8361909316980606e-05--Median: 0.0\n",
      "MannwhitneyuResult(statistic=336936.5, pvalue=0.009580987707312423)\n",
      "\n",
      "adult industry\n",
      "Hate-Mean: 0.0004252702561764007--Median: 0.0 | Counter-Mean: 6.664826426759589e-05--Median: 0.0\n",
      "MannwhitneyuResult(statistic=336317.0, pvalue=0.0032213360951714198)\n",
      "\n",
      "guns\n",
      "Hate-Mean: 0.0002153769728072398--Median: 0.0 | Counter-Mean: 0.0--Median: 0.0\n",
      "MannwhitneyuResult(statistic=337627.5, pvalue=0.004591739919921564)\n",
      "\n",
      "sneakers\n",
      "Hate-Mean: 0.0009800428587325425--Median: 0.0 | Counter-Mean: 0.00029110661586930544--Median: 0.0\n",
      "MannwhitneyuResult(statistic=336243.0, pvalue=0.008665685449941514)\n",
      "\n",
      "nicki\n",
      "Hate-Mean: 0.0005129008742357085--Median: 0.0 | Counter-Mean: 0.00011473515960056339--Median: 0.0\n",
      "MannwhitneyuResult(statistic=336939.5, pvalue=0.009651997652127821)\n",
      "\n",
      "niggas\n",
      "Hate-Mean: 0.005556173606196713--Median: 0.0 | Counter-Mean: 0.0031828283172332748--Median: 0.0\n",
      "MannwhitneyuResult(statistic=328055.5, pvalue=0.008369154483469044)\n",
      "\n",
      "tgod\n",
      "Hate-Mean: 0.0002965334614300448--Median: 0.0 | Counter-Mean: 6.120059347473878e-05--Median: 0.0\n",
      "MannwhitneyuResult(statistic=336589.5, pvalue=0.009429546583194958)\n",
      "\n",
      "ufc fighters\n",
      "Hate-Mean: 0.0006547303143139519--Median: 0.0 | Counter-Mean: 0.00025714908837085396--Median: 0.0\n",
      "MannwhitneyuResult(statistic=335979.0, pvalue=0.003485873074390828)\n",
      "\n",
      "official nba\n",
      "Hate-Mean: 0.00015585494545216857--Median: 0.0 | Counter-Mean: 0.0--Median: 0.0\n",
      "MannwhitneyuResult(statistic=337008.0, pvalue=0.0013096415212768273)\n",
      "\n",
      "film news\n",
      "Hate-Mean: 0.0003058165009460284--Median: 0.0 | Counter-Mean: 1.8343238682221733e-05--Median: 0.0\n",
      "MannwhitneyuResult(statistic=337280.0, pvalue=0.008271883239012729)\n",
      "\n",
      "travel companies\n",
      "Hate-Mean: 0.00021970109973406418--Median: 0.0 | Counter-Mean: 0.0--Median: 0.0\n",
      "MannwhitneyuResult(statistic=337008.0, pvalue=0.0013096415212768273)\n",
      "\n",
      "basketball association\n",
      "Hate-Mean: 0.00017836954528810604--Median: 0.0 | Counter-Mean: 2.9892685259916896e-05--Median: 0.0\n",
      "MannwhitneyuResult(statistic=337284.0, pvalue=0.008370514458090327)\n",
      "\n",
      "phone apps\n",
      "Hate-Mean: 0.000237420105703954--Median: 0.0 | Counter-Mean: 4.0355125100887815e-05--Median: 0.0\n",
      "MannwhitneyuResult(statistic=337284.0, pvalue=0.008370514458090327)\n",
      "\n",
      "sports teams\n",
      "Hate-Mean: 0.0010235331141664685--Median: 0.0 | Counter-Mean: 0.000337254829252043--Median: 0.0\n",
      "MannwhitneyuResult(statistic=333821.5, pvalue=0.0028192646761579553)\n",
      "\n",
      "fifth\n",
      "Hate-Mean: 0.00039600666464283585--Median: 0.0 | Counter-Mean: 5.660108557348651e-05--Median: 0.0\n",
      "MannwhitneyuResult(statistic=336585.0, pvalue=0.00933755826133817)\n",
      "\n",
      "sprint cup\n",
      "Hate-Mean: 0.0001595415549026253--Median: 0.0 | Counter-Mean: 0.0--Median: 0.0\n",
      "MannwhitneyuResult(statistic=337627.5, pvalue=0.004591739919921564)\n",
      "\n",
      "nbateams\n",
      "Hate-Mean: 0.00026506248534005665--Median: 0.0 | Counter-Mean: 0.0--Median: 0.0\n",
      "MannwhitneyuResult(statistic=337008.0, pvalue=0.0013096415212768273)\n",
      "\n",
      "nba news\n",
      "Hate-Mean: 0.0020427683958896482--Median: 0.0 | Counter-Mean: 0.0007337389533227586--Median: 0.0\n",
      "MannwhitneyuResult(statistic=334266.0, pvalue=0.009853465348204277)\n",
      "\n",
      "hoop\n",
      "Hate-Mean: 0.00015537700955144397--Median: 0.0 | Counter-Mean: 0.0--Median: 0.0\n",
      "MannwhitneyuResult(statistic=337008.0, pvalue=0.0013096415212768273)\n",
      "\n",
      "report\n",
      "Hate-Mean: 0.0003222994795219152--Median: 0.0 | Counter-Mean: 5.29527567461385e-05--Median: 0.0\n",
      "MannwhitneyuResult(statistic=336319.5, pvalue=0.0032423650159838224)\n",
      "\n",
      "rihanna\n",
      "Hate-Mean: 0.001121244391483717--Median: 0.0 | Counter-Mean: 0.00020153687787392838--Median: 0.0\n",
      "MannwhitneyuResult(statistic=333891.0, pvalue=0.0017948448264161277)\n",
      "\n",
      "ceos\n",
      "Hate-Mean: 0.00015168849006814094--Median: 0.0 | Counter-Mean: 0.0--Median: 0.0\n",
      "MannwhitneyuResult(statistic=337627.5, pvalue=0.004591739919921564)\n",
      "\n"
     ]
    }
   ],
   "source": [
    "for interest,classes in vocab.items():\n",
    "    print('****************************',interest,'*******************************')\n",
    "    for key in classes:\n",
    "#         print(counter[interest][key])\n",
    "        try:\n",
    "            _,pvalue = mannwhitneyu(hate[interest][key],counter[interest][key])\n",
    "            if pvalue<=0.01 and np.mean(hate[interest][key])>np.mean(counter[interest][key]) :\n",
    "                print(key)\n",
    "                print('Hate-Mean: {}--Median: {} | Counter-Mean: {}--Median: {}'.format(np.mean(hate[interest][key]),np.median(hate[interest][key]),np.mean(counter[interest][key]),np.median(counter[interest][key])))\n",
    "                print(mannwhitneyu(hate[interest][key],counter[interest][key]),end = '\\n\\n')\n",
    "        except:\n",
    "            pass"
   ]
  },
  {
   "cell_type": "code",
   "execution_count": 124,
   "metadata": {
    "ExecuteTime": {
     "end_time": "2018-10-23T21:53:33.394256Z",
     "start_time": "2018-10-23T21:53:31.428013Z"
    },
    "scrolled": true
   },
   "outputs": [],
   "source": [
    "# lexicon_hate_user = []\n",
    "# lexicon_counter_user = []\n",
    "# # lexicon_Noncounter_user = []\n",
    "# for name,tweets in all_user_tweets.items():\n",
    "#     ind_tweets = ' '.join(tweets)    ###### all tweets for particular user\n",
    "#     if name.strip() in hate_usernames:\n",
    "#         lexicon_hate_user.append([ind_tweets,1])\n",
    "# #         lexicon_hate_user[name] = lexicon.analyze(ind_tweets,normalize = True)\n",
    "#     elif name.strip() in list(counter_usernames)+list(Non_counter_usernames):\n",
    "#         lexicon_counter_user.append([ind_tweets,0])\n",
    "#         lexicon_counter_user[name] = lexicon.analyze(ind_tweets,normalize = True)\n",
    "#     elif name.strip() in Non_counter_usernames:\n",
    "#         lexicon_Noncounter_user[name] = lexicon.analyze(ind_tweets,normalize = True)\n",
    "#-----------------------------------------------------------------------------------------------------------------#\n",
    "# from textblob import TextBlob\n",
    "# textblob_hate_user = {}\n",
    "# textblob_counter_user = {}\n",
    "# textblob_Noncounter_user = {}\n",
    "# for counter,(name,tweets) in enumerate(all_user_tweets.items()):\n",
    "#     print(counter)\n",
    "#     ind_tweets = ' '.join(tweets)    ###### all tweets for particular user\n",
    "#     if name.strip() in hate_usernames:\n",
    "#         textblob_hate_user[name] = {'polarity':TextBlob(ind_tweets).sentiment.polarity,'subjectivity':TextBlob(ind_tweets).sentiment.subjectivity}\n",
    "#     elif name.strip() in counter_usernames:\n",
    "#         textblob_counter_user[name] = {'polarity':TextBlob(ind_tweets).sentiment.polarity,'subjectivity':TextBlob(ind_tweets).sentiment.subjectivity}\n",
    "#     elif name.strip() in Non_counter_usernames:\n",
    "#         textblob_Noncounter_user[name] = {'polarity':TextBlob(ind_tweets).sentiment.polarity,'subjectivity':TextBlob(ind_tweets).sentiment.subjectivity}\n",
    "# --------------------------------------------------------------------------------------------------------\n",
    "# with open('All_hate_tweets_with_labels.pkl','wb') as fp:\n",
    "#     pickle.dump(lexicon_hate_user,fp)\n",
    "# with open('All_counter_tweets_with_labels.pkl','wb') as fp:\n",
    "#     pickle.dump(lexicon_counter_user,fp)"
   ]
  },
  {
   "cell_type": "code",
   "execution_count": 44,
   "metadata": {
    "ExecuteTime": {
     "end_time": "2018-10-23T21:36:32.980858Z",
     "start_time": "2018-10-23T21:36:32.975010Z"
    }
   },
   "outputs": [
    {
     "data": {
      "text/plain": [
       "509"
      ]
     },
     "execution_count": 44,
     "metadata": {},
     "output_type": "execute_result"
    }
   ],
   "source": [
    "len(textblob_hate_user)"
   ]
  },
  {
   "cell_type": "markdown",
   "metadata": {},
   "source": [
    "* __Sentiment Analysis __/__Profane Words Distribution__"
   ]
  },
  {
   "cell_type": "code",
   "execution_count": 45,
   "metadata": {
    "ExecuteTime": {
     "end_time": "2018-10-23T21:36:33.479154Z",
     "start_time": "2018-10-23T21:36:33.469644Z"
    },
    "scrolled": true
   },
   "outputs": [],
   "source": [
    "# Profane_Words = np.loadtxt('Refined_Project_Dataset/ProfaneWords.csv',dtype = str,delimiter = ',')\n",
    "# profane_hate_user = []\n",
    "# profane_counter_user = []\n",
    "# profane_Noncounter_user = []\n",
    "# # profane_user_dict = {}\n",
    "# # sentiment_hate_user = {}\n",
    "# # sentiment_counter_user = {}\n",
    "# # sentiment_Noncounter_user = {}\n",
    "# for line_counter,(name,tweets) in enumerate(all_user_tweets.items()):\n",
    "# #     ind_tweets = ' '.join(tweets)\n",
    "#     counter = 0\n",
    "#     if name.strip() in hate_usernames:\n",
    "#         print(line_counter,name)\n",
    "# #         Hneg,Hneu,Hpos,Hcomp = 0,0,0,0\n",
    "#         for tweet in tweets:\n",
    "#             for word in Profane_Words:\n",
    "#                 if len(re.findall(word,tweet.lower()))!=0:\n",
    "#                     counter+=1\n",
    "#                     break\n",
    "#         print(counter)\n",
    "#         profane_hate_user.append(counter/len(tweets))\n",
    "# #         print(profane_user_dict)\n",
    "# #             sentiment = sentiment_analyzer.polarity_scores(each_tweet)\n",
    "# #             Hneg += sentiment['neg']\n",
    "# #             Hneu += sentiment['neu']\n",
    "# #             Hpos += sentiment['pos']\n",
    "# #             Hcomp += sentiment['compound']\n",
    "# #         sentiment_hate_user[name] = {'neg':Hneg/len(tweets),'neu': Hneu/len(tweets),'pos':Hpos/len(tweets),'compound':Hcomp/len(tweets)}\n",
    "        \n",
    "#     elif name.strip() in counter_usernames:\n",
    "#         print(line_counter,name)\n",
    "#         for tweet in tweets:\n",
    "#             for word in Profane_Words:\n",
    "#                 if len(re.findall(word,tweet.lower()))!=0:\n",
    "#                     counter+=1\n",
    "#                     break\n",
    "#         print(counter)\n",
    "#         profane_counter_user.append(counter/len(tweets))\n",
    "# #         Cneg,Cneu,Cpos,Ccomp = 0,0,0,0\n",
    "# #         for word in Profane_Words:\n",
    "# #             profane_user_dict[word] = float(len(re.findall(word,ind_tweets.lower())))/len(tweets)\n",
    "# # #             print(len(re.findall(word,ind_tweets.lower())),end ='.')\n",
    "# #         profane_counter_user[name]=  profane_user_dict\n",
    "# #             sentiment = sentiment_analyzer.polarity_scores(each_tweet)\n",
    "# #             Cneg += sentiment['neg']\n",
    "# #             Cneu += sentiment['neu']\n",
    "# #             Cpos += sentiment['pos']\n",
    "# #             Ccomp += sentiment['compound']\n",
    "# #         sentiment_counter_user[name] = {'neg':Cneg/len(tweets),'neu': Cneu/len(tweets),'pos':Cpos/len(tweets),'compound':Ccomp/len(tweets)}\n",
    "#     elif name.strip() in Non_counter_usernames:\n",
    "#         print(line_counter,name)\n",
    "#         for tweet in tweets:\n",
    "#             for word in Profane_Words:\n",
    "#                 if len(re.findall(word,tweet.lower()))!=0:\n",
    "#                     counter+=1\n",
    "#                     break\n",
    "#         print(counter)\n",
    "#         profane_Noncounter_user.append(counter/len(tweets))\n",
    "# #         NCneg,NCneu,NCpos,NCcomp = 0,0,0,0\n",
    "# #         for word in Profane_Words:\n",
    "# #             profane_user_dict[word] = float(len(re.findall(word,ind_tweets.lower())))/len(tweets)\n",
    "# # #             print(len(re.findall(word,ind_tweets.lower())),end ='.')\n",
    "# #         profane_Noncounter_user[name]=  profane_user_dict\n",
    "# #             sentiment = sentiment_analyzer.polarity_scores(each_tweet)\n",
    "# #             NCneg += sentiment['neg']\n",
    "# #             NCneu += sentiment['neu']\n",
    "# #             NCpos += sentiment['pos']\n",
    "# #             NCcomp += sentiment['compound']\n",
    "# #         sentiment_Noncounter_user[name] = {'neg':NCneg/len(tweets),'neu': NCneu/len(tweets),'pos':NCpos/len(tweets),'compound':NCcomp/len(tweets)}"
   ]
  },
  {
   "cell_type": "code",
   "execution_count": 28,
   "metadata": {
    "ExecuteTime": {
     "end_time": "2018-11-01T23:12:55.991491Z",
     "start_time": "2018-11-01T23:12:55.976740Z"
    }
   },
   "outputs": [
    {
     "data": {
      "text/plain": [
       "(0.15257017355756078, 0.13237973840471354, 0.1603729497418059)"
      ]
     },
     "execution_count": 28,
     "metadata": {},
     "output_type": "execute_result"
    }
   ],
   "source": [
    "####### Profane mean\n",
    "np.mean(profane_hate_user),np.mean(profane_counter_user),np.mean(profane_Noncounter_user)"
   ]
  },
  {
   "cell_type": "code",
   "execution_count": 29,
   "metadata": {
    "ExecuteTime": {
     "end_time": "2018-11-01T23:12:56.248800Z",
     "start_time": "2018-11-01T23:12:56.242435Z"
    }
   },
   "outputs": [
    {
     "data": {
      "text/plain": [
       "(0.14411302982731555, 0.11881031792057731, 0.149438202247191)"
      ]
     },
     "execution_count": 29,
     "metadata": {},
     "output_type": "execute_result"
    }
   ],
   "source": [
    "####### Profane median\n",
    "np.median(profane_hate_user),np.median(profane_counter_user),np.median(profane_Noncounter_user)"
   ]
  },
  {
   "cell_type": "code",
   "execution_count": 130,
   "metadata": {
    "ExecuteTime": {
     "end_time": "2018-10-23T22:27:17.291222Z",
     "start_time": "2018-10-23T22:27:17.125164Z"
    }
   },
   "outputs": [
    {
     "name": "stdout",
     "output_type": "stream",
     "text": [
      "Hate----Counter\n",
      "MannwhitneyuResult(statistic=1154.0, pvalue=0.047741239297343474)\n",
      "\n",
      "Counter----NonCounter\n",
      "MannwhitneyuResult(statistic=609.0, pvalue=0.031434494068282796)\n",
      "\n",
      "Hate----NonCounter\n",
      "MannwhitneyuResult(statistic=234.0, pvalue=0.3923935434248835)\n"
     ]
    },
    {
     "data": {
      "image/png": "[encoded data removed]",
      "text/plain": [
       "<Figure size 158.4x144 with 1 Axes>"
      ]
     },
     "metadata": {},
     "output_type": "display_data"
    }
   ],
   "source": [
    "print('Hate----Counter')\n",
    "print(mannwhitneyu(profane_hate_user,profane_counter_user),end='\\n\\n')\n",
    "print('Counter----NonCounter')\n",
    "print(mannwhitneyu(profane_Noncounter_user,profane_counter_user),end='\\n\\n')\n",
    "print('Hate----NonCounter')\n",
    "print(mannwhitneyu(profane_Noncounter_user,profane_hate_user))\n",
    "######################## Profane Images ############################\n",
    "Noncounter_df = pd.DataFrame(np.c_[['NonCounter' for i in range(len(profane_Noncounter_user))],profane_Noncounter_user],columns = ['Users',''])\n",
    "counter_df = pd.DataFrame(np.c_[['Counter' for i in range(len(profane_counter_user))],profane_counter_user],columns = ['Users',''])\n",
    "hate_df = pd.DataFrame(np.c_[['Hate' for i in range(len(profane_hate_user))],profane_hate_user],columns = ['Users',''])\n",
    "Comb_df = pd.concat([counter_df,hate_df],ignore_index = True)\n",
    "Comb_df = Comb_df.apply(pd.to_numeric, errors='ignore')\n",
    "plt.figure(figsize = (2.2,2))\n",
    "ax  = sns.boxplot(x = 'Users',y ='',data = Comb_df, linewidth=1,width=0.6,showfliers = False,palette = {'Hate':'#c44e52' ,'Counter':'#55a868'})\n",
    "ax.set_xticklabels('')\n",
    "ax.set_xlabel('')\n",
    "ax.set_title('Profane')\n",
    "plt.tight_layout()\n",
    "plt.savefig('Images/Profane.eps', format='eps')\n",
    "plt.show()"
   ]
  },
  {
   "cell_type": "markdown",
   "metadata": {},
   "source": [
    "#### This code is for writing the above created lexicon and sentiment dictionaries into pkl files so as speed up their importing as well as saving memory : "
   ]
  },
  {
   "cell_type": "code",
   "execution_count": 48,
   "metadata": {
    "ExecuteTime": {
     "end_time": "2018-10-23T21:36:44.102215Z",
     "start_time": "2018-10-23T21:36:44.096514Z"
    }
   },
   "outputs": [
    {
     "data": {
      "text/plain": [
       "{'polarity': 0.11299070730567451, 'subjectivity': 0.5946555603785325}"
      ]
     },
     "execution_count": 48,
     "metadata": {},
     "output_type": "execute_result"
    }
   ],
   "source": [
    "list(textblob_hate_user.values())[0]"
   ]
  },
  {
   "cell_type": "code",
   "execution_count": 41,
   "metadata": {
    "ExecuteTime": {
     "end_time": "2018-10-04T01:59:07.589420Z",
     "start_time": "2018-10-04T01:59:07.582962Z"
    }
   },
   "outputs": [],
   "source": [
    "# with open('Refined_Project_Dataset/lexicon_hate_user.pkl','wb') as fp:\n",
    "#     pickle.dump(lexicon_hate_user,fp)\n",
    "# with open('Refined_Project_Dataset/lexicon_counter_user.pkl','wb') as fp:\n",
    "#     pickle.dump(lexicon_counter_user,fp)\n",
    "# with open('Refined_Project_Dataset/lexicon_Noncounter_user.pkl','wb') as fp:\n",
    "#     pickle.dump(lexicon_Noncounter_user,fp)\n",
    "# with open('Refined_Project_Dataset/textblob_hate_user.pkl','wb') as fp:\n",
    "#     pickle.dump(textblob_hate_user,fp)\n",
    "# with open('Refined_Project_Dataset/textblob_counter_user.pkl','wb') as fp:\n",
    "#     pickle.dump(textblob_counter_user,fp)\n",
    "# with open('Refined_Project_Dataset/textblob_Noncounter_user.pkl','wb') as fp:\n",
    "#     pickle.dump(textblob_Noncounter_user,fp)\n",
    "# with open('Refined_Project_Dataset/sentiment_hate_user.pkl','wb') as fp:\n",
    "#     pickle.dump(sentiment_hate_user,fp)\n",
    "# with open('Refined_Project_Dataset/sentiment_counter_user.pkl','wb') as fp:\n",
    "#     pickle.dump(sentiment_counter_user,fp)\n",
    "# with open('Refined_Project_Dataset/sentiment_Noncounter_user.pkl','wb') as fp:\n",
    "# #     pickle.dump(sentiment_Noncounter_user,fp)\n",
    "# with open('Refined_Project_Dataset/profane_hate_user.pkl','wb') as fp:\n",
    "#     pickle.dump(profane_hate_user,fp)\n",
    "# with open('Refined_Project_Dataset/profane_counter_user.pkl','wb') as fp:\n",
    "#     pickle.dump(profane_counter_user,fp)\n",
    "# with open('Refined_Project_Dataset/profane_Noncounter_user.pkl','wb') as fp:\n",
    "#     pickle.dump(profane_Noncounter_user,fp)"
   ]
  },
  {
   "cell_type": "code",
   "execution_count": 49,
   "metadata": {
    "ExecuteTime": {
     "end_time": "2018-10-23T21:36:47.395119Z",
     "start_time": "2018-10-23T21:36:47.390892Z"
    }
   },
   "outputs": [
    {
     "data": {
      "text/plain": [
       "(188, 1155)"
      ]
     },
     "execution_count": 49,
     "metadata": {},
     "output_type": "execute_result"
    }
   ],
   "source": [
    "len(textblob_Noncounter_user.keys()), len(textblob_counter_user.keys())"
   ]
  },
  {
   "cell_type": "markdown",
   "metadata": {},
   "source": [
    "## Creating a lexicon DataFrame for all Users : "
   ]
  },
  {
   "cell_type": "code",
   "execution_count": 32,
   "metadata": {
    "ExecuteTime": {
     "end_time": "2018-10-29T01:43:52.294688Z",
     "start_time": "2018-10-29T01:43:52.136332Z"
    }
   },
   "outputs": [
    {
     "name": "stdout",
     "output_type": "stream",
     "text": [
      "(1852, 194)\n"
     ]
    },
    {
     "data": {
      "text/html": [
       "<div>\n",
       "<style scoped>\n",
       "    .dataframe tbody tr th:only-of-type {\n",
       "        vertical-align: middle;\n",
       "    }\n",
       "\n",
       "    .dataframe tbody tr th {\n",
       "        vertical-align: top;\n",
       "    }\n",
       "\n",
       "    .dataframe thead th {\n",
       "        text-align: right;\n",
       "    }\n",
       "</style>\n",
       "<table border=\"1\" class=\"dataframe\">\n",
       "  <thead>\n",
       "    <tr style=\"text-align: right;\">\n",
       "      <th></th>\n",
       "      <th>achievement</th>\n",
       "      <th>affection</th>\n",
       "      <th>aggression</th>\n",
       "      <th>air_travel</th>\n",
       "      <th>alcohol</th>\n",
       "      <th>ancient</th>\n",
       "      <th>anger</th>\n",
       "      <th>animal</th>\n",
       "      <th>anonymity</th>\n",
       "      <th>anticipation</th>\n",
       "      <th>...</th>\n",
       "      <th>wealthy</th>\n",
       "      <th>weapon</th>\n",
       "      <th>weather</th>\n",
       "      <th>wedding</th>\n",
       "      <th>white_collar_job</th>\n",
       "      <th>work</th>\n",
       "      <th>worship</th>\n",
       "      <th>writing</th>\n",
       "      <th>youth</th>\n",
       "      <th>zest</th>\n",
       "    </tr>\n",
       "  </thead>\n",
       "  <tbody>\n",
       "    <tr>\n",
       "      <th>crasykayla</th>\n",
       "      <td>0.001277</td>\n",
       "      <td>0.003922</td>\n",
       "      <td>0.000578</td>\n",
       "      <td>0.000304</td>\n",
       "      <td>0.002675</td>\n",
       "      <td>0.000426</td>\n",
       "      <td>0.000334</td>\n",
       "      <td>0.001186</td>\n",
       "      <td>0.000061</td>\n",
       "      <td>0.000061</td>\n",
       "      <td>...</td>\n",
       "      <td>0.000638</td>\n",
       "      <td>0.000426</td>\n",
       "      <td>0.000760</td>\n",
       "      <td>0.003435</td>\n",
       "      <td>0.000578</td>\n",
       "      <td>0.002797</td>\n",
       "      <td>0.000912</td>\n",
       "      <td>0.001064</td>\n",
       "      <td>0.003618</td>\n",
       "      <td>0.000426</td>\n",
       "    </tr>\n",
       "    <tr>\n",
       "      <th>falestiniie</th>\n",
       "      <td>0.000742</td>\n",
       "      <td>0.003292</td>\n",
       "      <td>0.001361</td>\n",
       "      <td>0.000569</td>\n",
       "      <td>0.001559</td>\n",
       "      <td>0.000841</td>\n",
       "      <td>0.000272</td>\n",
       "      <td>0.001138</td>\n",
       "      <td>0.000049</td>\n",
       "      <td>0.000124</td>\n",
       "      <td>...</td>\n",
       "      <td>0.000965</td>\n",
       "      <td>0.001757</td>\n",
       "      <td>0.000742</td>\n",
       "      <td>0.002896</td>\n",
       "      <td>0.001015</td>\n",
       "      <td>0.003242</td>\n",
       "      <td>0.000866</td>\n",
       "      <td>0.001510</td>\n",
       "      <td>0.004405</td>\n",
       "      <td>0.000346</td>\n",
       "    </tr>\n",
       "  </tbody>\n",
       "</table>\n",
       "<p>2 rows × 194 columns</p>\n",
       "</div>"
      ],
      "text/plain": [
       "             achievement  affection  aggression  air_travel   alcohol  \\\n",
       "crasykayla      0.001277   0.003922    0.000578    0.000304  0.002675   \n",
       "falestiniie     0.000742   0.003292    0.001361    0.000569  0.001559   \n",
       "\n",
       "              ancient     anger    animal  anonymity  anticipation    ...     \\\n",
       "crasykayla   0.000426  0.000334  0.001186   0.000061      0.000061    ...      \n",
       "falestiniie  0.000841  0.000272  0.001138   0.000049      0.000124    ...      \n",
       "\n",
       "              wealthy    weapon   weather   wedding  white_collar_job  \\\n",
       "crasykayla   0.000638  0.000426  0.000760  0.003435          0.000578   \n",
       "falestiniie  0.000965  0.001757  0.000742  0.002896          0.001015   \n",
       "\n",
       "                 work   worship   writing     youth      zest  \n",
       "crasykayla   0.002797  0.000912  0.001064  0.003618  0.000426  \n",
       "falestiniie  0.003242  0.000866  0.001510  0.004405  0.000346  \n",
       "\n",
       "[2 rows x 194 columns]"
      ]
     },
     "execution_count": 32,
     "metadata": {},
     "output_type": "execute_result"
    }
   ],
   "source": [
    "lexicon_dataframe = pd.DataFrame(list(lexicon_hate_user.values())+list(lexicon_counter_user.values())+list(lexicon_Noncounter_user.values()))\n",
    "lexicon_dataframe.index = list(lexicon_hate_user.keys())+list(lexicon_counter_user.keys())+list(lexicon_Noncounter_user.keys())\n",
    "print(lexicon_dataframe.shape)\n",
    "lexicon_dataframe.head(2)"
   ]
  },
  {
   "cell_type": "markdown",
   "metadata": {},
   "source": [
    "* __lexWords_counter/hate__ are numpy arrays which lexicon contains values corresponding to names_analyized for each counter speaker and hate speaker respectively."
   ]
  },
  {
   "cell_type": "code",
   "execution_count": 33,
   "metadata": {
    "ExecuteTime": {
     "end_time": "2018-10-29T01:43:55.199549Z",
     "start_time": "2018-10-29T01:43:55.186844Z"
    }
   },
   "outputs": [],
   "source": [
    "# names_analyized  = ['sadness','fear','swearing_terms','independence','government','love',\n",
    "#                'positive_emotion','negative_emotion','warmth','ridicule','masculine',\n",
    "#                'feminine','violence','suffering','dispute','anger','envy','work','leader',\n",
    "#                'politics','terrorism','shame','confusion','hate']\n",
    "lexWords_counter = lexicon_dataframe.loc[lexicon_counter_user.keys()].values\n",
    "lexWords_hate = lexicon_dataframe.loc[lexicon_hate_user.keys()].values\n",
    "lexWords_Noncounter = lexicon_dataframe.loc[lexicon_Noncounter_user.keys()].values"
   ]
  },
  {
   "cell_type": "code",
   "execution_count": 34,
   "metadata": {
    "ExecuteTime": {
     "end_time": "2018-10-29T01:43:55.726474Z",
     "start_time": "2018-10-29T01:43:55.719393Z"
    }
   },
   "outputs": [
    {
     "data": {
      "text/plain": [
       "array([[0.00253187, 0.00088321, 0.00088321, ..., 0.00079489, 0.00288515,\n",
       "        0.00011776],\n",
       "       [0.00171051, 0.00075159, 0.00054425, ..., 0.00142542, 0.00194376,\n",
       "        0.00012958],\n",
       "       [0.00231481, 0.00195738, 0.00175313, ..., 0.00376157, 0.00163399,\n",
       "        0.00027233],\n",
       "       ...,\n",
       "       [0.00162961, 0.00310763, 0.00070743, ..., 0.00131379, 0.00333502,\n",
       "        0.00018949],\n",
       "       [0.001654  , 0.00060434, 0.00114507, ..., 0.00155857, 0.00143134,\n",
       "        0.00012723],\n",
       "       [0.00127798, 0.00058718, 0.00131252, ..., 0.00072534, 0.00079442,\n",
       "        0.00010362]])"
      ]
     },
     "execution_count": 34,
     "metadata": {},
     "output_type": "execute_result"
    }
   ],
   "source": [
    "lexWords_Noncounter"
   ]
  },
  {
   "cell_type": "markdown",
   "metadata": {},
   "source": [
    "## Checking out p-values for each category :"
   ]
  },
  {
   "cell_type": "code",
   "execution_count": 36,
   "metadata": {
    "ExecuteTime": {
     "end_time": "2018-10-29T01:44:26.711514Z",
     "start_time": "2018-10-29T01:44:26.684918Z"
    }
   },
   "outputs": [
    {
     "data": {
      "text/plain": [
       "27"
      ]
     },
     "execution_count": 36,
     "metadata": {},
     "output_type": "execute_result"
    }
   ],
   "source": [
    "useful_categories = np.loadtxt('Useful_Categories.txt',dtype = str)\n",
    "useful_categories = set(useful_categories)-(set(['confusion','divine','emotional','healing'\n",
    "                    ,'kill','joy','love','nervousness','optimism','positive_emotion','suffering'\n",
    "                    ,'appearance','horror','monster','ugliness','zest','worship','shame',\n",
    "                    'affection']))\n",
    "useful_categories = list(useful_categories)\n",
    "len(useful_categories)"
   ]
  },
  {
   "cell_type": "code",
   "execution_count": 37,
   "metadata": {
    "ExecuteTime": {
     "end_time": "2018-10-29T01:44:28.132370Z",
     "start_time": "2018-10-29T01:44:27.044022Z"
    },
    "scrolled": true
   },
   "outputs": [
    {
     "name": "stdout",
     "output_type": "stream",
     "text": [
      "                                                      envy\n",
      "Hate----Counter\n",
      "Ttest_indResult(statistic=-2.9609556638828907, pvalue=0.003110338464491982)\n",
      "MannwhitneyuResult(statistic=227380.0, pvalue=8.490165409995618e-14)\n",
      "Hate-----NonCounter\n",
      "Ttest_indResult(statistic=-1.4347025955404678, pvalue=0.1518216800245145)\n",
      "MannwhitneyuResult(statistic=33938.0, pvalue=1.8746212022019364e-09)\n",
      "\n",
      "Counter----NonCounter\n",
      "Ttest_indResult(statistic=0.7512952980023908, pvalue=0.45260678091458717)\n",
      "MannwhitneyuResult(statistic=104105.0, pvalue=0.1826375956634001)\n",
      "\n",
      "                                                      law\n",
      "Hate----Counter\n",
      "Ttest_indResult(statistic=5.032114058903994, pvalue=5.376920559734352e-07)\n",
      "MannwhitneyuResult(statistic=258884.5, pvalue=5.16095357624846e-05)\n",
      "Hate-----NonCounter\n",
      "Ttest_indResult(statistic=2.6715003230958256, pvalue=0.00772813284359532)\n",
      "MannwhitneyuResult(statistic=39366.0, pvalue=0.00016258855069201754)\n",
      "\n",
      "Counter----NonCounter\n",
      "Ttest_indResult(statistic=1.2662408232026472, pvalue=0.20564678868707786)\n",
      "MannwhitneyuResult(statistic=104801.0, pvalue=0.2223361755918994)\n",
      "\n",
      "                                                      politics\n",
      "Hate----Counter\n",
      "Ttest_indResult(statistic=4.498013128715716, pvalue=7.334607180713436e-06)\n",
      "MannwhitneyuResult(statistic=256728.0, pvalue=1.849357653611342e-05)\n",
      "Hate-----NonCounter\n",
      "Ttest_indResult(statistic=1.467281284651615, pvalue=0.14275191551214736)\n",
      "MannwhitneyuResult(statistic=40301.0, pvalue=0.0006869609764228887)\n",
      "\n",
      "Counter----NonCounter\n",
      "Ttest_indResult(statistic=1.895460168625439, pvalue=0.05824632710887418)\n",
      "MannwhitneyuResult(statistic=108165.0, pvalue=0.4672790052752861)\n",
      "\n",
      "                                                      religion\n",
      "Hate----Counter\n",
      "Ttest_indResult(statistic=2.386987231435674, pvalue=0.01709832209775008)\n",
      "MannwhitneyuResult(statistic=272795.0, pvalue=0.009576919523028516)\n",
      "Hate-----NonCounter\n",
      "Ttest_indResult(statistic=0.40787587468707487, pvalue=0.6834904206496633)\n",
      "MannwhitneyuResult(statistic=43669.5, pvalue=0.03834085352828626)\n",
      "\n",
      "Counter----NonCounter\n",
      "Ttest_indResult(statistic=1.2452698754443021, pvalue=0.21325011414920073)\n",
      "MannwhitneyuResult(statistic=107556.5, pvalue=0.41860220145152327)\n",
      "\n",
      "                                                      negative_emotion\n",
      "Hate----Counter\n",
      "Ttest_indResult(statistic=-7.198365040148467, pvalue=9.190546209467217e-13)\n",
      "MannwhitneyuResult(statistic=218400.5, pvalue=3.014490418157234e-17)\n",
      "Hate-----NonCounter\n",
      "Ttest_indResult(statistic=-3.7938960128644394, pvalue=0.00016122191360997732)\n",
      "MannwhitneyuResult(statistic=37300.0, pvalue=3.913851200318883e-06)\n",
      "\n",
      "Counter----NonCounter\n",
      "Ttest_indResult(statistic=-0.4615043430149528, pvalue=0.6445116550704016)\n",
      "MannwhitneyuResult(statistic=102940.0, pvalue=0.12682260387420846)\n",
      "\n",
      "                                                      dominant_heirarchical\n",
      "Hate----Counter\n",
      "Ttest_indResult(statistic=4.379425690357928, pvalue=1.2641903519464234e-05)\n",
      "MannwhitneyuResult(statistic=256063.5, pvalue=1.3459868133967651e-05)\n",
      "Hate-----NonCounter\n",
      "Ttest_indResult(statistic=2.2277306238501007, pvalue=0.02621783999997517)\n",
      "MannwhitneyuResult(statistic=37588.0, pvalue=6.804710921444842e-06)\n",
      "\n",
      "Counter----NonCounter\n",
      "Ttest_indResult(statistic=0.7874639777580343, pvalue=0.43114946400009113)\n",
      "MannwhitneyuResult(statistic=104048.0, pvalue=0.17938469177158944)\n",
      "\n",
      "                                                      cheerfulness\n",
      "Hate----Counter\n",
      "Ttest_indResult(statistic=-1.979529511960489, pvalue=0.04792118297897662)\n",
      "MannwhitneyuResult(statistic=268551.0, pvalue=0.002460338770541312)\n",
      "Hate-----NonCounter\n",
      "Ttest_indResult(statistic=-2.1603171957903493, pvalue=0.03108925333740708)\n",
      "MannwhitneyuResult(statistic=42470.0, pvalue=0.011346753872116715)\n",
      "\n",
      "Counter----NonCounter\n",
      "Ttest_indResult(statistic=0.9641687133207933, pvalue=0.33513518057076874)\n",
      "MannwhitneyuResult(statistic=106362.0, pvalue=0.3271900882992763)\n",
      "\n",
      "                                                      swearing_terms\n",
      "Hate----Counter\n",
      "Ttest_indResult(statistic=-7.227786800819393, pvalue=7.452757818883202e-13)\n",
      "MannwhitneyuResult(statistic=199718.0, pvalue=8.736703065104208e-26)\n",
      "Hate-----NonCounter\n",
      "Ttest_indResult(statistic=-3.197444426780065, pvalue=0.0014493718587284827)\n",
      "MannwhitneyuResult(statistic=36556.0, pvalue=8.540777254664503e-07)\n",
      "\n",
      "Counter----NonCounter\n",
      "Ttest_indResult(statistic=-0.7617815228081768, pvalue=0.4463243609664024)\n",
      "MannwhitneyuResult(statistic=96153.5, pvalue=0.005905870073243574)\n",
      "\n",
      "                                                      ridicule\n",
      "Hate----Counter\n",
      "Ttest_indResult(statistic=-2.285847004005979, pvalue=0.022388579577814267)\n",
      "MannwhitneyuResult(statistic=254268.0, pvalue=5.5744934457269165e-06)\n",
      "Hate-----NonCounter\n",
      "Ttest_indResult(statistic=-2.3198079114945367, pvalue=0.020640102598932373)\n",
      "MannwhitneyuResult(statistic=42570.5, pvalue=0.012678480167240162)\n",
      "\n",
      "Counter----NonCounter\n",
      "Ttest_indResult(statistic=0.42990031284519586, pvalue=0.6673372280093526)\n",
      "MannwhitneyuResult(statistic=105765.5, pvalue=0.28479836344116705)\n",
      "\n",
      "                                                      violence\n",
      "Hate----Counter\n",
      "Ttest_indResult(statistic=-6.180077791865916, pvalue=8.042556446522544e-10)\n",
      "MannwhitneyuResult(statistic=233290.5, pvalue=9.337084480437454e-12)\n",
      "Hate-----NonCounter\n",
      "Ttest_indResult(statistic=-2.678524870896303, pvalue=0.007569537986102396)\n",
      "MannwhitneyuResult(statistic=40666.0, pvalue=0.0011706799872766083)\n",
      "\n",
      "Counter----NonCounter\n",
      "Ttest_indResult(statistic=-1.267841279447077, pvalue=0.20507472423446452)\n",
      "MannwhitneyuResult(statistic=101751.5, pvalue=0.08340173338043955)\n",
      "\n",
      "                                                      disappointment\n",
      "Hate----Counter\n",
      "Ttest_indResult(statistic=2.918477291746657, pvalue=0.0035647547405363053)\n",
      "MannwhitneyuResult(statistic=271169.0, pvalue=0.005775318954704251)\n",
      "Hate-----NonCounter\n",
      "Ttest_indResult(statistic=2.9097090304101174, pvalue=0.003733253796886495)\n",
      "MannwhitneyuResult(statistic=41290.5, pvalue=0.0027108067517563356)\n",
      "\n",
      "Counter----NonCounter\n",
      "Ttest_indResult(statistic=-1.4931080997275468, pvalue=0.1356441228466919)\n",
      "MannwhitneyuResult(statistic=103533.5, pvalue=0.15326558330023804)\n",
      "\n",
      "                                                      hate\n",
      "Hate----Counter\n",
      "Ttest_indResult(statistic=-3.715955323817305, pvalue=0.00020913848734479195)\n",
      "MannwhitneyuResult(statistic=236990.5, pvalue=1.428493346727184e-10)\n",
      "Hate-----NonCounter\n",
      "Ttest_indResult(statistic=-2.2209031791509077, pvalue=0.02667911127955518)\n",
      "MannwhitneyuResult(statistic=37636.0, pvalue=7.543051685900367e-06)\n",
      "\n",
      "Counter----NonCounter\n",
      "Ttest_indResult(statistic=0.9610615921140335, pvalue=0.33669445325734404)\n",
      "MannwhitneyuResult(statistic=108389.0, pvalue=0.4854013279999447)\n",
      "\n",
      "                                                      masculine\n",
      "Hate----Counter\n",
      "Ttest_indResult(statistic=-6.4320485198641455, pvalue=1.6416696804046177e-10)\n",
      "MannwhitneyuResult(statistic=227656.0, pvalue=1.0681875466263632e-13)\n",
      "Hate-----NonCounter\n",
      "Ttest_indResult(statistic=-1.3077100664562449, pvalue=0.19140406666847878)\n",
      "MannwhitneyuResult(statistic=45353.0, pvalue=0.14537457931933256)\n",
      "\n",
      "Counter----NonCounter\n",
      "Ttest_indResult(statistic=-3.04001763955678, pvalue=0.0024114729127860516)\n",
      "MannwhitneyuResult(statistic=89168.5, pvalue=4.1741102078267164e-05)\n",
      "\n",
      "                                                      death\n",
      "Hate----Counter\n",
      "Ttest_indResult(statistic=-3.825868027572278, pvalue=0.00013513311450579285)\n",
      "MannwhitneyuResult(statistic=244214.0, pvalue=1.829657721971377e-08)\n",
      "Hate-----NonCounter\n",
      "Ttest_indResult(statistic=-2.4374192129860757, pvalue=0.015042253293738799)\n",
      "MannwhitneyuResult(statistic=40756.5, pvalue=0.0013289246732429974)\n",
      "\n",
      "Counter----NonCounter\n",
      "Ttest_indResult(statistic=-0.10659737019940022, pvalue=0.9151243489487938)\n",
      "MannwhitneyuResult(statistic=104572.0, pvalue=0.20879518382347495)\n",
      "\n",
      "                                                      dominant_personality\n",
      "Hate----Counter\n",
      "Ttest_indResult(statistic=-3.3160050392910922, pvalue=0.0009328189879789349)\n",
      "MannwhitneyuResult(statistic=251671.0, pvalue=1.4216571639272366e-06)\n",
      "Hate-----NonCounter\n",
      "Ttest_indResult(statistic=-3.496415827134167, pvalue=0.0005015352598434606)\n",
      "MannwhitneyuResult(statistic=40800.0, pvalue=0.0014107365727356422)\n",
      "\n",
      "Counter----NonCounter\n",
      "Ttest_indResult(statistic=1.1322812681497016, pvalue=0.257718621415641)\n",
      "MannwhitneyuResult(statistic=107370.5, pvalue=0.4039274819984755)\n",
      "\n",
      "                                                      terrorism\n",
      "Hate----Counter\n",
      "Ttest_indResult(statistic=2.462015535248912, pvalue=0.013916741641138987)\n",
      "MannwhitneyuResult(statistic=269304.5, pvalue=0.003154722972728662)\n",
      "Hate-----NonCounter\n"
     ]
    },
    {
     "name": "stdout",
     "output_type": "stream",
     "text": [
      "Ttest_indResult(statistic=0.38941789158605217, pvalue=0.6970863312017319)\n",
      "MannwhitneyuResult(statistic=41686.5, pvalue=0.004498962899892931)\n",
      "\n",
      "Counter----NonCounter\n",
      "Ttest_indResult(statistic=1.3016270887783485, pvalue=0.1932674528326792)\n",
      "MannwhitneyuResult(statistic=106023.0, pvalue=0.302610111338193)\n",
      "\n",
      "                                                      politeness\n",
      "Hate----Counter\n",
      "Ttest_indResult(statistic=-0.6099349200808981, pvalue=0.5419882998457117)\n",
      "MannwhitneyuResult(statistic=271824.0, pvalue=0.007146776088372802)\n",
      "Hate-----NonCounter\n",
      "Ttest_indResult(statistic=0.5022809713223286, pvalue=0.615628990763603)\n",
      "MannwhitneyuResult(statistic=47335.5, pvalue=0.414424615703828)\n",
      "\n",
      "Counter----NonCounter\n",
      "Ttest_indResult(statistic=-0.7424720371081706, pvalue=0.457931419013598)\n",
      "MannwhitneyuResult(statistic=99273.0, pvalue=0.029686579925602065)\n",
      "\n",
      "                                                      anger\n",
      "Hate----Counter\n",
      "Ttest_indResult(statistic=3.478151047906045, pvalue=0.0005178973212783461)\n",
      "MannwhitneyuResult(statistic=267759.0, pvalue=0.0018598680486770739)\n",
      "Hate-----NonCounter\n",
      "Ttest_indResult(statistic=3.8469659869974313, pvalue=0.00013058857924471204)\n",
      "MannwhitneyuResult(statistic=40291.0, pvalue=0.0006800371541608873)\n",
      "\n",
      "Counter----NonCounter\n",
      "Ttest_indResult(statistic=-2.0180377494104054, pvalue=0.04378614134553031)\n",
      "MannwhitneyuResult(statistic=102445.0, pvalue=0.1070176427015383)\n",
      "\n",
      "                                                      pain\n",
      "Hate----Counter\n",
      "Ttest_indResult(statistic=-2.9846169911773974, pvalue=0.00288077895313071)\n",
      "MannwhitneyuResult(statistic=239824.5, pvalue=1.0326874424413318e-09)\n",
      "Hate-----NonCounter\n",
      "Ttest_indResult(statistic=-1.8987465700722603, pvalue=0.05801171647940428)\n",
      "MannwhitneyuResult(statistic=41732.0, pvalue=0.00478085688476621)\n",
      "\n",
      "Counter----NonCounter\n",
      "Ttest_indResult(statistic=-0.5766963840343167, pvalue=0.5642413629704353)\n",
      "MannwhitneyuResult(statistic=101282.5, pvalue=0.06975043117549633)\n",
      "\n",
      "                                                      feminine\n",
      "Hate----Counter\n",
      "Ttest_indResult(statistic=-3.8865551061385633, pvalue=0.00010567216758366788)\n",
      "MannwhitneyuResult(statistic=242010.5, pvalue=4.446702090482048e-09)\n",
      "Hate-----NonCounter\n",
      "Ttest_indResult(statistic=-2.80632596943173, pvalue=0.005151270526349727)\n",
      "MannwhitneyuResult(statistic=41105.0, pvalue=0.0021378807316763727)\n",
      "\n",
      "Counter----NonCounter\n",
      "Ttest_indResult(statistic=-0.08311577604015681, pvalue=0.9337718864147125)\n",
      "MannwhitneyuResult(statistic=103781.5, pvalue=0.16579467649233098)\n",
      "\n",
      "                                                      independence\n",
      "Hate----Counter\n",
      "Ttest_indResult(statistic=2.399824127593705, pvalue=0.01651240501934472)\n",
      "MannwhitneyuResult(statistic=268983.5, pvalue=0.002807835296762422)\n",
      "Hate-----NonCounter\n",
      "Ttest_indResult(statistic=3.4881113717339987, pvalue=0.0005170946288445249)\n",
      "MannwhitneyuResult(statistic=39495.5, pvalue=0.00019656805458890405)\n",
      "\n",
      "Counter----NonCounter\n",
      "Ttest_indResult(statistic=-0.34785760551268136, pvalue=0.7280017184349055)\n",
      "MannwhitneyuResult(statistic=100870.5, pvalue=0.05886169288287138)\n",
      "\n",
      "                                                      government\n",
      "Hate----Counter\n",
      "Ttest_indResult(statistic=5.121931866769678, pvalue=3.3764145908235574e-07)\n",
      "MannwhitneyuResult(statistic=255106.0, pvalue=8.471681661033113e-06)\n",
      "Hate-----NonCounter\n",
      "Ttest_indResult(statistic=2.375691026021756, pvalue=0.01778630857782219)\n",
      "MannwhitneyuResult(statistic=38885.5, pvalue=7.28499369540312e-05)\n",
      "\n",
      "Counter----NonCounter\n",
      "Ttest_indResult(statistic=1.430302355393579, pvalue=0.1528632122852728)\n",
      "MannwhitneyuResult(statistic=105294.5, pvalue=0.2532520497955393)\n",
      "\n",
      "                                                      torment\n",
      "Hate----Counter\n",
      "Ttest_indResult(statistic=3.135467064671099, pvalue=0.0017458363102698848)\n",
      "MannwhitneyuResult(statistic=271391.5, pvalue=0.00624409348954226)\n",
      "Hate-----NonCounter\n",
      "Ttest_indResult(statistic=3.4209479789452635, pvalue=0.0006605431036877892)\n",
      "MannwhitneyuResult(statistic=42225.0, pvalue=0.008597470548804127)\n",
      "\n",
      "Counter----NonCounter\n",
      "Ttest_indResult(statistic=-1.8552661883694974, pvalue=0.0637775407793741)\n",
      "MannwhitneyuResult(statistic=104246.0, pvalue=0.19025268906861986)\n",
      "\n",
      "                                                      leader\n",
      "Hate----Counter\n",
      "Ttest_indResult(statistic=3.8020115095797617, pvalue=0.00014871049252026644)\n",
      "MannwhitneyuResult(statistic=268249.0, pvalue=0.0022168421417042943)\n",
      "Hate-----NonCounter\n",
      "Ttest_indResult(statistic=1.0379053181161793, pvalue=0.29967509810596626)\n",
      "MannwhitneyuResult(statistic=41840.5, pvalue=0.005458804900294265)\n",
      "\n",
      "Counter----NonCounter\n",
      "Ttest_indResult(statistic=1.6788043528612138, pvalue=0.0934231537548242)\n",
      "MannwhitneyuResult(statistic=106995.0, pvalue=0.3747479156157526)\n",
      "\n",
      "                                                      sexual\n",
      "Hate----Counter\n",
      "Ttest_indResult(statistic=-4.052773765633726, pvalue=5.295059406668528e-05)\n",
      "MannwhitneyuResult(statistic=245549.5, pvalue=4.183985459600581e-08)\n",
      "Hate-----NonCounter\n",
      "Ttest_indResult(statistic=-0.5688794801416436, pvalue=0.5696217136310497)\n",
      "MannwhitneyuResult(statistic=45295.0, pvalue=0.13983158370765159)\n",
      "\n",
      "Counter----NonCounter\n",
      "Ttest_indResult(statistic=-2.0691535174353977, pvalue=0.03872289282802049)\n",
      "MannwhitneyuResult(statistic=96589.5, pvalue=0.007559972015881457)\n",
      "\n",
      "                                                      disgust\n",
      "Hate----Counter\n",
      "Ttest_indResult(statistic=3.5613202094383145, pvalue=0.00037939095115281695)\n",
      "MannwhitneyuResult(statistic=269288.0, pvalue=0.003135324359488212)\n",
      "Hate-----NonCounter\n",
      "Ttest_indResult(statistic=3.5488831474956473, pvalue=0.00041290933832878446)\n",
      "MannwhitneyuResult(statistic=40066.0, pvalue=0.0004847045112175266)\n",
      "\n",
      "Counter----NonCounter\n",
      "Ttest_indResult(statistic=-1.0737255495169993, pvalue=0.2831388746883018)\n",
      "MannwhitneyuResult(statistic=101804.5, pvalue=0.08483934164398399)\n",
      "\n",
      "                                                      pride\n",
      "Hate----Counter\n",
      "Ttest_indResult(statistic=2.4863542663503684, pvalue=0.013003502711808513)\n",
      "MannwhitneyuResult(statistic=271037.0, pvalue=0.005587313311768384)\n",
      "Hate-----NonCounter\n",
      "Ttest_indResult(statistic=0.24437194023086217, pvalue=0.8070148968192897)\n",
      "MannwhitneyuResult(statistic=47308.0, pvalue=0.40988352797689914)\n",
      "\n",
      "Counter----NonCounter\n",
      "Ttest_indResult(statistic=1.3136327131506638, pvalue=0.1891945286454437)\n",
      "MannwhitneyuResult(statistic=99257.0, pvalue=0.02944726572475309)\n",
      "\n"
     ]
    }
   ],
   "source": [
    "for j in useful_categories:\n",
    "    _,pvalue1 = ttest_ind(lexicon_dataframe.loc[lexicon_counter_user.keys()][j],lexicon_dataframe.loc[lexicon_hate_user.keys()][j])\n",
    "    _,pvalue2 = mannwhitneyu(lexicon_dataframe.loc[lexicon_counter_user.keys()][j],lexicon_dataframe.loc[lexicon_hate_user.keys()][j])\n",
    "    _,pvalue3 = ttest_ind(lexicon_dataframe.loc[lexicon_Noncounter_user.keys()][j],lexicon_dataframe.loc[lexicon_hate_user.keys()][j])\n",
    "    _,pvalue4 = mannwhitneyu(lexicon_dataframe.loc[lexicon_Noncounter_user.keys()][j],lexicon_dataframe.loc[lexicon_hate_user.keys()][j])\n",
    "    _,pvalue5 = ttest_ind(lexicon_dataframe.loc[lexicon_counter_user.keys()][j],lexicon_dataframe.loc[lexicon_Noncounter_user.keys()][j])\n",
    "    _,pvalue6 = mannwhitneyu(lexicon_dataframe.loc[lexicon_counter_user.keys()][j],lexicon_dataframe.loc[lexicon_Noncounter_user.keys()][j])\n",
    "    print(\"                                                     \",j)\n",
    "    print('Hate----Counter')\n",
    "    print(ttest_ind(lexicon_dataframe.loc[lexicon_counter_user.keys()][j],lexicon_dataframe.loc[lexicon_hate_user.keys()][j]))\n",
    "    print(mannwhitneyu(lexicon_dataframe.loc[lexicon_counter_user.keys()][j],lexicon_dataframe.loc[lexicon_hate_user.keys()][j]))\n",
    "    print('Hate-----NonCounter')\n",
    "    print(ttest_ind(lexicon_dataframe.loc[lexicon_Noncounter_user.keys()][j],lexicon_dataframe.loc[lexicon_hate_user.keys()][j]))\n",
    "    print(mannwhitneyu(lexicon_dataframe.loc[lexicon_Noncounter_user.keys()][j],lexicon_dataframe.loc[lexicon_hate_user.keys()][j]))\n",
    "    print()\n",
    "    print('Counter----NonCounter')\n",
    "    print(ttest_ind(lexicon_dataframe.loc[lexicon_counter_user.keys()][j],lexicon_dataframe.loc[lexicon_Noncounter_user.keys()][j]))\n",
    "    print(mannwhitneyu(lexicon_dataframe.loc[lexicon_counter_user.keys()][j],lexicon_dataframe.loc[lexicon_Noncounter_user.keys()][j]))\n",
    "    print()"
   ]
  },
  {
   "cell_type": "code",
   "execution_count": 38,
   "metadata": {
    "ExecuteTime": {
     "end_time": "2018-10-29T01:44:35.926736Z",
     "start_time": "2018-10-29T01:44:31.662887Z"
    },
    "scrolled": true
   },
   "outputs": [
    {
     "name": "stderr",
     "output_type": "stream",
     "text": [
      "/home/navish/anaconda3/lib/python3.6/site-packages/matplotlib/pyplot.py:537: RuntimeWarning: More than 20 figures have been opened. Figures created through the pyplot interface (`matplotlib.pyplot.figure`) are retained until explicitly closed and may consume too much memory. (To control this warning, see the rcParam `figure.max_open_warning`).\n",
      "  max_open_warning, RuntimeWarning)\n"
     ]
    },
    {
     "data": {
      "image/png": "[encoded data removed]",
      "text/plain": [
       "<Figure size 1152x504 with 27 Axes>"
      ]
     },
     "metadata": {},
     "output_type": "display_data"
    },
    {
     "data": {
      "text/plain": [
       "<Figure size 158.4x144 with 0 Axes>"
      ]
     },
     "metadata": {},
     "output_type": "display_data"
    },
    {
     "data": {
      "text/plain": [
       "<Figure size 158.4x144 with 0 Axes>"
      ]
     },
     "metadata": {},
     "output_type": "display_data"
    },
    {
     "data": {
      "text/plain": [
       "<Figure size 158.4x144 with 0 Axes>"
      ]
     },
     "metadata": {},
     "output_type": "display_data"
    },
    {
     "data": {
      "text/plain": [
       "<Figure size 158.4x144 with 0 Axes>"
      ]
     },
     "metadata": {},
     "output_type": "display_data"
    },
    {
     "data": {
      "text/plain": [
       "<Figure size 158.4x144 with 0 Axes>"
      ]
     },
     "metadata": {},
     "output_type": "display_data"
    },
    {
     "data": {
      "text/plain": [
       "<Figure size 158.4x144 with 0 Axes>"
      ]
     },
     "metadata": {},
     "output_type": "display_data"
    },
    {
     "data": {
      "text/plain": [
       "<Figure size 158.4x144 with 0 Axes>"
      ]
     },
     "metadata": {},
     "output_type": "display_data"
    },
    {
     "data": {
      "text/plain": [
       "<Figure size 158.4x144 with 0 Axes>"
      ]
     },
     "metadata": {},
     "output_type": "display_data"
    },
    {
     "data": {
      "text/plain": [
       "<Figure size 158.4x144 with 0 Axes>"
      ]
     },
     "metadata": {},
     "output_type": "display_data"
    },
    {
     "data": {
      "text/plain": [
       "<Figure size 158.4x144 with 0 Axes>"
      ]
     },
     "metadata": {},
     "output_type": "display_data"
    },
    {
     "data": {
      "text/plain": [
       "<Figure size 158.4x144 with 0 Axes>"
      ]
     },
     "metadata": {},
     "output_type": "display_data"
    },
    {
     "data": {
      "text/plain": [
       "<Figure size 158.4x144 with 0 Axes>"
      ]
     },
     "metadata": {},
     "output_type": "display_data"
    },
    {
     "data": {
      "text/plain": [
       "<Figure size 158.4x144 with 0 Axes>"
      ]
     },
     "metadata": {},
     "output_type": "display_data"
    },
    {
     "data": {
      "text/plain": [
       "<Figure size 158.4x144 with 0 Axes>"
      ]
     },
     "metadata": {},
     "output_type": "display_data"
    },
    {
     "data": {
      "text/plain": [
       "<Figure size 158.4x144 with 0 Axes>"
      ]
     },
     "metadata": {},
     "output_type": "display_data"
    },
    {
     "data": {
      "text/plain": [
       "<Figure size 158.4x144 with 0 Axes>"
      ]
     },
     "metadata": {},
     "output_type": "display_data"
    },
    {
     "data": {
      "text/plain": [
       "<Figure size 158.4x144 with 0 Axes>"
      ]
     },
     "metadata": {},
     "output_type": "display_data"
    },
    {
     "data": {
      "text/plain": [
       "<Figure size 158.4x144 with 0 Axes>"
      ]
     },
     "metadata": {},
     "output_type": "display_data"
    },
    {
     "data": {
      "text/plain": [
       "<Figure size 158.4x144 with 0 Axes>"
      ]
     },
     "metadata": {},
     "output_type": "display_data"
    },
    {
     "data": {
      "text/plain": [
       "<Figure size 158.4x144 with 0 Axes>"
      ]
     },
     "metadata": {},
     "output_type": "display_data"
    },
    {
     "data": {
      "text/plain": [
       "<Figure size 158.4x144 with 0 Axes>"
      ]
     },
     "metadata": {},
     "output_type": "display_data"
    },
    {
     "data": {
      "text/plain": [
       "<Figure size 158.4x144 with 0 Axes>"
      ]
     },
     "metadata": {},
     "output_type": "display_data"
    },
    {
     "data": {
      "text/plain": [
       "<Figure size 158.4x144 with 0 Axes>"
      ]
     },
     "metadata": {},
     "output_type": "display_data"
    },
    {
     "data": {
      "text/plain": [
       "<Figure size 158.4x144 with 0 Axes>"
      ]
     },
     "metadata": {},
     "output_type": "display_data"
    },
    {
     "data": {
      "text/plain": [
       "<Figure size 158.4x144 with 0 Axes>"
      ]
     },
     "metadata": {},
     "output_type": "display_data"
    },
    {
     "data": {
      "text/plain": [
       "<Figure size 158.4x144 with 0 Axes>"
      ]
     },
     "metadata": {},
     "output_type": "display_data"
    },
    {
     "data": {
      "text/plain": [
       "<Figure size 158.4x144 with 0 Axes>"
      ]
     },
     "metadata": {},
     "output_type": "display_data"
    }
   ],
   "source": [
    "%matplotlib inline\n",
    "sns.set(palette = 'deep')\n",
    "# for i,j in enumerate(list(names_analyized)):\n",
    "f,axes = plt.subplots(3,9,figsize = (16,7))\n",
    "row,col = 0,0\n",
    "for j in useful_categories:\n",
    "#     _,pvalue1 = ttest_ind(lexicon_dataframe.loc[lexicon_counter_user.keys()][j],lexicon_dataframe.loc[lexicon_hate_user.keys()][j])\n",
    "#     _,pvalue2 = mannwhitneyu(lexicon_dataframe.loc[lexicon_counter_user.keys()][j],lexicon_dataframe.loc[lexicon_hate_user.keys()][j])\n",
    "#      _,pvalue3 = ttest_ind(lexicon_dataframe.loc[lexicon_Noncounter_user.keys()][j],lexicon_dataframe.loc[lexicon_hate_user.keys()][j])\n",
    "#     _,pvalue4 = mannwhitneyu(lexicon_dataframe.loc[lexicon_Noncounter_user.keys()][j],lexicon_dataframe.loc[lexicon_hate_user.keys()][j])\n",
    "#     _,pvalue5 = ttest_ind(lexicon_dataframe.loc[lexicon_counter_user.keys()][j],lexicon_dataframe.loc[lexicon_Noncounter_user.keys()][j])\n",
    "#     _,pvalue6 = mannwhitneyu(lexicon_dataframe.loc[lexicon_counter_user.keys()][j],lexicon_dataframe.loc[lexicon_Noncounter_user.keys()][j])\n",
    "#     if  pvalue2 < 0.01 or pvalue4 < 0.01 or pvalue6 < 0.01:\n",
    "#             useful_categories.append(j)\n",
    "#             print(\"                                                     \",j)\n",
    "#             print('Hate----Counter')\n",
    "#             print(ttest_ind(lexicon_dataframe.loc[lexicon_counter_user.keys()][j],lexicon_dataframe.loc[lexicon_hate_user.keys()][j]))\n",
    "#             print(mannwhitneyu(lexicon_dataframe.loc[lexicon_counter_user.keys()][j],lexicon_dataframe.loc[lexicon_hate_user.keys()][j]))\n",
    "# #             print('           Hate Vs NonCounter')\n",
    "# #             print(ttest_ind(lexicon_dataframe.loc[lexicon_Noncounter_user.keys()][j],lexicon_dataframe.loc[lexicon_hate_user.keys()][j]))\n",
    "# #             print(mannwhitneyu(lexicon_dataframe.loc[lexicon_Noncounter_user.keys()][j],lexicon_dataframe.loc[lexicon_hate_user.keys()][j]))\n",
    "#             print()\n",
    "#             print('Counter----NonCounter')\n",
    "#             print(ttest_ind(lexicon_dataframe.loc[lexicon_counter_user.keys()][j],lexicon_dataframe.loc[lexicon_Noncounter_user.keys()][j]))\n",
    "#             print(mannwhitneyu(lexicon_dataframe.loc[lexicon_counter_user.keys()][j],lexicon_dataframe.loc[lexicon_Noncounter_user.keys()][j]))\n",
    "#             print()\n",
    "            Noncounter_df = pd.DataFrame(np.c_[['NonCounter' for i in range(len(lexicon_Noncounter_user.keys()))],lexicon_dataframe.loc[lexicon_Noncounter_user.keys()][j].tolist()],columns = ['Users',''])\n",
    "            counter_df = pd.DataFrame(np.c_[['Counter' for i in range(len(lexicon_counter_user.keys()))],lexicon_dataframe.loc[lexicon_counter_user.keys()][j].tolist()],columns = ['Users',''])\n",
    "            hate_df = pd.DataFrame(np.c_[['Hate' for i in range(len(lexicon_hate_user.keys()))],lexicon_dataframe.loc[lexicon_hate_user.keys()][j].tolist()],columns = ['Users',''])\n",
    "            Comb_df = pd.concat([counter_df,hate_df],ignore_index = True)\n",
    "            Comb_df = Comb_df.apply(pd.to_numeric, errors='ignore')\n",
    "#             palette = {'Counter':'midnightblue','Hate':'crimson','NonCounter':'forestgreen'}\n",
    "            plt.figure(figsize=(2.2,2))\n",
    "            sns.barplot(x = 'Users',y ='',data = Comb_df ,errwidth = 1.2,ax = axes[row,col],palette = {'Hate':'#c44e52' ,'Counter':'#55a868'})\n",
    "            axes[row,col].set_xticklabels('')\n",
    "            axes[row,col].set_xlabel('')\n",
    "            if '_' in re.findall(r'\\w',j):\n",
    "                if len(re.findall('[^_]+',j)[0])>3 and re.findall(r'[^_]+',j)[1]!='terms':\n",
    "                    axes[row,col].set_title(re.findall(r'[^_]+',j)[0][0].upper()+re.findall(r'[^_]+',j)[0][1:3]+'.'+' '+re.findall(r'[^_]+',j)[1])\n",
    "                else:\n",
    "                    if re.findall(r'[^_]+',j)[1]=='terms':\n",
    "                        axes[row,col].set_title(re.findall(r'[^_]+',j)[0][0].upper()+re.findall(r'[^_]+',j)[0][1:])\n",
    "                    else:\n",
    "                        print(re.findall(r'[^_]+',j)[1])\n",
    "                        axes[row,col].set_title(re.findall(r'[^_]+',j)[0][0].upper()+re.findall(r'[^_]+',j)[0][1:]+' '+re.findall(r'[^_]+',j)[1]) \n",
    "            else:\n",
    "                axes[row,col].set_title(j[0].upper()+j[1:])\n",
    "            col+=1\n",
    "            if col==9:\n",
    "                row+=1\n",
    "                col=0\n",
    "            if row==3:\n",
    "                break\n",
    "#             def change_width(ax, new_value) :\n",
    "#                 for patch in ax.patches :\n",
    "#                     current_width = patch.get_width()\n",
    "#                     diff = current_width - new_value\n",
    "\n",
    "#                     # we change the bar width\n",
    "#                     patch.set_width(new_value)\n",
    "\n",
    "#                     # we recenter the bar\n",
    "#                     patch.set_x(patch.get_x() + diff * .5)\n",
    "\n",
    "#             change_width(ax, .4)\n",
    "#             plt.savefig('Images/empath_'+ j +'.eps', format='eps') \n",
    "f.subplots_adjust(top=10)\n",
    "import matplotlib.patches as mpatches\n",
    "import matplotlib.pyplot as plt\n",
    "red_patch = mpatches.Patch(color='#c44e52', label='Hate')\n",
    "blue_patch = mpatches.Patch(color='#4c72b0', label='NonCounter')\n",
    "green_patch = mpatches.Patch(color='#55a868', label='Counter')\n",
    "f.legend(handles=[green_patch,red_patch],loc=9,ncol=3, frameon=False, borderaxespad =-0.45)\n",
    "\n",
    "f.tight_layout()\n",
    "f.savefig('Images/empath.eps',format='eps')\n",
    "plt.show()"
   ]
  },
  {
   "cell_type": "markdown",
   "metadata": {},
   "source": [
    "## Creating a Sentiment DataFrame/TextBlob DataFrame for all Users : "
   ]
  },
  {
   "cell_type": "code",
   "execution_count": 65,
   "metadata": {
    "ExecuteTime": {
     "end_time": "2018-10-23T21:40:12.398989Z",
     "start_time": "2018-10-23T21:40:12.370828Z"
    }
   },
   "outputs": [
    {
     "name": "stdout",
     "output_type": "stream",
     "text": [
      "(1852, 4)\n"
     ]
    },
    {
     "data": {
      "text/html": [
       "<div>\n",
       "<style scoped>\n",
       "    .dataframe tbody tr th:only-of-type {\n",
       "        vertical-align: middle;\n",
       "    }\n",
       "\n",
       "    .dataframe tbody tr th {\n",
       "        vertical-align: top;\n",
       "    }\n",
       "\n",
       "    .dataframe thead th {\n",
       "        text-align: right;\n",
       "    }\n",
       "</style>\n",
       "<table border=\"1\" class=\"dataframe\">\n",
       "  <thead>\n",
       "    <tr style=\"text-align: right;\">\n",
       "      <th></th>\n",
       "      <th>compound</th>\n",
       "      <th>neg</th>\n",
       "      <th>neu</th>\n",
       "      <th>pos</th>\n",
       "    </tr>\n",
       "  </thead>\n",
       "  <tbody>\n",
       "    <tr>\n",
       "      <th>crasykayla</th>\n",
       "      <td>0.060108</td>\n",
       "      <td>0.110590</td>\n",
       "      <td>0.740262</td>\n",
       "      <td>0.149144</td>\n",
       "    </tr>\n",
       "    <tr>\n",
       "      <th>falestiniie</th>\n",
       "      <td>0.011887</td>\n",
       "      <td>0.095849</td>\n",
       "      <td>0.792552</td>\n",
       "      <td>0.111597</td>\n",
       "    </tr>\n",
       "  </tbody>\n",
       "</table>\n",
       "</div>"
      ],
      "text/plain": [
       "             compound       neg       neu       pos\n",
       "crasykayla   0.060108  0.110590  0.740262  0.149144\n",
       "falestiniie  0.011887  0.095849  0.792552  0.111597"
      ]
     },
     "execution_count": 65,
     "metadata": {},
     "output_type": "execute_result"
    }
   ],
   "source": [
    "sentiment_dataframe = pd.DataFrame(list(sentiment_hate_user.values())+list(sentiment_counter_user.values())+list(sentiment_Noncounter_user.values()))\n",
    "sentiment_dataframe.index = list(sentiment_hate_user.keys())+list(sentiment_counter_user.keys())+list(sentiment_Noncounter_user.keys())\n",
    "print(sentiment_dataframe.shape)\n",
    "sentiment_dataframe.head(2)"
   ]
  },
  {
   "cell_type": "code",
   "execution_count": 66,
   "metadata": {
    "ExecuteTime": {
     "end_time": "2018-10-23T21:40:12.656327Z",
     "start_time": "2018-10-23T21:40:12.649897Z"
    }
   },
   "outputs": [
    {
     "data": {
      "text/plain": [
       "{'polarity': 0.11299070730567451, 'subjectivity': 0.5946555603785325}"
      ]
     },
     "execution_count": 66,
     "metadata": {},
     "output_type": "execute_result"
    }
   ],
   "source": [
    "list(textblob_hate_user.values())[0]"
   ]
  },
  {
   "cell_type": "code",
   "execution_count": 67,
   "metadata": {
    "ExecuteTime": {
     "end_time": "2018-10-23T21:40:12.906325Z",
     "start_time": "2018-10-23T21:40:12.883954Z"
    }
   },
   "outputs": [
    {
     "name": "stdout",
     "output_type": "stream",
     "text": [
      "(1852, 2)\n"
     ]
    },
    {
     "data": {
      "text/html": [
       "<div>\n",
       "<style scoped>\n",
       "    .dataframe tbody tr th:only-of-type {\n",
       "        vertical-align: middle;\n",
       "    }\n",
       "\n",
       "    .dataframe tbody tr th {\n",
       "        vertical-align: top;\n",
       "    }\n",
       "\n",
       "    .dataframe thead th {\n",
       "        text-align: right;\n",
       "    }\n",
       "</style>\n",
       "<table border=\"1\" class=\"dataframe\">\n",
       "  <thead>\n",
       "    <tr style=\"text-align: right;\">\n",
       "      <th></th>\n",
       "      <th>polarity</th>\n",
       "      <th>subjectivity</th>\n",
       "    </tr>\n",
       "  </thead>\n",
       "  <tbody>\n",
       "    <tr>\n",
       "      <th>crasykayla</th>\n",
       "      <td>0.112991</td>\n",
       "      <td>0.594656</td>\n",
       "    </tr>\n",
       "    <tr>\n",
       "      <th>falestiniie</th>\n",
       "      <td>0.044500</td>\n",
       "      <td>0.542153</td>\n",
       "    </tr>\n",
       "  </tbody>\n",
       "</table>\n",
       "</div>"
      ],
      "text/plain": [
       "             polarity  subjectivity\n",
       "crasykayla   0.112991      0.594656\n",
       "falestiniie  0.044500      0.542153"
      ]
     },
     "execution_count": 67,
     "metadata": {},
     "output_type": "execute_result"
    }
   ],
   "source": [
    "textblob_dataframe = pd.DataFrame(list(textblob_hate_user.values())+list(textblob_counter_user.values())+list(textblob_Noncounter_user.values()))\n",
    "textblob_dataframe.index = list(textblob_hate_user.keys())+list(textblob_counter_user.keys())+list(textblob_Noncounter_user.keys())\n",
    "print(textblob_dataframe.shape)\n",
    "textblob_dataframe.head(2)"
   ]
  },
  {
   "cell_type": "markdown",
   "metadata": {},
   "source": [
    "* __senWords_counter/hate__ are numpy arrays which contains sentiment values corresponding to each user."
   ]
  },
  {
   "cell_type": "code",
   "execution_count": 68,
   "metadata": {
    "ExecuteTime": {
     "end_time": "2018-10-23T21:40:13.200542Z",
     "start_time": "2018-10-23T21:40:13.183328Z"
    }
   },
   "outputs": [],
   "source": [
    "senWords_counter = sentiment_dataframe.loc[sentiment_counter_user.keys()].values\n",
    "senWords_hate = sentiment_dataframe.loc[sentiment_hate_user.keys()].values\n",
    "senWords_Noncounter = sentiment_dataframe.loc[sentiment_Noncounter_user.keys()].values\n",
    "#--------------------------------------------------------------------------------------------------\n",
    "textblob_counter = textblob_dataframe.loc[textblob_counter_user.keys()].values\n",
    "textblob_hate = textblob_dataframe.loc[textblob_hate_user.keys()].values\n",
    "textblob_Noncounter = textblob_dataframe.loc[textblob_Noncounter_user.keys()].values"
   ]
  },
  {
   "cell_type": "code",
   "execution_count": 69,
   "metadata": {
    "ExecuteTime": {
     "end_time": "2018-10-23T21:40:13.378603Z",
     "start_time": "2018-10-23T21:40:13.372028Z"
    }
   },
   "outputs": [
    {
     "data": {
      "text/plain": [
       "array([[0.30403886, 0.59109541],\n",
       "       [0.10960933, 0.54541847],\n",
       "       [0.16809592, 0.58320833],\n",
       "       ...,\n",
       "       [0.07356571, 0.57161889],\n",
       "       [0.14583333, 0.46666667],\n",
       "       [0.0075    , 0.50333333]])"
      ]
     },
     "execution_count": 69,
     "metadata": {},
     "output_type": "execute_result"
    }
   ],
   "source": [
    "# senWords_counter\n",
    "textblob_counter"
   ]
  },
  {
   "cell_type": "markdown",
   "metadata": {},
   "source": [
    "# Sentiment Plotting "
   ]
  },
  {
   "cell_type": "markdown",
   "metadata": {},
   "source": [
    "### T-Test on Sentiment Values:"
   ]
  },
  {
   "cell_type": "code",
   "execution_count": 134,
   "metadata": {
    "ExecuteTime": {
     "end_time": "2018-10-23T22:31:41.564653Z",
     "start_time": "2018-10-23T22:31:41.038675Z"
    },
    "scrolled": true
   },
   "outputs": [
    {
     "data": {
      "image/png": "[encoded data removed]",
      "text/plain": [
       "<Figure size 288x144 with 3 Axes>"
      ]
     },
     "metadata": {},
     "output_type": "display_data"
    }
   ],
   "source": [
    "sns.set(palette = 'deep')\n",
    "f,axes = plt.subplots(1,3,figsize = (4,2))\n",
    "col = 0\n",
    "for i,j in enumerate(['Compound','Negative','Neutral','Positive']):\n",
    "        _,pvalue1 = mannwhitneyu(senWords_counter[:,i],senWords_hate[:,i])\n",
    "        _,pvalue2 = mannwhitneyu(senWords_Noncounter[:,i],senWords_hate[:,i])\n",
    "        _,pvalue3 = mannwhitneyu(senWords_counter[:,i],senWords_Noncounter[:,i])\n",
    "        if pvalue1<0.01 or pvalue2<0.01 or pvalue3<0.01:\n",
    "#             print('                                      ',j)\n",
    "#             print('Hate----Counter')\n",
    "#             print(ttest_ind(senWords_counter[:,i],senWords_hate[:,i]))\n",
    "#             print(mannwhitneyu(senWords_counter[:,i],senWords_hate[:,i]))\n",
    "#             print()\n",
    "#             print('Counter----Non Counter')\n",
    "#             print(ttest_ind(senWords_counter[:,i],senWords_Noncounter[:,i]))\n",
    "#             print(mannwhitneyu(senWords_counter[:,i],senWords_Noncounter[:,i]))\n",
    "#             print()\n",
    "#             print('Hate----Non Counter')\n",
    "#             print(ttest_ind(senWords_hate[:,i],senWords_Noncounter[:,i]))\n",
    "#             print(mannwhitneyu(senWords_hate[:,i],senWords_Noncounter[:,i]))\n",
    "            Noncounter_df = pd.DataFrame(np.c_[['NonCounter' for i in range(len(senWords_Noncounter[:,i]))],senWords_Noncounter[:,i]],columns = ['Users',''])\n",
    "            counter_df = pd.DataFrame(np.c_[['Counter' for i in range(len(senWords_counter[:,i]))],senWords_counter[:,i]],columns = ['Users',''])\n",
    "            hate_df = pd.DataFrame(np.c_[['Hate' for i in range(len(senWords_hate[:,i]))],senWords_hate[:,i]],columns = ['Users',''])\n",
    "            Comb_df = pd.concat([counter_df,hate_df],ignore_index = True)\n",
    "            Comb_df = Comb_df.apply(pd.to_numeric, errors='ignore')\n",
    "#             sns.boxplot(x = 'Users',y ='',data = Comb_df, linewidth=1,width=0.6,showfliers = False,ax = axes[col])\n",
    "#             axes[col].set_xticklabels('')\n",
    "#             axes[col].set_xlabel('')\n",
    "#             axes[col].set_title(j[0].upper()+j[1:])\n",
    "# #             col+=1\n",
    "# f.tight_layout()\n",
    "# f.savefig('Images/sentiment_Boxplots.eps', format='eps')\n",
    "# plt.show()\n",
    "######################################### Barplot##################################### \n",
    "            sns.barplot(x = 'Users',y ='',data = Comb_df,errwidth=1.2,ax =axes[col],palette = {'Hate':'#c44e52' ,'Counter':'#55a868'})\n",
    "            axes[col].set_xticklabels('')\n",
    "            axes[col].set_xlabel('')\n",
    "            axes[col].set_title(j[0].upper()+j[1:])\n",
    "            col+=1\n",
    "            \n",
    "f.tight_layout()\n",
    "f.savefig('Images/sentiment_Barplots.eps', format='eps')\n",
    "plt.show()"
   ]
  },
  {
   "cell_type": "code",
   "execution_count": 135,
   "metadata": {
    "ExecuteTime": {
     "end_time": "2018-10-23T22:31:53.709237Z",
     "start_time": "2018-10-23T22:31:53.535364Z"
    }
   },
   "outputs": [
    {
     "data": {
      "image/png": "[encoded data removed]",
      "text/plain": [
       "<Figure size 158.4x144 with 1 Axes>"
      ]
     },
     "metadata": {},
     "output_type": "display_data"
    }
   ],
   "source": [
    "Noncounter_df = pd.DataFrame(np.c_[['NonCounter' for i in range(len(senWords_Noncounter[:,1]))],senWords_Noncounter[:,1]],columns = ['Users',''])\n",
    "counter_df = pd.DataFrame(np.c_[['Counter' for i in range(len(senWords_counter[:,1]))],senWords_counter[:,1]],columns = ['Users',''])\n",
    "hate_df = pd.DataFrame(np.c_[['Hate' for i in range(len(senWords_hate[:,1]))],senWords_hate[:,1]],columns = ['Users',''])\n",
    "Comb_df = pd.concat([counter_df,hate_df],ignore_index = True)\n",
    "Comb_df = Comb_df.apply(pd.to_numeric, errors='ignore')\n",
    "plt.figure(figsize = (2.2,2))\n",
    "ax  = sns.boxplot(x = 'Users',y ='',data = Comb_df, linewidth=1,width=0.6,showfliers = False,palette = {'Hate':'#c44e52' ,'Counter':'#55a868'})\n",
    "ax.set_xticklabels('')\n",
    "ax.set_xlabel('')\n",
    "ax.set_title('Sentiment')\n",
    "plt.tight_layout()\n",
    "plt.savefig('Images/Negative.eps', format='eps')\n",
    "plt.show()"
   ]
  },
  {
   "cell_type": "code",
   "execution_count": 136,
   "metadata": {
    "ExecuteTime": {
     "end_time": "2018-10-23T22:32:39.966192Z",
     "start_time": "2018-10-23T22:32:39.529256Z"
    }
   },
   "outputs": [
    {
     "name": "stdout",
     "output_type": "stream",
     "text": [
      "                                       polarity\n",
      "Hate----Counter\n",
      "Ttest_indResult(statistic=2.455632421009419, pvalue=0.01416543976209231)\n",
      "MannwhitneyuResult(statistic=280752.0, pvalue=0.07201104403840128)\n",
      "\n",
      "Counter----Non Counter\n",
      "Ttest_indResult(statistic=-0.10917902957438345, pvalue=0.9130768274045733)\n",
      "MannwhitneyuResult(statistic=105050.0, pvalue=0.23771329166729888)\n",
      "\n",
      "Hate----Non Counter\n",
      "Ttest_indResult(statistic=-1.8310454896268553, pvalue=0.06752171728197422)\n",
      "MannwhitneyuResult(statistic=44008.0, pvalue=0.05191393849464162)\n",
      "                                       subjectivity\n",
      "Hate----Counter\n",
      "Ttest_indResult(statistic=-6.542568233560775, pvalue=8.029660681731519e-11)\n",
      "MannwhitneyuResult(statistic=235308.0, pvalue=4.21773148920915e-11)\n",
      "\n",
      "Counter----Non Counter\n",
      "Ttest_indResult(statistic=0.45801599519250924, pvalue=0.6470151553258225)\n",
      "MannwhitneyuResult(statistic=105192.0, pvalue=0.24670885296358674)\n",
      "\n",
      "Hate----Non Counter\n",
      "Ttest_indResult(statistic=4.12135249781638, pvalue=4.22115463931937e-05)\n",
      "MannwhitneyuResult(statistic=35854.0, pvalue=1.8600621788880612e-07)\n"
     ]
    },
    {
     "data": {
      "image/png": "[encoded data removed]",
      "text/plain": [
       "<Figure size 360x180 with 2 Axes>"
      ]
     },
     "metadata": {},
     "output_type": "display_data"
    },
    {
     "data": {
      "image/png": "[encoded data removed]",
      "text/plain": [
       "<Figure size 158.4x144 with 1 Axes>"
      ]
     },
     "metadata": {},
     "output_type": "display_data"
    }
   ],
   "source": [
    "f,axes = plt.subplots(1,2,figsize = (5,2.5))\n",
    "col = 0\n",
    "for i,j in enumerate(['polarity','subjectivity']):\n",
    "        _,pvalue1 = mannwhitneyu(textblob_counter[:,i],textblob_hate[:,i])\n",
    "        _,pvalue2 = mannwhitneyu(textblob_Noncounter[:,i],textblob_hate[:,i])\n",
    "        _,pvalue3 = mannwhitneyu(textblob_counter[:,i],textblob_Noncounter[:,i])\n",
    "        if pvalue1<0.1 or pvalue2<0.1 or pvalue3<0.1:\n",
    "            print('                                      ',j)\n",
    "            print('Hate----Counter')\n",
    "            print(ttest_ind(senWords_counter[:,i],senWords_hate[:,i]))\n",
    "            print(mannwhitneyu(senWords_counter[:,i],senWords_hate[:,i]))\n",
    "            print()\n",
    "            print('Counter----Non Counter')\n",
    "            print(ttest_ind(senWords_counter[:,i],senWords_Noncounter[:,i]))\n",
    "            print(mannwhitneyu(senWords_counter[:,i],senWords_Noncounter[:,i]))\n",
    "            print()\n",
    "            print('Hate----Non Counter')\n",
    "            print(ttest_ind(senWords_hate[:,i],senWords_Noncounter[:,i]))\n",
    "            print(mannwhitneyu(senWords_hate[:,i],senWords_Noncounter[:,i]))\n",
    "            Noncounter_df = pd.DataFrame(np.c_[['NonCounter' for i in range(len(textblob_Noncounter[:,i]))],textblob_Noncounter[:,i]],columns = ['Users',''])\n",
    "            counter_df = pd.DataFrame(np.c_[['Counter' for i in range(len(textblob_counter[:,i]))],textblob_counter[:,i]],columns = ['Users',''])\n",
    "            hate_df = pd.DataFrame(np.c_[['Hate' for i in range(len(textblob_hate[:,i]))],textblob_hate[:,i]],columns = ['Users',''])\n",
    "            Comb_df = pd.concat([counter_df,hate_df],ignore_index = True)\n",
    "            Comb_df = Comb_df.apply(pd.to_numeric, errors='ignore')\n",
    "            sns.boxplot(x = 'Users',y ='',data = Comb_df, linewidth=1,width=0.6,showfliers = False,ax = axes[col],palette = {'Hate':'#c44e52' ,'Counter':'#55a868'})\n",
    "            axes[col].set_xticklabels('')\n",
    "            axes[col].set_xlabel('')\n",
    "            axes[col].set_title(j[0].upper()+j[1:])\n",
    "            col+=1\n",
    "f.tight_layout()\n",
    "f.savefig('Images/TextBlob_Boxplots.eps', format='eps')\n",
    "plt.show()\n",
    "######################################### Barplot##################################### \n",
    "#             sns.barplot(x = 'Users',y ='',data = Comb_df,errwidth=1.2,ax =axes[col])\n",
    "#             axes[col].set_xticklabels('')\n",
    "#             axes[col].set_xlabel('')\n",
    "#             axes[col].set_title(j[0].upper()+j[1:])\n",
    "#             col+=1\n",
    "# f.tight_layout()\n",
    "# f.savefig('Images/sentiment_Barplots', format='eps')\n",
    "# plt.show()\n",
    "Noncounter_df = pd.DataFrame(np.c_[['NonCounter' for i in range(len(textblob_Noncounter[:,1]))],textblob_Noncounter[:,1]],columns = ['Users',''])\n",
    "counter_df = pd.DataFrame(np.c_[['Counter' for i in range(len(textblob_counter[:,1]))],textblob_counter[:,1]],columns = ['Users',''])\n",
    "hate_df = pd.DataFrame(np.c_[['Hate' for i in range(len(textblob_hate[:,1]))],textblob_hate[:,1]],columns = ['Users',''])\n",
    "Comb_df = pd.concat([counter_df,hate_df],ignore_index = True)\n",
    "Comb_df = Comb_df.apply(pd.to_numeric, errors='ignore')\n",
    "plt.figure(figsize = (2.2,2))\n",
    "ax = sns.boxplot(x = 'Users',y ='',data = Comb_df, linewidth=1,width=0.6,showfliers = False,palette = {'Hate':'#c44e52' ,'Counter':'#55a868'})\n",
    "ax.set_xticklabels('')\n",
    "ax.set_xlabel('')\n",
    "ax.set_title('Subjectivity')\n",
    "plt.tight_layout()\n",
    "plt.savefig('Images/Subjectivity.eps', format='eps')\n",
    "plt.show()"
   ]
  },
  {
   "cell_type": "markdown",
   "metadata": {},
   "source": [
    "* user_tweetid.pkl :: Contains tweet ids coressponding to each user name that it has tweeted"
   ]
  },
  {
   "cell_type": "code",
   "execution_count": 73,
   "metadata": {
    "ExecuteTime": {
     "end_time": "2018-10-23T21:40:20.026443Z",
     "start_time": "2018-10-23T21:40:18.512437Z"
    }
   },
   "outputs": [
    {
     "data": {
      "text/plain": [
       "1852"
      ]
     },
     "execution_count": 73,
     "metadata": {},
     "output_type": "execute_result"
    }
   ],
   "source": [
    "with open('Refined_Project_Dataset/user_tweetid.pkl','rb') as f:\n",
    "    names = pickle.load(f).keys()\n",
    "len(names) ##### user names foundout during crawling"
   ]
  },
  {
   "cell_type": "markdown",
   "metadata": {},
   "source": [
    "### missing_values either due to account deletion or protected mode or warning time not exceeded."
   ]
  },
  {
   "cell_type": "code",
   "execution_count": 74,
   "metadata": {
    "ExecuteTime": {
     "end_time": "2018-10-23T21:40:21.353610Z",
     "start_time": "2018-10-23T21:40:21.345084Z"
    }
   },
   "outputs": [
    {
     "name": "stdout",
     "output_type": "stream",
     "text": [
      "1972\n"
     ]
    },
    {
     "data": {
      "text/plain": [
       "120"
      ]
     },
     "execution_count": 74,
     "metadata": {},
     "output_type": "execute_result"
    }
   ],
   "source": [
    "print(len(all_usernames))\n",
    "missing_values  = [i for i in set(all_usernames)-set(names)]\n",
    "len(missing_values)"
   ]
  },
  {
   "cell_type": "code",
   "execution_count": 75,
   "metadata": {
    "ExecuteTime": {
     "end_time": "2018-10-23T21:40:21.555710Z",
     "start_time": "2018-10-23T21:40:21.548574Z"
    }
   },
   "outputs": [],
   "source": [
    "# with open('Refined_Project_Dataset/missing_users_binny.txt','w') as fp:\n",
    "temp_missing = [i for i in set(all_usernames)-set(names)]\n",
    "#     print(len(temp_missing))\n",
    "#     for i in temp_missing:\n",
    "#         fp.write(i)\n",
    "#         fp.write('\\n')"
   ]
  },
  {
   "cell_type": "code",
   "execution_count": 76,
   "metadata": {
    "ExecuteTime": {
     "end_time": "2018-10-23T21:40:21.704348Z",
     "start_time": "2018-10-23T21:40:21.697573Z"
    }
   },
   "outputs": [
    {
     "data": {
      "text/plain": [
       "(66, 39, 16)"
      ]
     },
     "execution_count": 76,
     "metadata": {},
     "output_type": "execute_result"
    }
   ],
   "source": [
    "##### Distribution of missing users among hate , counter and Non-Counter.\n",
    "len(set(temp_missing).intersection(counter_usernames)), len(set(temp_missing).intersection(hate_usernames)),len(set(temp_missing).intersection(Non_counter_usernames))"
   ]
  },
  {
   "cell_type": "markdown",
   "metadata": {},
   "source": [
    "### Finding out to which category missing counterspeech belong:"
   ]
  },
  {
   "cell_type": "code",
   "execution_count": 77,
   "metadata": {
    "ExecuteTime": {
     "end_time": "2018-10-23T21:40:22.511082Z",
     "start_time": "2018-10-23T21:40:22.364919Z"
    }
   },
   "outputs": [],
   "source": [
    "missing_counter_labels = []\n",
    "missing_hate_labels = []\n",
    "missing_Noncounter_labels = []\n",
    "for i in counter_usernames:\n",
    "    if i in temp_missing:\n",
    "        missing_counter_labels.append(df[df['replier_user_name']== i]['tag'].values[0])\n",
    "\n",
    "for i in hate_usernames:\n",
    "    if i in temp_missing:\n",
    "        missing_hate_labels.append(df[df['original_tweetusername']== i]['tag'].values[0])\n",
    "\n",
    "for i in Non_counter_usernames:\n",
    "    if i in temp_missing:\n",
    "        missing_Noncounter_labels.append(df[df['replier_user_name']== i]['tag'].values[0])\n",
    "# np.savetxt('missing_counter_labels.txt',missing_counter_labels,fmt = '%s') \n",
    "# np.savetxt('missing_hate_labels.txt',missing_hate_labels,fmt = '%s') "
   ]
  },
  {
   "cell_type": "code",
   "execution_count": 78,
   "metadata": {
    "ExecuteTime": {
     "end_time": "2018-10-23T21:40:23.087969Z",
     "start_time": "2018-10-23T21:40:23.081305Z"
    }
   },
   "outputs": [],
   "source": [
    "categories = ['0','1','2','3','4','5','6','7','8','9','11']\n",
    "dict_counter = {}\n",
    "dict_hate = {}\n",
    "for i in categories:\n",
    "    dict_counter[i] = (re.findall(r'\\d+',(' '.join(missing_counter_labels)))).count(i)\n",
    "                \n",
    "for i in categories:\n",
    "    dict_hate[i] = (re.findall(r'\\d+',(' '.join(missing_hate_labels)))).count(i)"
   ]
  },
  {
   "cell_type": "markdown",
   "metadata": {},
   "source": [
    "* Distribution of __categories in missing counter speeches__:"
   ]
  },
  {
   "cell_type": "code",
   "execution_count": 79,
   "metadata": {
    "ExecuteTime": {
     "end_time": "2018-10-23T21:40:23.437972Z",
     "start_time": "2018-10-23T21:40:23.431944Z"
    }
   },
   "outputs": [
    {
     "data": {
      "text/plain": [
       "{'0': 0,\n",
       " '1': 7,\n",
       " '2': 5,\n",
       " '3': 6,\n",
       " '4': 2,\n",
       " '5': 11,\n",
       " '6': 15,\n",
       " '7': 8,\n",
       " '8': 8,\n",
       " '9': 9,\n",
       " '11': 8}"
      ]
     },
     "execution_count": 79,
     "metadata": {},
     "output_type": "execute_result"
    }
   ],
   "source": [
    "dict_counter"
   ]
  },
  {
   "cell_type": "code",
   "execution_count": 80,
   "metadata": {
    "ExecuteTime": {
     "end_time": "2018-10-23T21:40:23.744373Z",
     "start_time": "2018-10-23T21:40:23.738453Z"
    }
   },
   "outputs": [
    {
     "data": {
      "text/plain": [
       "{'0': 7,\n",
       " '1': 1,\n",
       " '2': 3,\n",
       " '3': 3,\n",
       " '4': 2,\n",
       " '5': 4,\n",
       " '6': 5,\n",
       " '7': 2,\n",
       " '8': 5,\n",
       " '9': 10,\n",
       " '11': 4}"
      ]
     },
     "execution_count": 80,
     "metadata": {},
     "output_type": "execute_result"
    }
   ],
   "source": [
    "dict_hate"
   ]
  },
  {
   "cell_type": "code",
   "execution_count": 81,
   "metadata": {
    "ExecuteTime": {
     "end_time": "2018-10-23T21:40:24.086243Z",
     "start_time": "2018-10-23T21:40:24.079260Z"
    }
   },
   "outputs": [
    {
     "data": {
      "text/plain": [
       "(120, 548, 1239, 220)"
      ]
     },
     "execution_count": 81,
     "metadata": {},
     "output_type": "execute_result"
    }
   ],
   "source": [
    "len(set(temp_missing)),len(set(hate_usernames)),len(counter_usernames),len(Non_counter_usernames)"
   ]
  },
  {
   "cell_type": "markdown",
   "metadata": {},
   "source": [
    "## % Missing Hate speakers and counter speakers:"
   ]
  },
  {
   "cell_type": "code",
   "execution_count": 82,
   "metadata": {
    "ExecuteTime": {
     "end_time": "2018-10-23T21:40:24.678341Z",
     "start_time": "2018-10-23T21:40:24.670985Z"
    }
   },
   "outputs": [
    {
     "name": "stdout",
     "output_type": "stream",
     "text": [
      "Percentage of Hatespeech missing 0.07116788321167883\n",
      "Percentage of Counterspeech missing 0.053268765133171914\n",
      "Percentage of Non-Counterspeech missing 0.07272727272727272\n"
     ]
    }
   ],
   "source": [
    "print('Percentage of Hatespeech missing',39/548)\n",
    "print('Percentage of Counterspeech missing',66/1239)\n",
    "print('Percentage of Non-Counterspeech missing',16/220)"
   ]
  },
  {
   "cell_type": "markdown",
   "metadata": {},
   "source": [
    "### user_info_characteristics.json : Contains all user information."
   ]
  },
  {
   "cell_type": "code",
   "execution_count": null,
   "metadata": {
    "ExecuteTime": {
     "end_time": "2018-10-23T21:40:26.877302Z",
     "start_time": "2018-10-23T21:40:25.422825Z"
    }
   },
   "outputs": [],
   "source": [
    "with open('Refined_Project_Dataset/user_info.pkl','rb') as fp:\n",
    "    data = pickle.load(fp)\n",
    "# user_info_characteristics = []\n",
    "# for value,tweets in zip(data.values(),all_user_tweets.values()):\n",
    "#     value.update({'num_tweets':len(tweets)})\n",
    "#     user_info_characteristics.append(value)\n",
    "# with open('Refined_Project_Dataset/user_info_characteristics.json','w') as fp:\n",
    "#     json.dump(user_info_characteristics,fp)\n",
    "    \n",
    "## Creating DataFrame : \n",
    "user_info_characteristics = pd.read_json('Refined_Project_Dataset/user_info_characteristics.json')\n",
    "user_info_characteristics.head(1)"
   ]
  },
  {
   "cell_type": "markdown",
   "metadata": {},
   "source": [
    "## Finding out the total count / list of Followers...  for all the users combined"
   ]
  },
  {
   "cell_type": "code",
   "execution_count": 84,
   "metadata": {
    "ExecuteTime": {
     "end_time": "2018-10-23T21:40:30.758870Z",
     "start_time": "2018-10-23T21:40:29.894552Z"
    }
   },
   "outputs": [],
   "source": [
    "followers_count_Hate_list,friends_count_Hate_list,listed_count_Hate_list,favourites_count_Hate_list,statuses_count_Hate_list = [],[],[],[],[]\n",
    "followers_count_Counter_list,friends_count_Counter_list,listed_count_Counter_list,statuses_count_Counter_list,favourites_count_Counter_list = [],[],[],[],[]\n",
    "followers_count_NonCounter_list,friends_count_NonCounter_list,listed_count_NonCounter_list,statuses_count_NonCounter_list,favourites_count_NonCounter_list = [],[],[],[],[]\n",
    "\n",
    "for key in names:\n",
    "    if key.lower().strip() in [i.lower().strip() for i in hate_usernames]:\n",
    "        followers_count_Hate_list.append(data[key]['followers_count'])\n",
    "        friends_count_Hate_list.append(data[key]['friends_count'])\n",
    "        listed_count_Hate_list.append(data[key]['listed_count'])\n",
    "        favourites_count_Hate_list.append(data[key]['favourites_count'])\n",
    "        statuses_count_Hate_list.append(data[key]['statuses_count'])\n",
    "    \n",
    "for key in names:\n",
    "    if key.lower().strip() in [i.lower().strip() for i in counter_usernames]:\n",
    "        followers_count_Counter_list.append(data[key]['followers_count'])\n",
    "        friends_count_Counter_list.append(data[key]['friends_count'])\n",
    "        listed_count_Counter_list.append(data[key]['listed_count'])\n",
    "        favourites_count_Counter_list.append(data[key]['favourites_count'])\n",
    "        statuses_count_Counter_list.append(data[key]['statuses_count'])\n",
    "\n",
    "            \n",
    "for key in names:\n",
    "    if key.lower().strip() in [i.lower().strip() for i in Non_counter_usernames]:\n",
    "        followers_count_NonCounter_list.append(data[key]['followers_count'])\n",
    "        friends_count_NonCounter_list.append(data[key]['friends_count'])\n",
    "        listed_count_NonCounter_list.append(data[key]['listed_count'])\n",
    "        favourites_count_NonCounter_list.append(data[key]['favourites_count'])\n",
    "        statuses_count_NonCounter_list.append(data[key]['statuses_count'])\n"
   ]
  },
  {
   "cell_type": "code",
   "execution_count": 85,
   "metadata": {
    "ExecuteTime": {
     "end_time": "2018-10-23T21:40:30.762814Z",
     "start_time": "2018-10-23T21:40:30.760478Z"
    }
   },
   "outputs": [],
   "source": [
    "#####CAUTION : Please do not run this as such,first do required changes in above function \n",
    "# print(followers_count_Hate,friends_count_Hate,listed_count_Hate,favourites_count_Hate,statuses_count_Hate)\n",
    "# print(followers_count_Counter,friends_count_Counter,listed_count_Counter,favourites_count_Counter,statuses_count_Counter)"
   ]
  },
  {
   "cell_type": "markdown",
   "metadata": {},
   "source": [
    "### Total no of intersection points in craawled data and the original data:"
   ]
  },
  {
   "cell_type": "code",
   "execution_count": 86,
   "metadata": {
    "ExecuteTime": {
     "end_time": "2018-10-23T21:40:31.656787Z",
     "start_time": "2018-10-23T21:40:31.645252Z"
    }
   },
   "outputs": [
    {
     "data": {
      "text/plain": [
       "1852"
      ]
     },
     "execution_count": 86,
     "metadata": {},
     "output_type": "execute_result"
    }
   ],
   "source": [
    "## length of common elements without lowercasing for checking:\n",
    "len(set([i.lower().strip() for i in data.keys()]).intersection(set([i.lower().strip() for i in list(hate_usernames)+list(counter_usernames)+list(Non_counter_usernames)])))"
   ]
  },
  {
   "cell_type": "markdown",
   "metadata": {},
   "source": [
    "# T-Test :"
   ]
  },
  {
   "cell_type": "markdown",
   "metadata": {},
   "source": [
    "### Modying features of DataFrame to get numerical data: "
   ]
  },
  {
   "cell_type": "code",
   "execution_count": 87,
   "metadata": {
    "ExecuteTime": {
     "end_time": "2018-10-23T21:40:34.182883Z",
     "start_time": "2018-10-23T21:40:34.110326Z"
    }
   },
   "outputs": [],
   "source": [
    "#### Getting only dates from creation date and time column.\n",
    "def get_dates(d):\n",
    "    d = str(d)\n",
    "    date = []\n",
    "    date.append(re.findall(r'\\w\\w\\w\\w-\\w+-\\w\\w',d)[0])\n",
    "    return date\n",
    "user_info_characteristics['date'] = user_info_characteristics['created_at'].apply(get_dates)\n",
    "\n",
    "## modyfying features :\n",
    "\n",
    "user_info_characteristics['default_profile'] = user_info_characteristics['default_profile'].apply(lambda x: 1 if x ==True else 0)\n",
    "user_info_characteristics['default_profile_image'] = user_info_characteristics['default_profile_image'].apply(lambda x: 1 if x ==True else 0)\n",
    "user_info_characteristics['verified'] = user_info_characteristics['verified'].apply(lambda x: 1 if x ==True else 0)\n",
    "user_info_characteristics['protected'] = user_info_characteristics['protected'].apply(lambda x: 1 if x ==True else 0)\n",
    "user_info_characteristics['geo_enabled'] = user_info_characteristics['geo_enabled'].apply(lambda x: 1 if x ==True else 0)\n",
    "user_info_characteristics['contributors_enabled'] = user_info_characteristics['contributors_enabled'].apply(lambda x: 1 if x ==True else 0)\n",
    "user_info_characteristics['is_translator'] = user_info_characteristics['is_translator'].apply(lambda x: 1 if x ==True else 0)\n",
    "user_info_characteristics['is_translation_enabled'] = user_info_characteristics['is_translation_enabled'].apply(lambda x: 1 if x ==True else 0)\n",
    "user_info_characteristics['profile_background_tile'] = user_info_characteristics['profile_background_tile'].apply(lambda x: 1 if x ==True else 0)\n",
    "user_info_characteristics['profile_use_background_image'] = user_info_characteristics['profile_use_background_image'].apply(lambda x: 1 if x ==True else 0)\n",
    "user_info_characteristics['has_extended_profile'] = user_info_characteristics['has_extended_profile'].apply(lambda x: 1 if x ==True else 0)\n",
    "user_info_characteristics['default_profile'] = user_info_characteristics['default_profile'].apply(lambda x: 1 if x ==True else 0)\n",
    "user_info_characteristics['default_profile_image'] = user_info_characteristics['default_profile_image'].apply(lambda x: 1 if x ==True else 0)\n",
    "\n",
    "user_info_characteristics.index = data.keys()"
   ]
  },
  {
   "cell_type": "markdown",
   "metadata": {},
   "source": [
    "* Creating  __user_temp__ DataFrame just to store user features to be used for analysis"
   ]
  },
  {
   "cell_type": "code",
   "execution_count": null,
   "metadata": {
    "ExecuteTime": {
     "end_time": "2018-10-23T21:40:35.197102Z",
     "start_time": "2018-10-23T21:40:35.152682Z"
    }
   },
   "outputs": [],
   "source": [
    "user_info_characteristics.head(1)"
   ]
  },
  {
   "cell_type": "code",
   "execution_count": null,
   "metadata": {
    "ExecuteTime": {
     "end_time": "2018-10-23T21:40:36.647060Z",
     "start_time": "2018-10-23T21:40:35.881073Z"
    }
   },
   "outputs": [],
   "source": [
    "user_temp = user_info_characteristics[['verified','protected','description','contributors_enabled','geo_enabled','has_extended_profile','default_profile','favourites_count','followers_count','statuses_count','friends_count','listed_count','num_tweets','withheld_in_countries','date']]\n",
    "user_temp['followers_count/friends_count']= user_temp['followers_count']/user_temp['friends_count']"
   ]
  },
  {
   "cell_type": "markdown",
   "metadata": {},
   "source": [
    "* __Lexical_Analysis : EMPATH__ and __Sentiment_Analysis:VADER__"
   ]
  },
  {
   "cell_type": "code",
   "execution_count": 90,
   "metadata": {
    "ExecuteTime": {
     "end_time": "2018-10-23T21:40:37.753849Z",
     "start_time": "2018-10-23T21:40:37.749749Z"
    }
   },
   "outputs": [],
   "source": [
    "# user_temp['sentiment_score'] = user_temp['description'].apply(lambda x:sentiment_analyzer.polarity_scores(x))\n",
    "# user_temp['lexicons']= user_temp['description'].apply(lambda x:lexicon.analyze(x,normalize = True))"
   ]
  },
  {
   "cell_type": "code",
   "execution_count": null,
   "metadata": {
    "ExecuteTime": {
     "end_time": "2018-10-23T21:40:39.004978Z",
     "start_time": "2018-10-23T21:40:38.475542Z"
    }
   },
   "outputs": [],
   "source": [
    "from datetime import datetime\n",
    "def get_days(date):\n",
    "    date = date[0]\n",
    "    d  = re.findall(r'\\d+',date)\n",
    "    l  = '/'.join([d[1],d[2],d[0]])\n",
    "\n",
    "    date_format = \"%m/%d/%Y\"\n",
    "    a = datetime.strptime(l, date_format)\n",
    "    b = datetime.strptime('08/16/2018', date_format)\n",
    "    delta = b - a\n",
    "    return delta.days\n",
    "#def get_numTweets(x):\n",
    "user_temp['days']  = user_temp['date'].apply(get_days)"
   ]
  },
  {
   "cell_type": "code",
   "execution_count": null,
   "metadata": {
    "ExecuteTime": {
     "end_time": "2018-10-23T21:40:39.554224Z",
     "start_time": "2018-10-23T21:40:39.530208Z"
    }
   },
   "outputs": [],
   "source": [
    "user_temp.head(1)"
   ]
  },
  {
   "cell_type": "markdown",
   "metadata": {},
   "source": [
    "#### Normalization w.r.t to number of tweets per person:"
   ]
  },
  {
   "cell_type": "code",
   "execution_count": null,
   "metadata": {
    "ExecuteTime": {
     "end_time": "2018-10-23T21:40:42.838306Z",
     "start_time": "2018-10-23T21:40:40.758145Z"
    }
   },
   "outputs": [],
   "source": [
    "user_temp['favourites_count/tweet']= user_temp['favourites_count']/user_temp['num_tweets']\n",
    "user_temp['followers_count/tweet']= user_temp['followers_count']/user_temp['num_tweets']\n",
    "user_temp['statuses_count/tweet']= user_temp['statuses_count']/user_temp['num_tweets']\n",
    "user_temp['friends_count/tweet']= user_temp['friends_count']/user_temp['num_tweets']\n",
    "user_temp['listed_count/tweet']= user_temp['listed_count']/user_temp['num_tweets']"
   ]
  },
  {
   "cell_type": "code",
   "execution_count": 94,
   "metadata": {
    "ExecuteTime": {
     "end_time": "2018-10-23T21:40:42.844437Z",
     "start_time": "2018-10-23T21:40:42.840239Z"
    }
   },
   "outputs": [],
   "source": [
    "# new_usertemp= user_temp[user_temp['followers_count/friends_count']!= np.inf]\n",
    "# print('Hate----Counter')\n",
    "# print(ttest_ind(new_usertemp.loc[set(lexicon_counter_user.keys()).intersection(new_usertemp.index)]['followers_count/friends_count'],new_usertemp.loc[set(lexicon_hate_user.keys()).intersection(new_usertemp.index)]['followers_count/friends_count']))\n",
    "# print(mannwhitneyu(new_usertemp.loc[set(lexicon_counter_user.keys()).intersection(new_usertemp.index)]['followers_count/friends_count'],new_usertemp.loc[set(lexicon_hate_user.keys()).intersection(new_usertemp.index)]['followers_count/friends_count']))\n",
    "# print()\n",
    "# print('Counter----NonCounter')\n",
    "# print(ttest_ind(new_usertemp.loc[set(lexicon_counter_user.keys()).intersection(new_usertemp.index)]['followers_count/friends_count'],new_usertemp.loc[set(lexicon_Noncounter_user.keys()).intersection(new_usertemp.index)]['followers_count/friends_count']))\n",
    "# print(mannwhitneyu(new_usertemp.loc[set(lexicon_counter_user.keys()).intersection(new_usertemp.index)]['followers_count/friends_count'],new_usertemp.loc[set(lexicon_Noncounter_user.keys()).intersection(new_usertemp.index)]['followers_count/friends_count']))\n",
    "# print()\n",
    "# print('Hate----NonCounter')\n",
    "# print(ttest_ind(new_usertemp.loc[set(lexicon_hate_user.keys()).intersection(new_usertemp.index)]['followers_count/friends_count'],new_usertemp.loc[set(lexicon_Noncounter_user.keys()).intersection(new_usertemp.index)]['followers_count/friends_count']))\n",
    "# print(mannwhitneyu(new_usertemp.loc[set(lexicon_hate_user.keys()).intersection(new_usertemp.index)]['followers_count/friends_count'],new_usertemp.loc[set(lexicon_Noncounter_user.keys()).intersection(new_usertemp.index)]['followers_count/friends_count']))\n",
    "# print()\n",
    "# Noncounter_df = pd.DataFrame(np.c_[['NonCounter' for i in range(len(set(lexicon_Noncounter_user.keys()).intersection(new_usertemp.index)))],new_usertemp.loc[set(lexicon_Noncounter_user.keys()).intersection(new_usertemp.index)]['followers_count/friends_count'].tolist()],columns = ['Users','followers_count/friends_count'])\n",
    "# counter_df = pd.DataFrame(np.c_[['Counter' for i in range(len(set(lexicon_counter_user.keys()).intersection(new_usertemp.index)))],new_usertemp.loc[set(lexicon_counter_user.keys()).intersection(new_usertemp.index)]['followers_count/friends_count'].tolist()],columns = ['Users','followers_count/friends_count'])\n",
    "# hate_df = pd.DataFrame(np.c_[['Hate' for i in range(len(set(lexicon_hate_user.keys()).intersection(new_usertemp.index)))],new_usertemp.loc[set(lexicon_hate_user.keys()).intersection(new_usertemp.index)]['followers_count/friends_count'].tolist()],columns = ['Users','followers_count/friends_count'])\n",
    "# Comb_df = pd.concat([Noncounter_df,counter_df,hate_df],ignore_index = True)\n",
    "# Comb_df = Comb_df.apply(pd.to_numeric, errors='ignore')\n",
    "# #             palette = {'Counter':'midnightblue','Hate':'crimson','NonCounter':'forestgreen'}\n",
    "# ax = sns.boxplot(x = 'Users',y ='followers_count/friends_count',data = Comb_df,width =0.3 ,linewidth = 2,showfliers = False)\n",
    "# plt.title('followers_count/friends_count')"
   ]
  },
  {
   "cell_type": "markdown",
   "metadata": {},
   "source": [
    "#### Normalization w.r.t to number of days:"
   ]
  },
  {
   "cell_type": "code",
   "execution_count": null,
   "metadata": {
    "ExecuteTime": {
     "end_time": "2018-10-23T21:40:45.009058Z",
     "start_time": "2018-10-23T21:40:42.846077Z"
    }
   },
   "outputs": [],
   "source": [
    "user_temp['favourites_count/day']= user_temp['favourites_count']/user_temp['days']\n",
    "user_temp['followers_count/day']= user_temp['followers_count']/user_temp['days']\n",
    "user_temp['statuses_count/day']= user_temp['statuses_count']/user_temp['days']\n",
    "user_temp['friends_count/day']= user_temp['friends_count']/user_temp['days']\n",
    "user_temp['listed_count/day']= user_temp['listed_count']/user_temp['days']"
   ]
  },
  {
   "cell_type": "markdown",
   "metadata": {},
   "source": [
    "* Checking out each row features by __loc feature in Pandas__:"
   ]
  },
  {
   "cell_type": "markdown",
   "metadata": {
    "ExecuteTime": {
     "end_time": "2018-08-19T14:26:26.292255Z",
     "start_time": "2018-08-19T14:26:26.280645Z"
    }
   },
   "source": [
    "### Description Based Analysis:"
   ]
  },
  {
   "cell_type": "code",
   "execution_count": null,
   "metadata": {
    "ExecuteTime": {
     "end_time": "2018-10-23T21:40:45.029374Z",
     "start_time": "2018-10-23T21:40:45.010695Z"
    }
   },
   "outputs": [],
   "source": [
    "#user_temp.to_json('Refined_Project_Dataset/user_temp.json',orient = 'records')\n",
    "# user_temp = pd.read_json('Refined_Project_Dataset/user_temp.json')\n",
    "# user_temp.index = data.keys()\n",
    "# user_temp = user_temp.apply(pd.to_numeric,errors = 'ignore')\n",
    "user_temp.head(1)"
   ]
  },
  {
   "cell_type": "code",
   "execution_count": 97,
   "metadata": {
    "ExecuteTime": {
     "end_time": "2018-10-23T21:40:45.176814Z",
     "start_time": "2018-10-23T21:40:45.032280Z"
    }
   },
   "outputs": [],
   "source": [
    "# num_date = []\n",
    "\n",
    "# for date in user_temp['date'][lexicon_hate_user.keys()].values.tolist():\n",
    "\n",
    "#     dte = date[0]\n",
    "#     d  = re.findall(r'\\d+',dte)\n",
    "#     l  = '/'.join([d[1],d[2],d[0]])\n",
    "\n",
    "#     date_format = \"%m/%d/%Y\"\n",
    "#     a = datetime.strptime(l, date_format)\n",
    "#     b = datetime.strptime('12/18/2017', date_format)\n",
    "#     if a>b:\n",
    "#         num_date.append(date)"
   ]
  },
  {
   "cell_type": "code",
   "execution_count": 98,
   "metadata": {
    "ExecuteTime": {
     "end_time": "2018-10-23T21:40:45.267077Z",
     "start_time": "2018-10-23T21:40:45.180084Z"
    }
   },
   "outputs": [],
   "source": [
    "# num_date = []\n",
    "# creation_dates = []\n",
    "# for i in tweets['reply_date_time'].values.tolist():\n",
    "#     date = re.findall('\\w+',i)\n",
    "# #     print(date)\n",
    "#     for i,j in enumerate(['Jan','Feb','Mar','Apr','May','Jun','Jul','Aug','Sep','Oct','Nov','Dec']):\n",
    "#         if len(date)!=2:  \n",
    "#             if date[1]==j:\n",
    "#                 date[1]=str(i+1)\n",
    "#         else:\n",
    "#             if date[0]==j:\n",
    "#                 date[0]=str(i+1)\n",
    "                \n",
    "#     try:\n",
    "#         if int(date[1]) in list(range(1,13)) and len(date)>2:\n",
    "#             date = '/'.join([date[1],date[0],date[2]])\n",
    "#             creation_dates.append(date)\n",
    "#         elif int(date[0]) in list(range(1,13)):\n",
    "#             date = '/'.join([date[0],date[1]])+'/2018'\n",
    "#             creation_dates.append(date)\n",
    "#     except:\n",
    "#         print()\n",
    "        \n",
    "# for dte in set(creation_dates):\n",
    "#     date_format = \"%m/%d/%Y\"\n",
    "#     a = datetime.strptime(dte, date_format)\n",
    "#     b = datetime.strptime('12/18/2017', date_format)\n",
    "#     if a>b:\n",
    "#         num_date.append(dte)"
   ]
  },
  {
   "cell_type": "markdown",
   "metadata": {},
   "source": [
    "## Description Based Analysis:"
   ]
  },
  {
   "cell_type": "code",
   "execution_count": 99,
   "metadata": {
    "ExecuteTime": {
     "end_time": "2018-10-23T21:40:45.392075Z",
     "start_time": "2018-10-23T21:40:45.270442Z"
    }
   },
   "outputs": [],
   "source": [
    "def get_hashtag_words(l):\n",
    "    all_descr = (' '.join(l)).lower()\n",
    "#     return Counter(re.findall(r'\\S+',all_descr))\n",
    "    return Counter(all_descr.split())\n",
    "hate_Description_hashtag_words = sorted(get_hashtag_words(user_temp.loc[sentiment_hate_user.keys()]['description'].tolist()).items(),key = lambda x: x[1],reverse = True)\n",
    "counter_Description_hashtag_words = sorted(get_hashtag_words(user_temp.loc[sentiment_counter_user.keys()]['description'].tolist()).items(),key = lambda x: x[1],reverse = True)\n",
    "Noncounter_Description_hashtag_words = sorted(get_hashtag_words(user_temp.loc[sentiment_Noncounter_user.keys()]['description'].tolist()).items(),key = lambda x: x[1],reverse = True)"
   ]
  },
  {
   "cell_type": "markdown",
   "metadata": {},
   "source": [
    "# followers/day ......... Plotting "
   ]
  },
  {
   "cell_type": "code",
   "execution_count": 100,
   "metadata": {
    "ExecuteTime": {
     "end_time": "2018-10-23T21:40:45.863962Z",
     "start_time": "2018-10-23T21:40:45.395008Z"
    }
   },
   "outputs": [
    {
     "name": "stderr",
     "output_type": "stream",
     "text": [
      "/home/navish/anaconda3/lib/python3.6/site-packages/numpy/core/_methods.py:112: RuntimeWarning: invalid value encountered in subtract\n",
      "  x = asanyarray(arr - arrmean)\n"
     ]
    },
    {
     "name": "stdout",
     "output_type": "stream",
     "text": [
      "                          favourites_count/day\n",
      "Hate----Counter\n",
      "Ttest_indResult(statistic=nan, pvalue=nan)\n",
      "MannwhitneyuResult(statistic=292400.0, pvalue=0.43199909903588235)\n",
      "\n",
      "Counter----NonCounter\n",
      "Ttest_indResult(statistic=nan, pvalue=nan)\n",
      "MannwhitneyuResult(statistic=92523.5, pvalue=0.0005694057343323398)\n",
      "\n",
      "Hate----NonCounter\n",
      "Ttest_indResult(statistic=-1.1328540138115206, pvalue=0.2576662243156433)\n",
      "MannwhitneyuResult(statistic=40256.0, pvalue=0.000647903461469594)\n",
      "\n",
      "                          statuses_count/day\n",
      "Hate----Counter\n",
      "Ttest_indResult(statistic=nan, pvalue=nan)\n",
      "MannwhitneyuResult(statistic=231699.0, pvalue=2.7464500674927732e-12)\n",
      "\n",
      "Counter----NonCounter\n",
      "Ttest_indResult(statistic=nan, pvalue=nan)\n",
      "MannwhitneyuResult(statistic=102853.0, pvalue=0.12319119324751043)\n",
      "\n",
      "Hate----NonCounter\n",
      "Ttest_indResult(statistic=2.8119553995694146, pvalue=0.005062985331558433)\n",
      "MannwhitneyuResult(statistic=39798.0, pvalue=0.0003235847977263939)\n",
      "\n",
      "                          followers_count/day\n",
      "Hate----Counter\n",
      "Ttest_indResult(statistic=nan, pvalue=nan)\n",
      "MannwhitneyuResult(statistic=209557.5, pvalue=4.648272115477045e-21)\n",
      "\n",
      "Counter----NonCounter\n",
      "Ttest_indResult(statistic=nan, pvalue=nan)\n",
      "MannwhitneyuResult(statistic=104636.5, pvalue=0.21257271032010994)\n",
      "\n",
      "Hate----NonCounter\n",
      "Ttest_indResult(statistic=1.4334471539746259, pvalue=0.1521797925686616)\n",
      "MannwhitneyuResult(statistic=32078.0, pvalue=1.1684733966114967e-11)\n",
      "\n",
      "                          listed_count/day\n",
      "Hate----Counter\n",
      "Ttest_indResult(statistic=nan, pvalue=nan)\n",
      "MannwhitneyuResult(statistic=232257.5, pvalue=3.0664973898867457e-12)\n",
      "\n",
      "Counter----NonCounter\n",
      "Ttest_indResult(statistic=nan, pvalue=nan)\n",
      "MannwhitneyuResult(statistic=100860.5, pvalue=0.05718146238644016)\n",
      "\n",
      "Hate----NonCounter\n",
      "Ttest_indResult(statistic=1.8916840007051388, pvalue=0.05894858732608934)\n",
      "MannwhitneyuResult(statistic=41038.0, pvalue=0.0019066169078028896)\n",
      "\n",
      "                          friends_count/day\n",
      "Hate----Counter\n",
      "Ttest_indResult(statistic=nan, pvalue=nan)\n",
      "MannwhitneyuResult(statistic=268586.0, pvalue=0.002492365855382421)\n",
      "\n",
      "Counter----NonCounter\n",
      "Ttest_indResult(statistic=nan, pvalue=nan)\n",
      "MannwhitneyuResult(statistic=106526.0, pvalue=0.3392989862602931)\n",
      "\n",
      "Hate----NonCounter\n",
      "Ttest_indResult(statistic=0.6158585135152489, pvalue=0.5381895371797409)\n",
      "MannwhitneyuResult(statistic=44855.0, pvalue=0.1024773635382964)\n",
      "\n"
     ]
    }
   ],
   "source": [
    "for j in ['favourites_count/day','statuses_count/day','followers_count/day','listed_count/day','friends_count/day']:\n",
    "    _,pvalue1 = ttest_ind(user_temp.loc[lexicon_counter_user.keys()][j],user_temp.loc[lexicon_hate_user.keys()][j])\n",
    "    _,pvalue2 = mannwhitneyu(user_temp.loc[lexicon_counter_user.keys()][j],user_temp.loc[lexicon_hate_user.keys()][j])\n",
    "    _,pvalue3 = ttest_ind(user_temp.loc[lexicon_Noncounter_user.keys()][j],user_temp.loc[lexicon_hate_user.keys()][j])\n",
    "    _,pvalue4 = mannwhitneyu(user_temp.loc[lexicon_Noncounter_user.keys()][j],user_temp.loc[lexicon_hate_user.keys()][j])\n",
    "    _,pvalue5 = ttest_ind(user_temp.loc[lexicon_counter_user.keys()][j],user_temp.loc[lexicon_Noncounter_user.keys()][j])\n",
    "    _,pvalue6 = mannwhitneyu(user_temp.loc[lexicon_counter_user.keys()][j],user_temp.loc[lexicon_Noncounter_user.keys()][j])\n",
    "    if  pvalue2 < 0.01 or pvalue4 < 0.01 or pvalue6 < 0.01:\n",
    "            print(\"                         \",j)\n",
    "            print('Hate----Counter')\n",
    "            print(ttest_ind(user_temp.loc[lexicon_counter_user.keys()][j],user_temp.loc[lexicon_hate_user.keys()][j]))\n",
    "            print(mannwhitneyu(user_temp.loc[lexicon_counter_user.keys()][j],user_temp.loc[lexicon_hate_user.keys()][j]))\n",
    "            print()\n",
    "            print('Counter----NonCounter')\n",
    "            print(ttest_ind(user_temp.loc[lexicon_counter_user.keys()][j],user_temp.loc[lexicon_Noncounter_user.keys()][j]))\n",
    "            print(mannwhitneyu(user_temp.loc[lexicon_counter_user.keys()][j],user_temp.loc[lexicon_Noncounter_user.keys()][j]))\n",
    "            print()\n",
    "            print('Hate----NonCounter')\n",
    "            print(ttest_ind(user_temp.loc[lexicon_hate_user.keys()][j],user_temp.loc[lexicon_Noncounter_user.keys()][j]))\n",
    "            print(mannwhitneyu(user_temp.loc[lexicon_hate_user.keys()][j],user_temp.loc[lexicon_Noncounter_user.keys()][j]))\n",
    "            print()"
   ]
  },
  {
   "cell_type": "code",
   "execution_count": 142,
   "metadata": {
    "ExecuteTime": {
     "end_time": "2018-10-23T22:36:33.616454Z",
     "start_time": "2018-10-23T22:36:32.069863Z"
    }
   },
   "outputs": [
    {
     "name": "stderr",
     "output_type": "stream",
     "text": [
      "/home/navish/anaconda3/lib/python3.6/site-packages/numpy/core/_methods.py:112: RuntimeWarning: invalid value encountered in subtract\n",
      "  x = asanyarray(arr - arrmean)\n"
     ]
    },
    {
     "data": {
      "image/png": "[encoded data removed]",
      "text/plain": [
       "<Figure size 612x144 with 5 Axes>"
      ]
     },
     "metadata": {},
     "output_type": "display_data"
    }
   ],
   "source": [
    "f,axes = plt.subplots(1,5,figsize=(8.5,2))\n",
    "col=0\n",
    "for j in ['favourites_count/day','statuses_count/day','followers_count/day','listed_count/day','friends_count/day']:\n",
    "    _,pvalue1 = ttest_ind(user_temp.loc[lexicon_counter_user.keys()][j],user_temp.loc[lexicon_hate_user.keys()][j])\n",
    "    _,pvalue2 = mannwhitneyu(user_temp.loc[lexicon_counter_user.keys()][j],user_temp.loc[lexicon_hate_user.keys()][j])\n",
    "    _,pvalue3 = ttest_ind(user_temp.loc[lexicon_Noncounter_user.keys()][j],user_temp.loc[lexicon_hate_user.keys()][j])\n",
    "    _,pvalue4 = mannwhitneyu(user_temp.loc[lexicon_Noncounter_user.keys()][j],user_temp.loc[lexicon_hate_user.keys()][j])\n",
    "    _,pvalue5 = ttest_ind(user_temp.loc[lexicon_counter_user.keys()][j],user_temp.loc[lexicon_Noncounter_user.keys()][j])\n",
    "    _,pvalue6 = mannwhitneyu(user_temp.loc[lexicon_counter_user.keys()][j],user_temp.loc[lexicon_Noncounter_user.keys()][j])\n",
    "    if  pvalue2 < 0.01 or pvalue4 < 0.01 or pvalue6 < 0.01:\n",
    "#             print(\"                         \",j)\n",
    "#             print('Hate----Counter')\n",
    "#             print(ttest_ind(user_temp.loc[lexicon_counter_user.keys()][j],user_temp.loc[lexicon_hate_user.keys()][j]))\n",
    "#             print(mannwhitneyu(user_temp.loc[lexicon_counter_user.keys()][j],user_temp.loc[lexicon_hate_user.keys()][j]))\n",
    "#             print()\n",
    "#             print('Counter----NonCounter')\n",
    "#             print(ttest_ind(user_temp.loc[lexicon_counter_user.keys()][j],user_temp.loc[lexicon_Noncounter_user.keys()][j]))\n",
    "#             print(mannwhitneyu(user_temp.loc[lexicon_counter_user.keys()][j],user_temp.loc[lexicon_Noncounter_user.keys()][j]))\n",
    "#             print()\n",
    "#             print('Hate----NonCounter')\n",
    "#             print(ttest_ind(user_temp.loc[lexicon_hate_user.keys()][j],user_temp.loc[lexicon_Noncounter_user.keys()][j]))\n",
    "#             print(mannwhitneyu(user_temp.loc[lexicon_hate_user.keys()][j],user_temp.loc[lexicon_Noncounter_user.keys()][j]))\n",
    "#             print()\n",
    "            Noncounter_df = pd.DataFrame(np.c_[['NonCounter' for i in range(len(lexicon_Noncounter_user.keys()))],user_temp.loc[lexicon_Noncounter_user.keys()][j].tolist()],columns = ['Users',j])\n",
    "            counter_df = pd.DataFrame(np.c_[['Counter' for i in range(len(lexicon_counter_user.keys()))],user_temp.loc[lexicon_counter_user.keys()][j].tolist()],columns = ['Users',j])\n",
    "            hate_df = pd.DataFrame(np.c_[['Hate' for i in range(len(lexicon_hate_user.keys()))],user_temp.loc[lexicon_hate_user.keys()][j].tolist()],columns = ['Users',j])\n",
    "            Comb_df = pd.concat([counter_df,hate_df],ignore_index = True)\n",
    "            Comb_df = Comb_df.apply(pd.to_numeric, errors='ignore')\n",
    "#             sns.boxplot(x = 'Users',y = j,data = Comb_df,width =0.5 ,linewidth = 1,showfliers = False,ax =axes[col])\n",
    "            sns.barplot(x = 'Users',y = j,data = Comb_df,errwidth=1.2,ax =axes[col],estimator = np.median,palette = {'Hate':'#c44e52' ,'Counter':'#55a868'})\n",
    "            axes[col].set_xticklabels('')\n",
    "            axes[col].set_xlabel('')\n",
    "            axes[col].set_ylabel('')\n",
    "            axes[col].set_title('#'+re.findall(r'[a-zA-Z]+',j)[0]+'/'+re.findall(r'[a-zA-Z]+',j)[2])\n",
    "            col+=1\n",
    "            \n",
    "import matplotlib.patches as mpatches\n",
    "red_patch = mpatches.Patch(color='#c44e52', label='Hate')\n",
    "blue_patch = mpatches.Patch(color='#4c72b0', label='NonCounter')\n",
    "green_patch = mpatches.Patch(color='#55a868', label='Counter')\n",
    "f.legend(handles=[green_patch,red_patch],loc=9,ncol=3, frameon=False, borderaxespad =-0.25)\n",
    "f.subplots_adjust(top=2)\n",
    "f.tight_layout()\n",
    "f.savefig('Images/UserHistory_Barplots.eps', format='eps')\n",
    "plt.show()"
   ]
  },
  {
   "cell_type": "code",
   "execution_count": 102,
   "metadata": {
    "ExecuteTime": {
     "end_time": "2018-10-23T21:40:47.757581Z",
     "start_time": "2018-10-23T21:40:47.747208Z"
    }
   },
   "outputs": [
    {
     "data": {
      "text/plain": [
       "(18, 7, 0)"
      ]
     },
     "execution_count": 102,
     "metadata": {},
     "output_type": "execute_result"
    }
   ],
   "source": [
    "(user_temp.loc[lexicon_hate_user.keys()]['verified']==1).sum() , (user_temp.loc[lexicon_counter_user.keys()]['verified']==1).sum(),(user_temp.loc[lexicon_Noncounter_user.keys()]['verified']==1).sum() "
   ]
  },
  {
   "cell_type": "code",
   "execution_count": 103,
   "metadata": {
    "ExecuteTime": {
     "end_time": "2018-10-23T21:40:47.884076Z",
     "start_time": "2018-10-23T21:40:47.759198Z"
    },
    "scrolled": true
   },
   "outputs": [],
   "source": [
    "# ############################ According to certain Hues #########################\n",
    "# sns.set()\n",
    "# counter_df = pd.DataFrame(np.c_[np.array(['Counter' for i in range(len(user_temp.loc[lexicon_counter_user.keys()]['followers_count'].values))]),user_temp.loc[lexicon_counter_user.keys()][['followers_count','favourites_count','statuses_count','friends_count','listed_count','protected','verified']].values],columns = ['category','followers_count','favourites_count','statuses_count','friends_count','listed_count','protected','verified'])\n",
    "# hate_df = pd.DataFrame(np.c_[np.array(['Hate' for i in range(len(user_temp.loc[lexicon_hate_user.keys()]['followers_count'].values))]),user_temp.loc[lexicon_hate_user.keys()][['followers_count','favourites_count','statuses_count','friends_count','listed_count','protected','verified']].values],columns = ['category','followers_count','favourites_count','statuses_count','friends_count','listed_count','protected','verified'])\n",
    "# non_counter_df = pd.DataFrame(np.c_[np.array(['Non-Counter' for i in range(len(user_temp.loc[lexicon_Noncounter_user.keys()]['followers_count'].values))]),user_temp.loc[lexicon_Noncounter_user.keys()][['followers_count','favourites_count','statuses_count','friends_count','listed_count','protected','verified']].values],columns = ['category','followers_count','favourites_count','statuses_count','friends_count','listed_count','protected','verified'])\n",
    "# df = pd.concat([counter_df,hate_df,non_counter_df],ignore_index = True)\n",
    "# df = df.apply(pd.to_numeric, errors='ignore')\n",
    "# plt.figure(figsize=(3,3.2))\n",
    "# ax = sns.boxplot(x = 'category',y ='followers_count',hue= 'verified',data =df ,showfliers=False, linewidth=2,width = 0.5)\n",
    "# plt.show()\n",
    "\n",
    "# plt.figure(figsize=(3,3.2))\n",
    "# ax = sns.boxplot(x = 'category',y ='favourites_count',hue= 'verified',data =df ,showfliers=False, linewidth=2,width = 0.5)\n",
    "# plt.show()\n",
    "\n",
    "# plt.figure(figsize=(3,3.2))\n",
    "# ax = sns.boxplot(x = 'category',y ='statuses_count',hue= 'verified',data =df ,showfliers=False, linewidth=2,width = 0.5)\n",
    "# plt.show()\n",
    "\n",
    "# plt.figure(figsize=(3,3.2))\n",
    "# ax = sns.boxplot(x = 'category',y ='friends_count',hue= 'verified',data =df ,showfliers=False, linewidth=2,width = 0.5)\n",
    "# plt.show()\n",
    "\n",
    "# plt.figure(figsize=(3,3.2))\n",
    "# ax = sns.boxplot(x = 'category',y ='listed_count',hue= 'verified',data =df ,showfliers=False, linewidth=2,width = 0.5)\n",
    "# plt.show()"
   ]
  },
  {
   "cell_type": "code",
   "execution_count": 104,
   "metadata": {
    "ExecuteTime": {
     "end_time": "2018-10-23T21:40:48.059642Z",
     "start_time": "2018-10-23T21:40:47.886992Z"
    }
   },
   "outputs": [
    {
     "data": {
      "text/plain": [
       "1827"
      ]
     },
     "execution_count": 104,
     "metadata": {},
     "output_type": "execute_result"
    }
   ],
   "source": [
    "user_temp['verified'].values.tolist().count(False)"
   ]
  },
  {
   "cell_type": "markdown",
   "metadata": {},
   "source": [
    "## Date Based Analysis :"
   ]
  },
  {
   "cell_type": "code",
   "execution_count": 105,
   "metadata": {
    "ExecuteTime": {
     "end_time": "2018-10-23T21:40:48.343902Z",
     "start_time": "2018-10-23T21:40:48.062268Z"
    }
   },
   "outputs": [],
   "source": [
    "from datetime import datetime\n",
    "from dateutil import relativedelta\n",
    "from datetime import datetime\n",
    "all_dates = [j for j in list([i[0] for i in user_temp['date'].values.tolist()])]\n",
    "hate_dates = [j for j in list([i[0] for i in user_temp.loc[lexicon_hate_user,'date'].values.tolist()])]\n",
    "counter_dates =[j for j in list([i[0] for i in user_temp.loc[lexicon_counter_user,'date'].values.tolist()])]\n",
    "Non_counter_dates =[j for j in list([i[0] for i in user_temp.loc[lexicon_Noncounter_user,'date'].values.tolist()])]\n",
    "# from datetime import datetime\n",
    "# counter_dates = [datetime(int(re.findall('\\w+',i)[0]),int(re.findall('\\w+',i)[1]),int(re.findall('\\w+',i)[2])) for i in counter_dates] \n",
    "# hate_dates = [datetime(int(re.findall('\\w+',i)[0]),int(re.findall('\\w+',i)[1]),int(re.findall('\\w+',i)[2])) for i in hate_dates]\n",
    "def get_time_dict(l):\n",
    "    months = [] \n",
    "#     for i in range(130):\n",
    "#         months[i] = 0\n",
    "    for date in l:\n",
    "        date1 = datetime.strptime(date, '%Y-%m-%d')\n",
    "        date2 = datetime.strptime('2018-09-01', '%Y-%m-%d')\n",
    "        r = relativedelta.relativedelta(date2, date1)\n",
    "        months.append(r.months + (r.years+1)*12)\n",
    "#         if r.months + (r.years+1)*12 not in  months.keys():\n",
    "#             months[r.months + (r.years+1)*12] = 1\n",
    "#         else:\n",
    "#             months[r.months + (r.years+1)*12] += 1\n",
    "    return months\n",
    "hate_dates_list = get_time_dict(hate_dates)\n",
    "counter_dates_list = get_time_dict(counter_dates)\n",
    "Noncounter_dates_list = get_time_dict(Non_counter_dates)"
   ]
  },
  {
   "cell_type": "code",
   "execution_count": 106,
   "metadata": {
    "ExecuteTime": {
     "end_time": "2018-10-23T21:40:48.371465Z",
     "start_time": "2018-10-23T21:40:48.346040Z"
    }
   },
   "outputs": [
    {
     "name": "stdout",
     "output_type": "stream",
     "text": [
      "450\n",
      "\n",
      "1039\n",
      "\n",
      "171\n"
     ]
    }
   ],
   "source": [
    "############################## Hate Dates before or in 2007#####################################\n",
    "h2,c2,nc2 = [],[],[]\n",
    "for i in hate_dates:\n",
    "    if int(re.findall(r'\\w+',i)[0])<=2017 and int(re.findall(r'\\w+',i)[1])<12:\n",
    "        h2.append(i)\n",
    "print(len(h2))\n",
    "print()\n",
    "for i in counter_dates:\n",
    "    if int(re.findall(r'\\w+',i)[0])<=2017 and int(re.findall(r'\\w+',i)[1])<12:\n",
    "        c2.append(i)\n",
    "print(len(c2))\n",
    "print()\n",
    "for i in Non_counter_dates:\n",
    "    if int(re.findall(r'\\w+',i)[0])<=2017 and int(re.findall(r'\\w+',i)[1])<12:\n",
    "        nc2.append(i)\n",
    "print(len(nc2))"
   ]
  },
  {
   "cell_type": "code",
   "execution_count": 107,
   "metadata": {
    "ExecuteTime": {
     "end_time": "2018-10-23T21:40:48.524430Z",
     "start_time": "2018-10-23T21:40:48.373336Z"
    }
   },
   "outputs": [],
   "source": [
    "# hate_dates_Binny = []\n",
    "# counter_dates_Binny = []\n",
    "# for i in hate_dates:\n",
    "#     hate_dates_Binny.append(int(re.findall(r'\\w+',i)[0]))\n",
    "# for i in counter_dates:\n",
    "#     counter_dates_Binny.append(int(re.findall(r'\\w+',i)[0]))\n",
    "# np.savetxt('hate_dates_Binny.txt',hate_dates_Binny,fmt = '%1.0f')\n",
    "# np.savetxt('counter_dates_Binny.txt',counter_dates_Binny,fmt = '%1.0f')"
   ]
  },
  {
   "cell_type": "markdown",
   "metadata": {},
   "source": [
    "### Statistical tests :"
   ]
  },
  {
   "cell_type": "code",
   "execution_count": 108,
   "metadata": {
    "ExecuteTime": {
     "end_time": "2018-10-23T21:40:48.667296Z",
     "start_time": "2018-10-23T21:40:48.527358Z"
    }
   },
   "outputs": [
    {
     "name": "stdout",
     "output_type": "stream",
     "text": [
      "Hate----Counter\n",
      "MannwhitneyuResult(statistic=270246.0, pvalue=0.004340122482279647)\n",
      "\n",
      "Counter----NonCounter\n",
      "MannwhitneyuResult(statistic=95929.5, pvalue=0.005184571933454095)\n",
      "\n",
      "Hate----NonCounter\n",
      "MannwhitneyuResult(statistic=37801.5, pvalue=1.0331586401625391e-05)\n"
     ]
    }
   ],
   "source": [
    "print('Hate----Counter')\n",
    "print(mannwhitneyu(hate_dates_list,counter_dates_list),end='\\n\\n')\n",
    "print('Counter----NonCounter')\n",
    "print(mannwhitneyu(Noncounter_dates_list,counter_dates_list),end='\\n\\n')\n",
    "print('Hate----NonCounter')\n",
    "print(mannwhitneyu(Noncounter_dates_list,hate_dates_list))"
   ]
  },
  {
   "cell_type": "code",
   "execution_count": 143,
   "metadata": {
    "ExecuteTime": {
     "end_time": "2018-10-23T22:37:01.419585Z",
     "start_time": "2018-10-23T22:37:01.191030Z"
    }
   },
   "outputs": [
    {
     "data": {
      "image/png": "[encoded data removed]",
      "text/plain": [
       "<Figure size 288x180 with 1 Axes>"
      ]
     },
     "metadata": {},
     "output_type": "display_data"
    }
   ],
   "source": [
    "sns.set()\n",
    "Noncounter_df = pd.DataFrame(np.c_[['NonCounter' for i in range(len(Noncounter_dates_list))],Noncounter_dates_list],columns = ['Users','Months'])\n",
    "counter_df = pd.DataFrame(np.c_[['Counter' for i in range(len(counter_dates_list))],counter_dates_list],columns = ['Users','Months'])\n",
    "hate_df = pd.DataFrame(np.c_[['Hate' for i in range(len(hate_dates_list))],hate_dates_list],columns = ['Users','Months'])\n",
    "Comb_df = pd.concat([counter_df,hate_df],ignore_index = True)\n",
    "Comb_df = Comb_df.apply(pd.to_numeric, errors='ignore')\n",
    "plt.figure(figsize = (4,2.5))\n",
    "ax = sns.violinplot(y = 'Users',x ='Months',data = Comb_df,width =0.6 ,linewidth =1 ,showfliers = False,palette = {'Hate':'#c44e52' ,'Counter':'#55a868'})\n",
    "ax.set_yticklabels('')\n",
    "ax.set_xticklabels(['','Sept 2018','Aug 2016','July 2014','June 2012','May 2010','Apr 2008','Mar 2006'])\n",
    "plt.ylabel('')\n",
    "plt.xlabel('')\n",
    "plt.xticks(rotation = 45)\n",
    "plt.title('Account Creation Dates')\n",
    "plt.tight_layout()\n",
    "plt.savefig('Images/Creation_Dates.eps', format='eps')\n",
    "plt.show()"
   ]
  },
  {
   "cell_type": "code",
   "execution_count": 110,
   "metadata": {
    "ExecuteTime": {
     "end_time": "2018-10-23T21:40:48.961351Z",
     "start_time": "2018-10-23T21:40:48.958227Z"
    }
   },
   "outputs": [],
   "source": [
    "# import datetime as dt\n",
    "# Noncounter_dates_list = [dt.datetime.strptime(d,'%Y-%m-%d').date() for d in Non_counter_dates]\n",
    "# counter_dates_list = [dt.datetime.strptime(d,'%Y-%m-%d').date() for d in counter_dates]\n",
    "# hate_dates_list = [dt.datetime.strptime(d,'%Y-%m-%d').date() for d in hate_dates]\n",
    "# sns.set()\n",
    "# Noncounter_df = pd.DataFrame(np.c_[['NonCounter' for i in range(len(Noncounter_dates_list))],Noncounter_dates_list],columns = ['Users','Dates'])\n",
    "# counter_df = pd.DataFrame(np.c_[['Counter' for i in range(len(counter_dates_list))],counter_dates_list],columns = ['Users','Dates'])\n",
    "# hate_df = pd.DataFrame(np.c_[['Hate' for i in range(len(hate_dates_list))],hate_dates_list],columns = ['Users','Dates'])\n",
    "# Comb_df = pd.concat([Noncounter_df,counter_df,hate_df],ignore_index = True)\n",
    "# Comb_df = Comb_df.apply(pd.to_numeric, errors='ignore')\n",
    "# plt.figure(figsize = (5,1.5))\n",
    "# ax = sns.violinplot(y = 'Users',x ='Dates',data = Comb_df,width =0.6 ,linewidth =1 ,showfliers = False)\n",
    "# ax.set_yticklabels('')\n",
    "# plt.ylabel('')\n",
    "# plt.title('Creation Months from 1-Sept-2018')\n",
    "# # plt.savefig('Images/'+ 'Creation_Dates' +'.eps', format='eps')\n",
    "# plt.show()"
   ]
  },
  {
   "cell_type": "code",
   "execution_count": 111,
   "metadata": {
    "ExecuteTime": {
     "end_time": "2018-10-23T21:40:49.123072Z",
     "start_time": "2018-10-23T21:40:48.971933Z"
    }
   },
   "outputs": [
    {
     "data": {
      "text/plain": [
       "(80.60510805500982, 75.87359307359307, 69.97340425531915)"
      ]
     },
     "execution_count": 111,
     "metadata": {},
     "output_type": "execute_result"
    }
   ],
   "source": [
    "np.mean(hate_dates_list),np.mean(counter_dates_list),np.mean(Noncounter_dates_list)"
   ]
  },
  {
   "cell_type": "markdown",
   "metadata": {},
   "source": [
    "##  Likes, retweets :"
   ]
  },
  {
   "cell_type": "code",
   "execution_count": 112,
   "metadata": {
    "ExecuteTime": {
     "end_time": "2018-10-23T21:40:51.956142Z",
     "start_time": "2018-10-23T21:40:51.869778Z"
    }
   },
   "outputs": [],
   "source": [
    "with open('Refined_Project_Dataset/Hate_tweets_likes_retweets.json','r') as fp:\n",
    "    hate_tweets_likes_retweets = json.load(fp)\n",
    "with open('Refined_Project_Dataset/Counter_replies_retweets_likes.json','r') as fp:\n",
    "    counter_tweets_likes_retweets = json.load(fp)\n",
    "with open('Refined_Project_Dataset/NonCounter_replies_retweets_likes.json','r') as fp:\n",
    "    Noncounter_tweets_likes_retweets = json.load(fp)"
   ]
  },
  {
   "cell_type": "code",
   "execution_count": 113,
   "metadata": {
    "ExecuteTime": {
     "end_time": "2018-10-23T21:40:52.416445Z",
     "start_time": "2018-10-23T21:40:52.409878Z"
    }
   },
   "outputs": [
    {
     "data": {
      "text/plain": [
       "(377, 841, 140)"
      ]
     },
     "execution_count": 113,
     "metadata": {},
     "output_type": "execute_result"
    }
   ],
   "source": [
    "len(hate_tweets_likes_retweets),len(counter_tweets_likes_retweets),len(Noncounter_tweets_likes_retweets)"
   ]
  },
  {
   "cell_type": "code",
   "execution_count": null,
   "metadata": {
    "ExecuteTime": {
     "end_time": "2018-10-23T21:40:52.812682Z",
     "start_time": "2018-10-23T21:40:52.807127Z"
    }
   },
   "outputs": [],
   "source": [
    "hate_tweets_likes_retweets[5],counter_tweets_likes_retweets[10]"
   ]
  },
  {
   "cell_type": "code",
   "execution_count": 115,
   "metadata": {
    "ExecuteTime": {
     "end_time": "2018-10-23T21:40:53.899132Z",
     "start_time": "2018-10-23T21:40:53.890643Z"
    }
   },
   "outputs": [
    {
     "data": {
      "text/plain": [
       "25"
      ]
     },
     "execution_count": 115,
     "metadata": {},
     "output_type": "execute_result"
    }
   ],
   "source": [
    "##### No. of Verified Users :\n",
    "len(user_temp[user_temp['verified']==1].index.tolist())"
   ]
  },
  {
   "cell_type": "markdown",
   "metadata": {},
   "source": [
    "## For Verified Users : "
   ]
  },
  {
   "cell_type": "code",
   "execution_count": 116,
   "metadata": {
    "ExecuteTime": {
     "end_time": "2018-10-23T21:40:54.481427Z",
     "start_time": "2018-10-23T21:40:54.429306Z"
    }
   },
   "outputs": [
    {
     "data": {
      "text/plain": [
       "(18, 7)"
      ]
     },
     "execution_count": 116,
     "metadata": {},
     "output_type": "execute_result"
    }
   ],
   "source": [
    "###### For Hate Users\n",
    "hId,cId = [],[]\n",
    "for i in  hate_usernames.intersection(set(user_temp[user_temp['verified']==1].index.tolist())):\n",
    "    hId.append(df[df['original_tweetusername']==i]['original_tweetid'].tolist()[0])\n",
    "for i in  counter_usernames.intersection(set(user_temp[user_temp['verified']==1].index.tolist())):\n",
    "    cId.append(df[df['replier_user_name']==i]['reply_id'].tolist()[0])\n",
    "len(hId),len(cId)"
   ]
  },
  {
   "cell_type": "markdown",
   "metadata": {},
   "source": [
    "## Verified Users /For all Users:"
   ]
  },
  {
   "cell_type": "code",
   "execution_count": 117,
   "metadata": {
    "ExecuteTime": {
     "end_time": "2018-10-23T21:40:55.140767Z",
     "start_time": "2018-10-23T21:40:55.112765Z"
    }
   },
   "outputs": [
    {
     "name": "stdout",
     "output_type": "stream",
     "text": [
      "All Hates:\n",
      " retweet_count 6723  replies_count 3596 likes_count 23046\n",
      " retweet_mean 17.83289124668435  replies_mean 9.538461538461538 likes_mean 61.12997347480106 \n",
      " retweet_median 0.0  replies_median 3.0 likes_medain 2.0\n",
      "\n",
      "All counter:\n",
      " retweet_count 569  replies_count 389 likes_count 9690\n",
      " retweet_mean 0.6765755053507729  replies_mean 0.4625445897740785 likes_mean 11.521997621878716 \n",
      " retweet_median 0.0  replies_median 0.0 likes_medain 0.0\n",
      "\n",
      "All Noncounter:\n",
      " retweet_count 20  replies_count 44 likes_count 281\n",
      " retweet_mean 0.14285714285714285  replies_mean 0.3142857142857143 likes_mean 2.007142857142857 \n",
      " retweet_median 0.0  replies_median 0.0 likes_medain 0.0\n"
     ]
    }
   ],
   "source": [
    "#### For Hate User:\n",
    "retweets_count,likes_count,replies_count = 0,0,0\n",
    "retweets_list,likes_list,replies_list = [],[],[]\n",
    "for each_dict in hate_tweets_likes_retweets:\n",
    "        retweets_count+= int(each_dict['hate_no_retweets'])\n",
    "        retweets_list.append(int(each_dict['hate_no_retweets']))\n",
    "        replies_count+= int(each_dict['hate_no_replies'])\n",
    "        replies_list.append(int(each_dict['hate_no_replies']))\n",
    "        likes_count+= int(each_dict['hate_no_likes'])\n",
    "        likes_list.append(int(each_dict['hate_no_likes']))\n",
    "print('All Hates:\\n retweet_count {}  replies_count {} likes_count {}\\n retweet_mean {}  replies_mean {} likes_mean {} \\n retweet_median {}  replies_median {} likes_medain {}\\n'.format(retweets_count,replies_count,likes_count,np.mean(retweets_list),np.mean(replies_list),np.mean(likes_list),np.median(retweets_list),np.median(replies_list),np.median(likes_list))) \n",
    "# print(len(likes_list))\n",
    "#### For Counter User:\n",
    "retweets_count,likes_count,replies_count = 0,0,0\n",
    "retweets_list,likes_list,replies_list = [],[],[]\n",
    "for each_dict in counter_tweets_likes_retweets:\n",
    "        retweets_count+= int(each_dict['counter_no_retweets'])\n",
    "        retweets_list.append(int(each_dict['counter_no_retweets']))\n",
    "        replies_count+= int(each_dict['counter_no_replies'])\n",
    "        replies_list.append(int(each_dict['counter_no_replies']))\n",
    "        likes_count+= int(each_dict['counter_no_likes'])\n",
    "        likes_list.append(int(each_dict['counter_no_likes']))\n",
    "print('All counter:\\n retweet_count {}  replies_count {} likes_count {}\\n retweet_mean {}  replies_mean {} likes_mean {} \\n retweet_median {}  replies_median {} likes_medain {}\\n'.format(retweets_count,replies_count,likes_count,np.mean(retweets_list),np.mean(replies_list),np.mean(likes_list),np.median(retweets_list),np.median(replies_list),np.median(likes_list)))\n",
    "# print(len(likes_list))\n",
    "#### For NonCounter User:\n",
    "retweets_count,likes_count,replies_count = 0,0,0\n",
    "retweets_list,likes_list,replies_list = [],[],[]\n",
    "for each_dict in Noncounter_tweets_likes_retweets:\n",
    "        retweets_count+= int(each_dict['counter_no_retweets'])\n",
    "        retweets_list.append(int(each_dict['counter_no_retweets']))\n",
    "        replies_count+= int(each_dict['counter_no_replies'])\n",
    "        replies_list.append(int(each_dict['counter_no_replies']))\n",
    "        likes_count+= int(each_dict['counter_no_likes'])\n",
    "        likes_list.append(int(each_dict['counter_no_likes']))\n",
    "print('All Noncounter:\\n retweet_count {}  replies_count {} likes_count {}\\n retweet_mean {}  replies_mean {} likes_mean {} \\n retweet_median {}  replies_median {} likes_medain {}'.format(retweets_count,replies_count,likes_count,np.mean(retweets_list),np.mean(replies_list),np.mean(likes_list),np.median(retweets_list),np.median(replies_list),np.median(likes_list)))\n",
    "# print(len(likes_list))"
   ]
  },
  {
   "cell_type": "code",
   "execution_count": null,
   "metadata": {
    "ExecuteTime": {
     "end_time": "2018-10-23T21:40:55.744194Z",
     "start_time": "2018-10-23T21:40:55.738789Z"
    }
   },
   "outputs": [],
   "source": [
    "Noncounter_tweets_likes_retweets[0]"
   ]
  },
  {
   "cell_type": "code",
   "execution_count": 119,
   "metadata": {
    "ExecuteTime": {
     "end_time": "2018-10-23T21:40:56.446073Z",
     "start_time": "2018-10-23T21:40:56.429760Z"
    }
   },
   "outputs": [
    {
     "name": "stdout",
     "output_type": "stream",
     "text": [
      "Pic Hates:\n",
      " retweet_count 1116 replies_count 1323 likes_count 4443\n",
      " retweet_mean 139.5  replies_mean 165.375 likes_mean 555.375 \n",
      " retweet_median 13.5  replies_median 5.5 likes_medain 22.5\n",
      "\n",
      "Pic counter:\n",
      " retweet_count 75 replies_count 25 likes_count 858\n",
      " retweet_mean 0.8064516129032258  replies_mean 0.26881720430107525 likes_mean 9.225806451612904 \n",
      " retweet_median 0.0  replies_median 0.0 likes_medain 2.0\n",
      "\n",
      "Pic Noncounter:\n",
      " retweet_count 3 replies_count 7 likes_count 64\n",
      " retweet_mean 0.0967741935483871  replies_mean 0.22580645161290322 likes_mean 2.064516129032258 \n",
      " retweet_median 0.0  replies_median 0.0 likes_medain 1.0\n"
     ]
    }
   ],
   "source": [
    "#### For Hate User:\n",
    "retweets_count,likes_count,replies_count = 0,0,0\n",
    "retweets_list,likes_list,replies_list = [],[],[]\n",
    "for each_dict in hate_tweets_likes_retweets:\n",
    "    if int(each_dict['hate_id']) in hate_ids_pic:\n",
    "        retweets_count+= int(each_dict['hate_no_retweets'])\n",
    "        retweets_list.append(int(each_dict['hate_no_retweets']))\n",
    "        replies_count+= int(each_dict['hate_no_replies'])\n",
    "        replies_list.append(int(each_dict['hate_no_replies']))\n",
    "        likes_count+= int(each_dict['hate_no_likes'])\n",
    "        likes_list.append(int(each_dict['hate_no_likes']))\n",
    "print('Pic Hates:\\n retweet_count {} replies_count {} likes_count {}\\n retweet_mean {}  replies_mean {} likes_mean {} \\n retweet_median {}  replies_median {} likes_medain {}\\n'.format(retweets_count,replies_count,likes_count,np.mean(retweets_list),np.mean(replies_list),np.mean(likes_list),np.median(retweets_list),np.median(replies_list),np.median(likes_list))) \n",
    "# print(len(likes_list))\n",
    "#### For Counter User:\n",
    "retweets_count,likes_count,replies_count = 0,0,0\n",
    "retweets_list,likes_list,replies_list = [],[],[]\n",
    "for each_dict in counter_tweets_likes_retweets:\n",
    "    if int(each_dict['counter_id']) in counter_ids_pic:\n",
    "        retweets_count+= int(each_dict['counter_no_retweets'])\n",
    "        retweets_list.append(int(each_dict['counter_no_retweets']))\n",
    "        replies_count+= int(each_dict['counter_no_replies'])\n",
    "        replies_list.append(int(each_dict['counter_no_replies']))\n",
    "        likes_count+= int(each_dict['counter_no_likes'])\n",
    "        likes_list.append(int(each_dict['counter_no_likes']))\n",
    "print('Pic counter:\\n retweet_count {} replies_count {} likes_count {}\\n retweet_mean {}  replies_mean {} likes_mean {} \\n retweet_median {}  replies_median {} likes_medain {}\\n'.format(retweets_count,replies_count,likes_count,np.mean(retweets_list),np.mean(replies_list),np.mean(likes_list),np.median(retweets_list),np.median(replies_list),np.median(likes_list)))\n",
    "# print(len(likes_list))\n",
    "#### For NonCounter User:\n",
    "retweets_count,likes_count,replies_count = 0,0,0\n",
    "retweets_list,likes_list,replies_list = [],[],[]\n",
    "for each_dict in Noncounter_tweets_likes_retweets:\n",
    "    if int(each_dict['counter_id']) in NonCounter_ids_pic:\n",
    "        retweets_count+= int(each_dict['counter_no_retweets'])\n",
    "        retweets_list.append(int(each_dict['counter_no_retweets']))\n",
    "        replies_count+= int(each_dict['counter_no_replies'])\n",
    "        replies_list.append(int(each_dict['counter_no_replies']))\n",
    "        likes_count+= int(each_dict['counter_no_likes'])\n",
    "        likes_list.append(int(each_dict['counter_no_likes']))\n",
    "print('Pic Noncounter:\\n retweet_count {} replies_count {} likes_count {}\\n retweet_mean {}  replies_mean {} likes_mean {} \\n retweet_median {}  replies_median {} likes_medain {}'.format(retweets_count,replies_count,likes_count,np.mean(retweets_list),np.mean(replies_list),np.mean(likes_list),np.median(retweets_list),np.median(replies_list),np.median(likes_list)))\n",
    "# print(len(likes_list))"
   ]
  },
  {
   "cell_type": "markdown",
   "metadata": {},
   "source": [
    "## Retweet/Replies/Likes count per category [For all Users]:"
   ]
  },
  {
   "cell_type": "code",
   "execution_count": 169,
   "metadata": {
    "ExecuteTime": {
     "end_time": "2018-10-04T21:08:02.467988Z",
     "start_time": "2018-10-04T21:07:54.413621Z"
    }
   },
   "outputs": [
    {
     "name": "stdout",
     "output_type": "stream",
     "text": [
      "Category0\n",
      "Num_Tweets:  140\n",
      "retweets_count: 20 likes_count: 281 replies_count: 44\n",
      "retweets_count_avg: 0.14285714285714285 likes_count_avg: 2.007142857142857 replies_count_avg: 0.3142857142857143\n",
      "retweets_median: 0.0 likes_median: 0.0 replies_median: 0.0\n",
      "\n",
      "Category1\n",
      "Num_Tweets:  38\n",
      "retweets_count: 3 likes_count: 76 replies_count: 15\n",
      "retweets_count_avg: 0.07894736842105263 likes_count_avg: 2.0 replies_count_avg: 0.39473684210526316\n",
      "retweets_median: 0.0 likes_median: 0.5 replies_median: 0.0\n",
      "\n",
      "Category2\n",
      "Num_Tweets:  61\n",
      "retweets_count: 11 likes_count: 387 replies_count: 40\n",
      "retweets_count_avg: 0.18032786885245902 likes_count_avg: 6.344262295081967 replies_count_avg: 0.6557377049180327\n",
      "retweets_median: 0.0 likes_median: 0.0 replies_median: 0.0\n",
      "\n",
      "Category3\n",
      "Num_Tweets:  22\n",
      "retweets_count: 346 likes_count: 7652 replies_count: 20\n",
      "retweets_count_avg: 15.727272727272727 likes_count_avg: 347.8181818181818 replies_count_avg: 0.9090909090909091\n",
      "retweets_median: 0.0 likes_median: 1.0 replies_median: 0.0\n",
      "\n",
      "Category4\n",
      "Num_Tweets:  21\n",
      "retweets_count: 2 likes_count: 54 replies_count: 9\n",
      "retweets_count_avg: 0.09523809523809523 likes_count_avg: 2.5714285714285716 replies_count_avg: 0.42857142857142855\n",
      "retweets_median: 0.0 likes_median: 0.0 replies_median: 0.0\n",
      "\n",
      "Category5\n",
      "Num_Tweets:  45\n",
      "retweets_count: 4 likes_count: 25 replies_count: 19\n",
      "retweets_count_avg: 0.08888888888888889 likes_count_avg: 0.5555555555555556 replies_count_avg: 0.4222222222222222\n",
      "retweets_median: 0.0 likes_median: 0.0 replies_median: 0.0\n",
      "\n",
      "Category6\n",
      "Num_Tweets:  50\n",
      "retweets_count: 53 likes_count: 512 replies_count: 14\n",
      "retweets_count_avg: 1.06 likes_count_avg: 10.24 replies_count_avg: 0.28\n",
      "retweets_median: 0.0 likes_median: 2.5 replies_median: 0.0\n",
      "\n",
      "Category7\n",
      "Num_Tweets:  32\n",
      "retweets_count: 4 likes_count: 12 replies_count: 15\n",
      "retweets_count_avg: 0.125 likes_count_avg: 0.375 replies_count_avg: 0.46875\n",
      "retweets_median: 0.0 likes_median: 0.0 replies_median: 0.0\n",
      "\n",
      "Category8\n",
      "Num_Tweets:  93\n",
      "retweets_count: 18 likes_count: 152 replies_count: 46\n",
      "retweets_count_avg: 0.1935483870967742 likes_count_avg: 1.6344086021505377 replies_count_avg: 0.4946236559139785\n",
      "retweets_median: 0.0 likes_median: 0.0 replies_median: 0.0\n",
      "\n",
      "Category9\n",
      "Num_Tweets:  176\n",
      "retweets_count: 44 likes_count: 146 replies_count: 72\n",
      "retweets_count_avg: 0.25 likes_count_avg: 0.8295454545454546 replies_count_avg: 0.4090909090909091\n",
      "retweets_median: 0.0 likes_median: 0.0 replies_median: 0.0\n",
      "\n",
      "Category11\n",
      "Num_Tweets:  131\n",
      "retweets_count: 34 likes_count: 116 replies_count: 58\n",
      "retweets_count_avg: 0.2595419847328244 likes_count_avg: 0.8854961832061069 replies_count_avg: 0.44274809160305345\n",
      "retweets_median: 0.0 likes_median: 0.0 replies_median: 0.0\n",
      "\n"
     ]
    }
   ],
   "source": [
    "for i in range(12):\n",
    "    retweets_count,likes_count,replies_count = 0,0,0\n",
    "    retweets_median,likes_median,replies_median = [],[],[]\n",
    "    if i==10:\n",
    "        continue\n",
    "    elif i==0:\n",
    "        for each_dict in Noncounter_tweets_likes_retweets:\n",
    "            retweets_count+=int(each_dict['counter_no_retweets'])\n",
    "            retweets_median.append(int(each_dict['counter_no_retweets']))\n",
    "            likes_count+=int(each_dict['counter_no_likes'])\n",
    "            likes_median.append(int(each_dict['counter_no_likes']))\n",
    "            replies_count+=int(each_dict['counter_no_replies'])\n",
    "            replies_median.append(int(each_dict['counter_no_replies']))\n",
    "        count = len(Noncounter_tweets_likes_retweets)\n",
    "        print('Category{}'.format(i))\n",
    "        print('Num_Tweets: ',count)\n",
    "        print('retweets_count: {} likes_count: {} replies_count: {}'.format(retweets_count,likes_count,replies_count))\n",
    "        print('retweets_count_avg: {} likes_count_avg: {} replies_count_avg: {}'.format(retweets_count/count,likes_count/count,replies_count/count))  \n",
    "        print('retweets_median: {} likes_median: {} replies_median: {}'.format(np.median(retweets_median),np.median(likes_median),np.median(replies_median)))\n",
    "        print()\n",
    "    else:\n",
    "        count=0\n",
    "        for each_dict in counter_tweets_likes_retweets:\n",
    "            if each_dict['counter_id'] in df[df['tag']==str(i)]['reply_id'].astype(str).tolist():\n",
    "                retweets_count+=int(each_dict['counter_no_retweets'])\n",
    "                retweets_median.append(int(each_dict['counter_no_retweets']))\n",
    "                likes_count+=int(each_dict['counter_no_likes'])\n",
    "                likes_median.append(int(each_dict['counter_no_likes']))\n",
    "                replies_count+=int(each_dict['counter_no_replies'])\n",
    "                replies_median.append(int(each_dict['counter_no_replies']))\n",
    "                count += 1\n",
    "        print('Category{}'.format(i))\n",
    "        print('Num_Tweets: ',count)\n",
    "        print('retweets_count: {} likes_count: {} replies_count: {}'.format(retweets_count,likes_count,replies_count))\n",
    "        print('retweets_count_avg: {} likes_count_avg: {} replies_count_avg: {}'.format(retweets_count/count,likes_count/count,replies_count/count))                             \n",
    "        print('retweets_median: {} likes_median: {} replies_median: {}'.format(np.median(retweets_median),np.median(likes_median),np.median(replies_median)))\n",
    "        print()"
   ]
  },
  {
   "cell_type": "code",
   "execution_count": null,
   "metadata": {},
   "outputs": [],
   "source": []
  }
 ],
 "metadata": {
  "kernelspec": {
   "display_name": "Python 3",
   "language": "python",
   "name": "python3"
  },
  "language_info": {
   "codemirror_mode": {
    "name": "ipython",
    "version": 3
   },
   "file_extension": ".py",
   "mimetype": "text/x-python",
   "name": "python",
   "nbconvert_exporter": "python",
   "pygments_lexer": "ipython3",
   "version": "3.6.5"
  }
 },
 "nbformat": 4,
 "nbformat_minor": 2
}
