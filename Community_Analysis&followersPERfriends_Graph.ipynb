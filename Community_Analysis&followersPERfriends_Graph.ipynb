{
 "cells": [
  {
   "cell_type": "code",
   "execution_count": null,
   "metadata": {
    "ExecuteTime": {
     "end_time": "2018-10-07T14:22:55.410462Z",
     "start_time": "2018-10-07T14:22:54.484653Z"
    }
   },
   "outputs": [],
   "source": [
    "import pandas as pd\n",
    "%pylab inline\n",
    "import re\n",
    "import seaborn as sns\n",
    "import pickle\n",
    "from scipy.stats import mannwhitneyu,ttest_ind\n",
    "df = pd.read_json('Refined_Project_Dataset/Binny_Tagged_Final.json')\n",
    "with open('Refined_Project_Dataset/lexicon_hate_user.pkl','rb') as fp:\n",
    "    lexicon_hate_user = pickle.load(fp)\n",
    "with open('Refined_Project_Dataset/lexicon_counter_user.pkl','rb') as fp:\n",
    "    lexicon_counter_user = pickle.load(fp)\n",
    "with open('Refined_Project_Dataset/lexicon_Noncounter_user.pkl','rb') as fp:\n",
    "    lexicon_Noncounter_user = pickle.load(fp)\n",
    "with open('Refined_Project_Dataset/user_info.pkl','rb') as fp:\n",
    "    data = pickle.load(fp)\n",
    "user_temp = pd.read_json('Refined_Project_Dataset/user_temp.json')\n",
    "user_temp.index = data.keys()\n",
    "user_temp.head(1)"
   ]
  },
  {
   "cell_type": "code",
   "execution_count": 2,
   "metadata": {
    "ExecuteTime": {
     "end_time": "2018-10-07T14:22:55.417187Z",
     "start_time": "2018-10-07T14:22:55.412090Z"
    }
   },
   "outputs": [],
   "source": [
    "df = user_temp.dropna(axis = 0,subset = ['followers_count/friends_count'])"
   ]
  },
  {
   "cell_type": "code",
   "execution_count": 3,
   "metadata": {
    "ExecuteTime": {
     "end_time": "2018-10-07T14:22:55.527227Z",
     "start_time": "2018-10-07T14:22:55.418601Z"
    }
   },
   "outputs": [
    {
     "data": {
      "text/plain": [
       "(1845,)"
      ]
     },
     "execution_count": 3,
     "metadata": {},
     "output_type": "execute_result"
    }
   ],
   "source": [
    "df['followers_count/friends_count'].shape"
   ]
  },
  {
   "cell_type": "code",
   "execution_count": 4,
   "metadata": {
    "ExecuteTime": {
     "end_time": "2018-10-07T14:22:55.627766Z",
     "start_time": "2018-10-07T14:22:55.530278Z"
    }
   },
   "outputs": [],
   "source": [
    "chate = set(lexicon_hate_user.keys()).intersection(set(df.index.tolist()))\n",
    "ccounter = set(lexicon_counter_user.keys()).intersection(set(df.index.tolist()))\n",
    "cNoncounter = set(lexicon_Noncounter_user.keys()).intersection(set(df.index.tolist()))"
   ]
  },
  {
   "cell_type": "code",
   "execution_count": 5,
   "metadata": {
    "ExecuteTime": {
     "end_time": "2018-10-07T14:22:55.819764Z",
     "start_time": "2018-10-07T14:22:55.631215Z"
    }
   },
   "outputs": [
    {
     "name": "stdout",
     "output_type": "stream",
     "text": [
      "Hate----Counter\n",
      "Ttest_indResult(statistic=3.2839391607384236, pvalue=0.0010450342836281882)\n",
      "MannwhitneyuResult(statistic=165242.0, pvalue=2.910731767483335e-45)\n",
      "\n",
      "Counter----NonCounter\n",
      "Ttest_indResult(statistic=1.2601877390213851, pvalue=0.20782171082844328)\n",
      "MannwhitneyuResult(statistic=105687.5, pvalue=0.3116859090428517)\n",
      "\n",
      "Hate----NonCounter\n",
      "Ttest_indResult(statistic=-1.2818676883492215, pvalue=0.2003177495606028)\n",
      "MannwhitneyuResult(statistic=27191.0, pvalue=1.5940809689092987e-18)\n"
     ]
    },
    {
     "data": {
      "text/plain": [
       "(507, 1150, 188)"
      ]
     },
     "execution_count": 5,
     "metadata": {},
     "output_type": "execute_result"
    }
   ],
   "source": [
    "print('Hate----Counter')\n",
    "print(ttest_ind(df.loc[chate]['followers_count/friends_count'].tolist(),df.loc[ccounter]['followers_count/friends_count'].tolist()))\n",
    "print(mannwhitneyu(df.loc[chate]['followers_count/friends_count'].tolist(),df.loc[ccounter]['followers_count/friends_count'].tolist()),end='\\n\\n')\n",
    "print('Counter----NonCounter')\n",
    "print(ttest_ind(df.loc[cNoncounter]['followers_count/friends_count'].tolist(),df.loc[ccounter]['followers_count/friends_count'].tolist()))\n",
    "print(mannwhitneyu(df.loc[cNoncounter]['followers_count/friends_count'].tolist(),df.loc[ccounter]['followers_count/friends_count'].tolist()),end='\\n\\n')\n",
    "print('Hate----NonCounter')\n",
    "print(ttest_ind(df.loc[cNoncounter]['followers_count/friends_count'].tolist(),df.loc[chate]['followers_count/friends_count'].tolist()))\n",
    "print(mannwhitneyu(df.loc[cNoncounter]['followers_count/friends_count'].tolist(),df.loc[chate]['followers_count/friends_count'].tolist()))\n",
    "len(chate),len(ccounter),len(cNoncounter)"
   ]
  },
  {
   "cell_type": "code",
   "execution_count": 6,
   "metadata": {
    "ExecuteTime": {
     "end_time": "2018-10-07T14:22:56.423445Z",
     "start_time": "2018-10-07T14:22:55.822467Z"
    }
   },
   "outputs": [
    {
     "data": {
      "image/png": "[encoded data removed]",
      "text/plain": [
       "<Figure size 158.4x144 with 1 Axes>"
      ]
     },
     "metadata": {},
     "output_type": "display_data"
    },
    {
     "data": {
      "image/png": "[encoded data removed]",
      "text/plain": [
       "<Figure size 144x144 with 1 Axes>"
      ]
     },
     "metadata": {},
     "output_type": "display_data"
    }
   ],
   "source": [
    "sns.set()\n",
    "hate_df = pd.DataFrame(np.c_[['Hate' for i in range(len(chate))],df.loc[chate]['followers_count/friends_count'].tolist()],columns = ['Users',''])\n",
    "counter_df = pd.DataFrame(np.c_[['Counter' for i in range(len(ccounter))],df.loc[ccounter]['followers_count/friends_count'].tolist()],columns = ['Users',''])\n",
    "Noncounter_df = pd.DataFrame(np.c_[['Noncounter' for i in range(len(cNoncounter))],df.loc[cNoncounter]['followers_count/friends_count'].tolist()],columns = ['Users',''])\n",
    "comb_df = pd.concat([Noncounter_df,counter_df,hate_df],ignore_index= True)\n",
    "comb_df = comb_df.apply(pd.to_numeric,errors = 'ignore')\n",
    "plt.figure(figsize=(2.2,2))\n",
    "plt.title('#followers/friends')\n",
    "ax=  sns.boxplot(x = 'Users',y= '',data = comb_df,linewidth = 1,width = 0.5,showfliers = False)\n",
    "ax.set_xticklabels('')\n",
    "plt.xlabel('')\n",
    "plt.tight_layout()\n",
    "# plt.savefig('Images/'+ '#followersPERfriends' +'.eps', format='eps')\n",
    "plt.show()\n",
    "############################### Barplot ##############################\n",
    "plt.figure(figsize=(2,2))\n",
    "ax = sns.barplot(x = 'Users',y ='',data = comb_df,estimator = np.median )\n",
    "plt.title('#followers/friends')\n",
    "# def change_width(ax, new_value) :\n",
    "#     for patch in ax.patches :\n",
    "#         current_width = patch.get_width()\n",
    "#         diff = current_width - new_value\n",
    "#         patch.set_width(new_value)\n",
    "#         patch.set_x(patch.get_x() + diff * .5)\n",
    "\n",
    "# change_width(ax, .5)\n",
    "ax.set_xticklabels('')\n",
    "plt.xlabel('')\n",
    "plt.tight_layout()\n",
    "plt.show()"
   ]
  },
  {
   "cell_type": "code",
   "execution_count": 7,
   "metadata": {
    "ExecuteTime": {
     "end_time": "2018-10-07T14:22:56.431513Z",
     "start_time": "2018-10-07T14:22:56.425362Z"
    }
   },
   "outputs": [
    {
     "data": {
      "text/plain": [
       "(0.9346719503500001, 0.8298070716500001, 1.8463476071)"
      ]
     },
     "execution_count": 7,
     "metadata": {},
     "output_type": "execute_result"
    }
   ],
   "source": [
    "np.median(counter_df[''].values.astype(float)),np.median(Noncounter_df[''].values.astype(float)),np.median(hate_df[''].values.astype(float))"
   ]
  },
  {
   "cell_type": "code",
   "execution_count": null,
   "metadata": {
    "ExecuteTime": {
     "end_time": "2018-10-07T14:22:58.797884Z",
     "start_time": "2018-10-07T14:22:56.433154Z"
    }
   },
   "outputs": [],
   "source": [
    "df = pd.read_json('Refined_Project_Dataset/Binny_Tagged_Final.json')\n",
    "from nltk.stem.wordnet import WordNetLemmatizer\n",
    "lemmatizer = WordNetLemmatizer()\n",
    "find0 ,find1,find2 = [],[],[]\n",
    "targets = ['jews','jew','muslim','muslims','america','americans','men','women','woman','females',\n",
    "            'female','fat','niggers','whites','white','arabs','mexicans','black','nigger',\n",
    "           'lesbian','gay','lgbt','lgbtq','asian','islam','niggas','blacks',\n",
    "           'transgender','indians','indian']\n",
    "for tweet,Id in zip(df['original_tweet'].tolist(),df['original_tweetid'].tolist()):\n",
    "    unique_targets = []\n",
    "    for target in targets:\n",
    "        for i in re.findall(target,tweet.lower()):\n",
    "#         for i in set(tweet.lower().split()).intersection(set(target)):\n",
    "            if i!='women':\n",
    "                unique_targets.append(lemmatizer.lemmatize(i))\n",
    "            else:\n",
    "                unique_targets.append(i)\n",
    "    unique_targets = [i for i in set(unique_targets)]\n",
    "#     for target1,target2 in [('america','american'),('men','women'),('asian','asia')]:\n",
    "    print(unique_targets)\n",
    "    for tar1,tar2 in [('america','american'),('men','women'),('asia','asian')]:\n",
    "        if (tar2 in unique_targets) and (tar1 in unique_targets) :\n",
    "            del unique_targets[unique_targets.index(tar1)]\n",
    "            print('-------',unique_targets)\n",
    "    if len(set(unique_targets))==0:\n",
    "        find0.append([Id,tweet])\n",
    "    elif len(set(unique_targets))==1:\n",
    "        find1.append([Id,tweet])\n",
    "    else:\n",
    "        find2.append([Id,tweet])"
   ]
  },
  {
   "cell_type": "code",
   "execution_count": 10,
   "metadata": {
    "ExecuteTime": {
     "end_time": "2018-10-07T14:22:58.890007Z",
     "start_time": "2018-10-07T14:22:58.818857Z"
    }
   },
   "outputs": [
    {
     "data": {
      "text/plain": [
       "(496, 61)"
      ]
     },
     "execution_count": 10,
     "metadata": {},
     "output_type": "execute_result"
    }
   ],
   "source": [
    "v1,_=zip(*find1)\n",
    "v2,_ = zip(*find2)\n",
    "len(set(v1)),len(set(v2))"
   ]
  },
  {
   "cell_type": "code",
   "execution_count": 11,
   "metadata": {
    "ExecuteTime": {
     "end_time": "2018-10-07T02:29:35.940435Z",
     "start_time": "2018-10-07T02:29:35.834642Z"
    }
   },
   "outputs": [
    {
     "data": {
      "text/plain": [
       "1513"
      ]
     },
     "execution_count": 11,
     "metadata": {},
     "output_type": "execute_result"
    }
   ],
   "source": [
    "len(find0)+len(find1)+len(find2)"
   ]
  },
  {
   "cell_type": "code",
   "execution_count": null,
   "metadata": {
    "ExecuteTime": {
     "end_time": "2018-10-07T02:29:36.074445Z",
     "start_time": "2018-10-07T02:29:35.944107Z"
    }
   },
   "outputs": [],
   "source": [
    "targets = ['jews','jew','muslim','muslims','america','americans','men','women','woman','females',\n",
    "            'female','fat','whites','white','arabs','mexicans','black','niggers','nigger',\n",
    "           'niggas','blacks','lesbian','gay','lgbt','lgbtq','asian','islam',\n",
    "           'transgender','indians','indian']\n",
    "gender,gen = [],['men','women','woman','female','females']\n",
    "ethinicity,eth = [],['niggas','nigga','niggers','nigger','white','whites','black','blacks']\n",
    "physical_trait,phy = [],['fat']\n",
    "sexual_orientation,sex = [],['lesbians','lesbian','gay','gays','lgbtq','lgbt','transgender']\n",
    "natonality,nat = [],['america','americans','indians','india','mexicans','mexican','arabs','asians','asia']\n",
    "religion,rel = [],['jew','jews','islam','muslims','muslim']\n",
    "df.head(1)"
   ]
  },
  {
   "cell_type": "code",
   "execution_count": 13,
   "metadata": {
    "ExecuteTime": {
     "end_time": "2018-10-07T02:29:36.254906Z",
     "start_time": "2018-10-07T02:29:36.078557Z"
    }
   },
   "outputs": [
    {
     "data": {
      "text/plain": [
       "(548, 1239, 220)"
      ]
     },
     "execution_count": 13,
     "metadata": {},
     "output_type": "execute_result"
    }
   ],
   "source": [
    "hate_usernames = set(df['original_tweetusername'].values.tolist())\n",
    "counter_usernames = set(df[df.tag!='0']['replier_user_name'].values.tolist())\n",
    "Non_counter_usernames = set(df[df.tag=='0']['replier_user_name'].values.tolist())\n",
    "len(hate_usernames),len(counter_usernames),len(Non_counter_usernames)"
   ]
  },
  {
   "cell_type": "code",
   "execution_count": null,
   "metadata": {
    "ExecuteTime": {
     "end_time": "2018-10-07T02:29:36.588823Z",
     "start_time": "2018-10-07T02:29:36.257420Z"
    }
   },
   "outputs": [],
   "source": [
    "with open('Refined_Project_Dataset/user_info.pkl','rb') as fp:\n",
    "    data = pickle.load(fp)\n",
    "user_temp = pd.read_json('Refined_Project_Dataset/user_temp.json')\n",
    "user_temp.index = data.keys()\n",
    "user_temp = user_temp.apply(pd.to_numeric,errors = 'ignore')\n",
    "user_temp.head(1)"
   ]
  },
  {
   "cell_type": "code",
   "execution_count": 15,
   "metadata": {
    "ExecuteTime": {
     "end_time": "2018-10-07T02:29:36.607119Z",
     "start_time": "2018-10-07T02:29:36.592396Z"
    }
   },
   "outputs": [
    {
     "data": {
      "text/plain": [
       "(18, 7, 0)"
      ]
     },
     "execution_count": 15,
     "metadata": {},
     "output_type": "execute_result"
    }
   ],
   "source": [
    "verified_hate = hate_usernames.intersection(set(user_temp[user_temp['verified']==1].index.tolist()))\n",
    "verified_counter = counter_usernames.intersection(set(user_temp[user_temp['verified']==1].index.tolist()))\n",
    "verified_Noncounter = Non_counter_usernames.intersection(set(user_temp[user_temp['verified']==1].index.tolist()))\n",
    "len(hate_usernames.intersection(set(user_temp[user_temp['verified']==1].index.tolist()))),len(counter_usernames.intersection(set(user_temp[user_temp['verified']==1].index.tolist()))),len(Non_counter_usernames.intersection(set(user_temp[user_temp['verified']==1].index.tolist())))"
   ]
  },
  {
   "cell_type": "code",
   "execution_count": 16,
   "metadata": {
    "ExecuteTime": {
     "end_time": "2018-10-07T02:29:37.780651Z",
     "start_time": "2018-10-07T02:29:37.557886Z"
    }
   },
   "outputs": [],
   "source": [
    "for tweet,Id in zip(df['original_tweet'].tolist(),df['original_tweetid'].tolist()):\n",
    "    for target in gen:\n",
    "        if re.findall(target,tweet.lower())!= list():\n",
    "            gender.append(Id)\n",
    "    for target in eth:\n",
    "        if re.findall(target,tweet.lower())!= list():\n",
    "            ethinicity.append(Id)\n",
    "    for target in phy:\n",
    "        if re.findall(target,tweet.lower())!= list():\n",
    "            physical_trait.append(Id)\n",
    "    for target in sex:\n",
    "        if re.findall(target,tweet.lower())!= list():\n",
    "            sexual_orientation.append(Id)\n",
    "    for target in rel:\n",
    "        if re.findall(target,tweet.lower())!= list():\n",
    "            religion.append(Id)\n",
    "    for target in nat:\n",
    "        if re.findall(target,tweet.lower())!= list():\n",
    "            natonality.append(Id)"
   ]
  },
  {
   "cell_type": "code",
   "execution_count": 17,
   "metadata": {
    "ExecuteTime": {
     "end_time": "2018-10-07T02:29:39.848993Z",
     "start_time": "2018-10-07T02:29:39.843603Z"
    }
   },
   "outputs": [
    {
     "data": {
      "text/plain": [
       "557"
      ]
     },
     "execution_count": 17,
     "metadata": {},
     "output_type": "execute_result"
    }
   ],
   "source": [
    "len(set(gender+ethinicity+physical_trait+sexual_orientation+natonality+religion))"
   ]
  },
  {
   "cell_type": "code",
   "execution_count": 18,
   "metadata": {
    "ExecuteTime": {
     "end_time": "2018-10-07T02:29:40.066049Z",
     "start_time": "2018-10-07T02:29:40.055610Z"
    }
   },
   "outputs": [
    {
     "data": {
      "text/plain": [
       "(120, 110, 43, 143, 91, 99)"
      ]
     },
     "execution_count": 18,
     "metadata": {},
     "output_type": "execute_result"
    }
   ],
   "source": [
    "len(set(gender)),len(set(sexual_orientation)),len(set(natonality)),len(set(religion)),len(set(physical_trait)),len(set(ethinicity))"
   ]
  },
  {
   "cell_type": "markdown",
   "metadata": {},
   "source": [
    "## Usernames per Community : "
   ]
  },
  {
   "cell_type": "code",
   "execution_count": 19,
   "metadata": {
    "ExecuteTime": {
     "end_time": "2018-10-07T02:29:41.281944Z",
     "start_time": "2018-10-07T02:29:40.424011Z"
    }
   },
   "outputs": [],
   "source": [
    "gender_hatenames,sexual_orientation_hatenames,natonality_hatenames,religion_hatenames,physical_trait_hatenames,ethinicity_hatenames = [],[],[],[],[],[]\n",
    "for j in set(gender):\n",
    "    gender_hatenames.append(df[df['original_tweetid']== j]['original_tweetusername'].values[0])\n",
    "for j in set(sexual_orientation):\n",
    "    sexual_orientation_hatenames.append(df[df['original_tweetid']== j]['original_tweetusername'].values[0])\n",
    "for j in set(natonality):\n",
    "    natonality_hatenames.append(df[df['original_tweetid']== j]['original_tweetusername'].values[0])\n",
    "for j in set(religion):\n",
    "    religion_hatenames.append(df[df['original_tweetid']== j]['original_tweetusername'].values[0])\n",
    "for j in set(physical_trait):\n",
    "    physical_trait_hatenames.append(df[df['original_tweetid']== j]['original_tweetusername'].values[0])\n",
    "for j in set(ethinicity):\n",
    "    ethinicity_hatenames.append(df[df['original_tweetid']== j]['original_tweetusername'].values[0])\n",
    "gender_hatenames = [i for i in set(gender_hatenames)]\n",
    "sexual_orientation_hatenames = [i for i in set(sexual_orientation_hatenames)]\n",
    "natonality_hatenames = [i for i in set(natonality_hatenames)]\n",
    "religion_hatenames = [i for i in set(religion_hatenames)]\n",
    "physical_trait_hatenames = [i for i in set(physical_trait_hatenames)]\n",
    "ethinicity_hatenames = [i for i in set(ethinicity_hatenames)]"
   ]
  },
  {
   "cell_type": "code",
   "execution_count": 20,
   "metadata": {
    "ExecuteTime": {
     "end_time": "2018-10-07T01:52:30.962196Z",
     "start_time": "2018-10-07T01:52:30.957265Z"
    }
   },
   "outputs": [
    {
     "data": {
      "text/plain": [
       "(119, 110, 41, 137, 91, 97)"
      ]
     },
     "execution_count": 20,
     "metadata": {},
     "output_type": "execute_result"
    }
   ],
   "source": [
    "######################### Usernames ####################3\n",
    "len(gender_hatenames),len(sexual_orientation_hatenames),len(natonality_hatenames),len(religion_hatenames),len(physical_trait_hatenames),len(ethinicity_hatenames)"
   ]
  },
  {
   "cell_type": "code",
   "execution_count": 21,
   "metadata": {
    "ExecuteTime": {
     "end_time": "2018-10-07T01:52:31.096563Z",
     "start_time": "2018-10-07T01:52:30.964393Z"
    }
   },
   "outputs": [
    {
     "data": {
      "text/plain": [
       "(10, 4, 1, 2, 0, 3)"
      ]
     },
     "execution_count": 21,
     "metadata": {},
     "output_type": "execute_result"
    }
   ],
   "source": [
    "############################# Intersection with verified hate  ######################\n",
    "len(set(gender_hatenames).intersection(set(verified_hate))),len(set(sexual_orientation_hatenames).intersection(set(verified_hate))),len(set(natonality_hatenames).intersection(set(verified_hate))),len(set(religion_hatenames).intersection(set(verified_hate))),len(set(physical_trait_hatenames).intersection(set(verified_hate))),len(set(ethinicity_hatenames).intersection(set(verified_hate)))"
   ]
  },
  {
   "cell_type": "markdown",
   "metadata": {},
   "source": [
    "## Counterspeech tag distribution  for each Community:"
   ]
  },
  {
   "cell_type": "code",
   "execution_count": 22,
   "metadata": {
    "ExecuteTime": {
     "end_time": "2018-10-07T01:52:32.342656Z",
     "start_time": "2018-10-07T01:52:31.098522Z"
    }
   },
   "outputs": [],
   "source": [
    "gen_tags,sex_orientation_tags,nat_tags,rel_tags,phy_trait_tags,eth_tags = [],[],[],[],[],[]\n",
    "gender_tags,sexual_orientation_tags,natonality_tags,religion_tags,physical_trait_tags,ethinicity_tags = [],[],[],[],[],[]\n",
    "for j in set(gender):\n",
    "    gen_tags.append(df[df['original_tweetid']== j]['tag'].tolist())\n",
    "for j in set(sexual_orientation):\n",
    "    sex_orientation_tags.append(df[df['original_tweetid']== j]['tag'].tolist())\n",
    "for j in set(natonality):\n",
    "    nat_tags.append(df[df['original_tweetid']== j]['tag'].tolist())\n",
    "for j in set(religion):\n",
    "    rel_tags.append(df[df['original_tweetid']== j]['tag'].tolist())\n",
    "for j in set(physical_trait):\n",
    "    phy_trait_tags.append(df[df['original_tweetid']== j]['tag'].tolist())\n",
    "for j in set(ethinicity):\n",
    "    eth_tags.append(df[df['original_tweetid']== j]['tag'].tolist())\n",
    "#--------------------------------------------------------------------------------------------\n",
    "for tag in gen_tags:\n",
    "    gender_tags+=tag\n",
    "for tag in sex_orientation_tags:\n",
    "    sexual_orientation_tags+=tag\n",
    "for tag in nat_tags:\n",
    "    natonality_tags+=tag\n",
    "for tag in rel_tags:\n",
    "    religion_tags+=tag\n",
    "for tag in phy_trait_tags:\n",
    "    physical_trait_tags+=tag\n",
    "for tag in eth_tags:\n",
    "    ethinicity_tags+=tag"
   ]
  },
  {
   "cell_type": "markdown",
   "metadata": {},
   "source": [
    "## For Verified:"
   ]
  },
  {
   "cell_type": "code",
   "execution_count": 23,
   "metadata": {
    "ExecuteTime": {
     "end_time": "2018-10-07T01:52:32.373857Z",
     "start_time": "2018-10-07T01:52:32.350295Z"
    }
   },
   "outputs": [
    {
     "name": "stdout",
     "output_type": "stream",
     "text": [
      "Verified Hate Users(Target-Gender) Tag distribution : \n",
      " {'0': 9, '1': 0, '2': 8, '3': 0, '4': 4, '5': 1, '6': 2, '7': 2, '8': 8, '9': 2, '11': 5}\n",
      "\n"
     ]
    }
   ],
   "source": [
    "categories = ['0','1','2','3','4','5','6','7','8','9','11']\n",
    "ver,ver_ = [],[]\n",
    "for j in set(gender_hatenames).intersection(set(verified_hate)):\n",
    "    ver.append(df[df['original_tweetusername']== j]['tag'].tolist())\n",
    "for i in ver:\n",
    "    ver_+=i\n",
    "dict_ = {}\n",
    "for j in categories:\n",
    "    dict_[j] = (re.findall(r'\\d+',(' '.join(ver_)))).count(j)\n",
    "print(\"Verified Hate Users(Target-Gender) Tag distribution : \\n {}\\n\".format(dict_))"
   ]
  },
  {
   "cell_type": "code",
   "execution_count": 24,
   "metadata": {
    "ExecuteTime": {
     "end_time": "2018-10-07T01:52:32.450093Z",
     "start_time": "2018-10-07T01:52:32.380807Z"
    }
   },
   "outputs": [],
   "source": [
    "############### Find 0  categories ##################3\n",
    "categories = ['0','1','2','3','4','5','6','7','8','9','11']\n",
    "dict_\n",
    "for i in categories:\n",
    "    dict_[i] = (re.findall(r'\\d+',(' '.join(df[df['original_tweetid']==976274221818109952]['tag'].tolist())))).count(i)\n",
    "find0_Categories = [i for i in dict_.values()]"
   ]
  },
  {
   "cell_type": "code",
   "execution_count": 28,
   "metadata": {
    "ExecuteTime": {
     "end_time": "2018-10-07T01:52:44.184681Z",
     "start_time": "2018-10-07T01:52:44.160128Z"
    }
   },
   "outputs": [
    {
     "name": "stdout",
     "output_type": "stream",
     "text": [
      "Gender : \n",
      " {'0': 84, '1': 1, '2': 38, '3': 3, '4': 14, '5': 15, '6': 36, '7': 32, '8': 47, '9': 50, '11': 55}\n",
      "\n",
      "Sexual_orientation : \n",
      " {'0': 19, '1': 5, '2': 19, '3': 9, '4': 9, '5': 20, '6': 20, '7': 30, '8': 34, '9': 39, '11': 21}\n",
      "\n",
      "Nationality : \n",
      " {'0': 17, '1': 5, '2': 16, '3': 4, '4': 9, '5': 12, '6': 17, '7': 6, '8': 13, '9': 32, '11': 10}\n",
      "\n",
      "Religion : \n",
      " {'0': 69, '1': 125, '2': 100, '3': 20, '4': 19, '5': 50, '6': 12, '7': 39, '8': 37, '9': 112, '11': 54}\n",
      "\n",
      "Physical_trait : \n",
      " {'0': 4, '1': 0, '2': 7, '3': 2, '4': 2, '5': 3, '6': 3, '7': 12, '8': 15, '9': 65, '11': 37}\n",
      "\n",
      "Ethinicity : \n",
      " {'0': 26, '1': 2, '2': 7, '3': 25, '4': 4, '5': 34, '6': 18, '7': 8, '8': 13, '9': 81, '11': 24}\n",
      "\n"
     ]
    }
   ],
   "source": [
    "categories = ['0','1','2','3','4','5','6','7','8','9','11']\n",
    "table = []\n",
    "for i,community in zip([gender_tags,sexual_orientation_tags,natonality_tags,religion_tags,physical_trait_tags,ethinicity_tags],['Gender','Sexual_orientation','Nationality','Religion','Physical_trait','Ethinicity']):\n",
    "    dict_ = {}\n",
    "    for j in categories:\n",
    "        dict_[j] = (re.findall(r'\\d+',(' '.join(i)))).count(j)\n",
    "    table.append(dict_) \n",
    "    print(\"{} : \\n {}\\n\".format(community,dict_))"
   ]
  },
  {
   "cell_type": "code",
   "execution_count": 29,
   "metadata": {
    "ExecuteTime": {
     "end_time": "2018-10-07T01:52:44.626709Z",
     "start_time": "2018-10-07T01:52:44.507531Z"
    }
   },
   "outputs": [
    {
     "data": {
      "text/html": [
       "<div>\n",
       "<style scoped>\n",
       "    .dataframe tbody tr th:only-of-type {\n",
       "        vertical-align: middle;\n",
       "    }\n",
       "\n",
       "    .dataframe tbody tr th {\n",
       "        vertical-align: top;\n",
       "    }\n",
       "\n",
       "    .dataframe thead th {\n",
       "        text-align: right;\n",
       "    }\n",
       "</style>\n",
       "<table border=\"1\" class=\"dataframe\">\n",
       "  <thead>\n",
       "    <tr style=\"text-align: right;\">\n",
       "      <th></th>\n",
       "      <th>Hate Type</th>\n",
       "      <th>0</th>\n",
       "      <th>1</th>\n",
       "      <th>2</th>\n",
       "      <th>3</th>\n",
       "      <th>4</th>\n",
       "      <th>5</th>\n",
       "      <th>6</th>\n",
       "      <th>7</th>\n",
       "      <th>8</th>\n",
       "      <th>9</th>\n",
       "      <th>11</th>\n",
       "      <th>num_tweets</th>\n",
       "      <th>Total</th>\n",
       "    </tr>\n",
       "  </thead>\n",
       "  <tbody>\n",
       "    <tr>\n",
       "      <th>0</th>\n",
       "      <td>Gender</td>\n",
       "      <td>84</td>\n",
       "      <td>1</td>\n",
       "      <td>38</td>\n",
       "      <td>3</td>\n",
       "      <td>14</td>\n",
       "      <td>15</td>\n",
       "      <td>36</td>\n",
       "      <td>32</td>\n",
       "      <td>47</td>\n",
       "      <td>50</td>\n",
       "      <td>55</td>\n",
       "      <td>120</td>\n",
       "      <td>291</td>\n",
       "    </tr>\n",
       "    <tr>\n",
       "      <th>1</th>\n",
       "      <td>Sexual_orientation</td>\n",
       "      <td>19</td>\n",
       "      <td>5</td>\n",
       "      <td>19</td>\n",
       "      <td>9</td>\n",
       "      <td>9</td>\n",
       "      <td>20</td>\n",
       "      <td>20</td>\n",
       "      <td>30</td>\n",
       "      <td>34</td>\n",
       "      <td>39</td>\n",
       "      <td>21</td>\n",
       "      <td>110</td>\n",
       "      <td>206</td>\n",
       "    </tr>\n",
       "    <tr>\n",
       "      <th>2</th>\n",
       "      <td>Nationality</td>\n",
       "      <td>17</td>\n",
       "      <td>5</td>\n",
       "      <td>16</td>\n",
       "      <td>4</td>\n",
       "      <td>9</td>\n",
       "      <td>12</td>\n",
       "      <td>17</td>\n",
       "      <td>6</td>\n",
       "      <td>13</td>\n",
       "      <td>32</td>\n",
       "      <td>10</td>\n",
       "      <td>43</td>\n",
       "      <td>124</td>\n",
       "    </tr>\n",
       "    <tr>\n",
       "      <th>3</th>\n",
       "      <td>Religion</td>\n",
       "      <td>86</td>\n",
       "      <td>125</td>\n",
       "      <td>104</td>\n",
       "      <td>35</td>\n",
       "      <td>24</td>\n",
       "      <td>53</td>\n",
       "      <td>41</td>\n",
       "      <td>51</td>\n",
       "      <td>64</td>\n",
       "      <td>124</td>\n",
       "      <td>79</td>\n",
       "      <td>143</td>\n",
       "      <td>700</td>\n",
       "    </tr>\n",
       "    <tr>\n",
       "      <th>4</th>\n",
       "      <td>Physical_trait</td>\n",
       "      <td>4</td>\n",
       "      <td>0</td>\n",
       "      <td>7</td>\n",
       "      <td>2</td>\n",
       "      <td>2</td>\n",
       "      <td>3</td>\n",
       "      <td>3</td>\n",
       "      <td>12</td>\n",
       "      <td>15</td>\n",
       "      <td>65</td>\n",
       "      <td>37</td>\n",
       "      <td>91</td>\n",
       "      <td>146</td>\n",
       "    </tr>\n",
       "    <tr>\n",
       "      <th>5</th>\n",
       "      <td>Ethinicity</td>\n",
       "      <td>26</td>\n",
       "      <td>2</td>\n",
       "      <td>7</td>\n",
       "      <td>25</td>\n",
       "      <td>4</td>\n",
       "      <td>34</td>\n",
       "      <td>18</td>\n",
       "      <td>8</td>\n",
       "      <td>13</td>\n",
       "      <td>81</td>\n",
       "      <td>24</td>\n",
       "      <td>99</td>\n",
       "      <td>216</td>\n",
       "    </tr>\n",
       "    <tr>\n",
       "      <th>6</th>\n",
       "      <td>Total</td>\n",
       "      <td>236</td>\n",
       "      <td>138</td>\n",
       "      <td>191</td>\n",
       "      <td>78</td>\n",
       "      <td>62</td>\n",
       "      <td>137</td>\n",
       "      <td>135</td>\n",
       "      <td>139</td>\n",
       "      <td>186</td>\n",
       "      <td>391</td>\n",
       "      <td>226</td>\n",
       "      <td>606</td>\n",
       "      <td>1683</td>\n",
       "    </tr>\n",
       "  </tbody>\n",
       "</table>\n",
       "</div>"
      ],
      "text/plain": [
       "            Hate Type    0    1    2   3   4    5    6    7    8    9   11  \\\n",
       "0              Gender   84    1   38   3  14   15   36   32   47   50   55   \n",
       "1  Sexual_orientation   19    5   19   9   9   20   20   30   34   39   21   \n",
       "2         Nationality   17    5   16   4   9   12   17    6   13   32   10   \n",
       "3            Religion   86  125  104  35  24   53   41   51   64  124   79   \n",
       "4      Physical_trait    4    0    7   2   2    3    3   12   15   65   37   \n",
       "5          Ethinicity   26    2    7  25   4   34   18    8   13   81   24   \n",
       "6               Total  236  138  191  78  62  137  135  139  186  391  226   \n",
       "\n",
       "   num_tweets  Total  \n",
       "0         120    291  \n",
       "1         110    206  \n",
       "2          43    124  \n",
       "3         143    700  \n",
       "4          91    146  \n",
       "5          99    216  \n",
       "6         606   1683  "
      ]
     },
     "execution_count": 29,
     "metadata": {},
     "output_type": "execute_result"
    }
   ],
   "source": [
    "table = pd.DataFrame(table ,columns = ['Hate Type','0','1','2','3','4','5','6','7','8','9','11'])\n",
    "table['Hate Type'] = ['Gender','Sexual_orientation','Nationality','Religion','Physical_trait','Ethinicity']\n",
    "table.loc[3]=['Religion' ,86, 125, 104,  35,  24,  53,  41,  51,  64, 124,  79]\n",
    "table['num_tweets'] = [120, 110, 43, 143, 91, 99]\n",
    "table.loc[6] = ['Total',table['0'].sum(),table['1'].sum(),table['2'].sum(),table['3'].sum(),table['4'].sum(),\n",
    "                table['5'].sum(),table['6'].sum(),table['7'].sum(),table['8'].sum(),table['9'].sum(),table['11'].sum()\n",
    "               ,table['num_tweets'].sum()]\n",
    "table['Total'] = table.apply(lambda x : x[2:-1].values.sum(),axis = 1)\n",
    "# table.to_csv('Refined_Project_Dataset/Community_Analysis.csv')\n",
    "table"
   ]
  },
  {
   "cell_type": "code",
   "execution_count": 93,
   "metadata": {
    "ExecuteTime": {
     "end_time": "2018-10-04T22:08:01.431725Z",
     "start_time": "2018-10-04T22:08:01.208037Z"
    }
   },
   "outputs": [
    {
     "data": {
      "text/html": [
       "<div>\n",
       "<style scoped>\n",
       "    .dataframe tbody tr th:only-of-type {\n",
       "        vertical-align: middle;\n",
       "    }\n",
       "\n",
       "    .dataframe tbody tr th {\n",
       "        vertical-align: top;\n",
       "    }\n",
       "\n",
       "    .dataframe thead th {\n",
       "        text-align: right;\n",
       "    }\n",
       "</style>\n",
       "<table border=\"1\" class=\"dataframe\">\n",
       "  <thead>\n",
       "    <tr style=\"text-align: right;\">\n",
       "      <th></th>\n",
       "      <th>Hate Type</th>\n",
       "      <th>1</th>\n",
       "      <th>2</th>\n",
       "      <th>3</th>\n",
       "      <th>4</th>\n",
       "      <th>5</th>\n",
       "      <th>6</th>\n",
       "      <th>7</th>\n",
       "      <th>8</th>\n",
       "      <th>9</th>\n",
       "      <th>11</th>\n",
       "    </tr>\n",
       "  </thead>\n",
       "  <tbody>\n",
       "    <tr>\n",
       "      <th>0</th>\n",
       "      <td>Gender</td>\n",
       "      <td>0.007246</td>\n",
       "      <td>0.198953</td>\n",
       "      <td>0.038462</td>\n",
       "      <td>0.225806</td>\n",
       "      <td>0.109489</td>\n",
       "      <td>0.266667</td>\n",
       "      <td>0.230216</td>\n",
       "      <td>0.252688</td>\n",
       "      <td>0.127877</td>\n",
       "      <td>0.243363</td>\n",
       "    </tr>\n",
       "    <tr>\n",
       "      <th>1</th>\n",
       "      <td>Sexual_orientation</td>\n",
       "      <td>0.036232</td>\n",
       "      <td>0.099476</td>\n",
       "      <td>0.115385</td>\n",
       "      <td>0.145161</td>\n",
       "      <td>0.145985</td>\n",
       "      <td>0.148148</td>\n",
       "      <td>0.215827</td>\n",
       "      <td>0.182796</td>\n",
       "      <td>0.099744</td>\n",
       "      <td>0.092920</td>\n",
       "    </tr>\n",
       "    <tr>\n",
       "      <th>2</th>\n",
       "      <td>Nationality</td>\n",
       "      <td>0.036232</td>\n",
       "      <td>0.083770</td>\n",
       "      <td>0.051282</td>\n",
       "      <td>0.145161</td>\n",
       "      <td>0.087591</td>\n",
       "      <td>0.125926</td>\n",
       "      <td>0.043165</td>\n",
       "      <td>0.069892</td>\n",
       "      <td>0.081841</td>\n",
       "      <td>0.044248</td>\n",
       "    </tr>\n",
       "    <tr>\n",
       "      <th>3</th>\n",
       "      <td>Religion</td>\n",
       "      <td>0.905797</td>\n",
       "      <td>0.544503</td>\n",
       "      <td>0.448718</td>\n",
       "      <td>0.387097</td>\n",
       "      <td>0.386861</td>\n",
       "      <td>0.303704</td>\n",
       "      <td>0.366906</td>\n",
       "      <td>0.344086</td>\n",
       "      <td>0.317136</td>\n",
       "      <td>0.349558</td>\n",
       "    </tr>\n",
       "    <tr>\n",
       "      <th>4</th>\n",
       "      <td>Physical_trait</td>\n",
       "      <td>0.000000</td>\n",
       "      <td>0.036649</td>\n",
       "      <td>0.025641</td>\n",
       "      <td>0.032258</td>\n",
       "      <td>0.021898</td>\n",
       "      <td>0.022222</td>\n",
       "      <td>0.086331</td>\n",
       "      <td>0.080645</td>\n",
       "      <td>0.166240</td>\n",
       "      <td>0.163717</td>\n",
       "    </tr>\n",
       "    <tr>\n",
       "      <th>5</th>\n",
       "      <td>Ethinicity</td>\n",
       "      <td>0.014493</td>\n",
       "      <td>0.036649</td>\n",
       "      <td>0.320513</td>\n",
       "      <td>0.064516</td>\n",
       "      <td>0.248175</td>\n",
       "      <td>0.133333</td>\n",
       "      <td>0.057554</td>\n",
       "      <td>0.069892</td>\n",
       "      <td>0.207161</td>\n",
       "      <td>0.106195</td>\n",
       "    </tr>\n",
       "    <tr>\n",
       "      <th>6</th>\n",
       "      <td>Total</td>\n",
       "      <td>1.000000</td>\n",
       "      <td>1.000000</td>\n",
       "      <td>1.000000</td>\n",
       "      <td>1.000000</td>\n",
       "      <td>1.000000</td>\n",
       "      <td>1.000000</td>\n",
       "      <td>1.000000</td>\n",
       "      <td>1.000000</td>\n",
       "      <td>1.000000</td>\n",
       "      <td>1.000000</td>\n",
       "    </tr>\n",
       "  </tbody>\n",
       "</table>\n",
       "</div>"
      ],
      "text/plain": [
       "            Hate Type         1         2         3         4         5  \\\n",
       "0              Gender  0.007246  0.198953  0.038462  0.225806  0.109489   \n",
       "1  Sexual_orientation  0.036232  0.099476  0.115385  0.145161  0.145985   \n",
       "2         Nationality  0.036232  0.083770  0.051282  0.145161  0.087591   \n",
       "3            Religion  0.905797  0.544503  0.448718  0.387097  0.386861   \n",
       "4      Physical_trait  0.000000  0.036649  0.025641  0.032258  0.021898   \n",
       "5          Ethinicity  0.014493  0.036649  0.320513  0.064516  0.248175   \n",
       "6               Total  1.000000  1.000000  1.000000  1.000000  1.000000   \n",
       "\n",
       "          6         7         8         9        11  \n",
       "0  0.266667  0.230216  0.252688  0.127877  0.243363  \n",
       "1  0.148148  0.215827  0.182796  0.099744  0.092920  \n",
       "2  0.125926  0.043165  0.069892  0.081841  0.044248  \n",
       "3  0.303704  0.366906  0.344086  0.317136  0.349558  \n",
       "4  0.022222  0.086331  0.080645  0.166240  0.163717  \n",
       "5  0.133333  0.057554  0.069892  0.207161  0.106195  \n",
       "6  1.000000  1.000000  1.000000  1.000000  1.000000  "
      ]
     },
     "execution_count": 93,
     "metadata": {},
     "output_type": "execute_result"
    }
   ],
   "source": [
    "table1 = table.drop(['Total','0','num_tweets'],axis = 1)\n",
    "for i in table1.columns[1:]:\n",
    "    table1[i]=table1[i].apply(lambda x:x/table1[table1['Hate Type']=='Total'][i].values[0])\n",
    "# table1.to_csv('Refined_Project_Dataset/Community Analysis1.csv')\n",
    "table1"
   ]
  },
  {
   "cell_type": "code",
   "execution_count": 30,
   "metadata": {
    "ExecuteTime": {
     "end_time": "2018-10-07T01:52:52.030321Z",
     "start_time": "2018-10-07T01:52:51.741751Z"
    }
   },
   "outputs": [
    {
     "data": {
      "text/html": [
       "<div>\n",
       "<style scoped>\n",
       "    .dataframe tbody tr th:only-of-type {\n",
       "        vertical-align: middle;\n",
       "    }\n",
       "\n",
       "    .dataframe tbody tr th {\n",
       "        vertical-align: top;\n",
       "    }\n",
       "\n",
       "    .dataframe thead th {\n",
       "        text-align: right;\n",
       "    }\n",
       "</style>\n",
       "<table border=\"1\" class=\"dataframe\">\n",
       "  <thead>\n",
       "    <tr style=\"text-align: right;\">\n",
       "      <th></th>\n",
       "      <th>Hate Type</th>\n",
       "      <th>1</th>\n",
       "      <th>2</th>\n",
       "      <th>3</th>\n",
       "      <th>4</th>\n",
       "      <th>5</th>\n",
       "      <th>6</th>\n",
       "      <th>7</th>\n",
       "      <th>8</th>\n",
       "      <th>9</th>\n",
       "      <th>11</th>\n",
       "      <th>Total</th>\n",
       "    </tr>\n",
       "  </thead>\n",
       "  <tbody>\n",
       "    <tr>\n",
       "      <th>0</th>\n",
       "      <td>Gender</td>\n",
       "      <td>0.003436</td>\n",
       "      <td>0.130584</td>\n",
       "      <td>0.010309</td>\n",
       "      <td>0.048110</td>\n",
       "      <td>0.051546</td>\n",
       "      <td>0.123711</td>\n",
       "      <td>0.109966</td>\n",
       "      <td>0.161512</td>\n",
       "      <td>0.171821</td>\n",
       "      <td>0.189003</td>\n",
       "      <td>1.0</td>\n",
       "    </tr>\n",
       "    <tr>\n",
       "      <th>1</th>\n",
       "      <td>Sexual_orientation</td>\n",
       "      <td>0.024272</td>\n",
       "      <td>0.092233</td>\n",
       "      <td>0.043689</td>\n",
       "      <td>0.043689</td>\n",
       "      <td>0.097087</td>\n",
       "      <td>0.097087</td>\n",
       "      <td>0.145631</td>\n",
       "      <td>0.165049</td>\n",
       "      <td>0.189320</td>\n",
       "      <td>0.101942</td>\n",
       "      <td>1.0</td>\n",
       "    </tr>\n",
       "    <tr>\n",
       "      <th>2</th>\n",
       "      <td>Nationality</td>\n",
       "      <td>0.040323</td>\n",
       "      <td>0.129032</td>\n",
       "      <td>0.032258</td>\n",
       "      <td>0.072581</td>\n",
       "      <td>0.096774</td>\n",
       "      <td>0.137097</td>\n",
       "      <td>0.048387</td>\n",
       "      <td>0.104839</td>\n",
       "      <td>0.258065</td>\n",
       "      <td>0.080645</td>\n",
       "      <td>1.0</td>\n",
       "    </tr>\n",
       "    <tr>\n",
       "      <th>3</th>\n",
       "      <td>Religion</td>\n",
       "      <td>0.178571</td>\n",
       "      <td>0.148571</td>\n",
       "      <td>0.050000</td>\n",
       "      <td>0.034286</td>\n",
       "      <td>0.075714</td>\n",
       "      <td>0.058571</td>\n",
       "      <td>0.072857</td>\n",
       "      <td>0.091429</td>\n",
       "      <td>0.177143</td>\n",
       "      <td>0.112857</td>\n",
       "      <td>1.0</td>\n",
       "    </tr>\n",
       "    <tr>\n",
       "      <th>4</th>\n",
       "      <td>Physical_trait</td>\n",
       "      <td>0.000000</td>\n",
       "      <td>0.047945</td>\n",
       "      <td>0.013699</td>\n",
       "      <td>0.013699</td>\n",
       "      <td>0.020548</td>\n",
       "      <td>0.020548</td>\n",
       "      <td>0.082192</td>\n",
       "      <td>0.102740</td>\n",
       "      <td>0.445205</td>\n",
       "      <td>0.253425</td>\n",
       "      <td>1.0</td>\n",
       "    </tr>\n",
       "    <tr>\n",
       "      <th>5</th>\n",
       "      <td>Ethinicity</td>\n",
       "      <td>0.009259</td>\n",
       "      <td>0.032407</td>\n",
       "      <td>0.115741</td>\n",
       "      <td>0.018519</td>\n",
       "      <td>0.157407</td>\n",
       "      <td>0.083333</td>\n",
       "      <td>0.037037</td>\n",
       "      <td>0.060185</td>\n",
       "      <td>0.375000</td>\n",
       "      <td>0.111111</td>\n",
       "      <td>1.0</td>\n",
       "    </tr>\n",
       "    <tr>\n",
       "      <th>6</th>\n",
       "      <td>Total</td>\n",
       "      <td>0.081996</td>\n",
       "      <td>0.113488</td>\n",
       "      <td>0.046346</td>\n",
       "      <td>0.036839</td>\n",
       "      <td>0.081402</td>\n",
       "      <td>0.080214</td>\n",
       "      <td>0.082591</td>\n",
       "      <td>0.110517</td>\n",
       "      <td>0.232323</td>\n",
       "      <td>0.134284</td>\n",
       "      <td>1.0</td>\n",
       "    </tr>\n",
       "  </tbody>\n",
       "</table>\n",
       "</div>"
      ],
      "text/plain": [
       "            Hate Type         1         2         3         4         5  \\\n",
       "0              Gender  0.003436  0.130584  0.010309  0.048110  0.051546   \n",
       "1  Sexual_orientation  0.024272  0.092233  0.043689  0.043689  0.097087   \n",
       "2         Nationality  0.040323  0.129032  0.032258  0.072581  0.096774   \n",
       "3            Religion  0.178571  0.148571  0.050000  0.034286  0.075714   \n",
       "4      Physical_trait  0.000000  0.047945  0.013699  0.013699  0.020548   \n",
       "5          Ethinicity  0.009259  0.032407  0.115741  0.018519  0.157407   \n",
       "6               Total  0.081996  0.113488  0.046346  0.036839  0.081402   \n",
       "\n",
       "          6         7         8         9        11  Total  \n",
       "0  0.123711  0.109966  0.161512  0.171821  0.189003    1.0  \n",
       "1  0.097087  0.145631  0.165049  0.189320  0.101942    1.0  \n",
       "2  0.137097  0.048387  0.104839  0.258065  0.080645    1.0  \n",
       "3  0.058571  0.072857  0.091429  0.177143  0.112857    1.0  \n",
       "4  0.020548  0.082192  0.102740  0.445205  0.253425    1.0  \n",
       "5  0.083333  0.037037  0.060185  0.375000  0.111111    1.0  \n",
       "6  0.080214  0.082591  0.110517  0.232323  0.134284    1.0  "
      ]
     },
     "execution_count": 30,
     "metadata": {},
     "output_type": "execute_result"
    }
   ],
   "source": [
    "table2 = table.drop(6)\n",
    "table2 = table.drop(['0','num_tweets'],axis = 1)\n",
    "table2[['1','2','3','4','5','6','7','8','9','11','Total']]=table2.drop('Hate Type',axis = 1).apply(lambda x:x/x['Total'],axis = 1)\n",
    "# table2.to_csv('Refined_Project_Dataset/Community Analysis2.csv')\n",
    "table2"
   ]
  },
  {
   "cell_type": "code",
   "execution_count": 11,
   "metadata": {
    "ExecuteTime": {
     "end_time": "2018-10-07T14:23:02.115654Z",
     "start_time": "2018-10-07T14:23:01.858995Z"
    }
   },
   "outputs": [],
   "source": [
    "import json\n",
    "with open('Refined_Project_Dataset/Hate_tweets_likes_retweets.json','r') as fp:\n",
    "    hate_tweets_likes_retweets = json.load(fp)\n",
    "with open('Refined_Project_Dataset/Counter_replies_retweets_likes.json','r') as fp:\n",
    "    counter_tweets_likes_retweets = json.load(fp)\n",
    "with open('Refined_Project_Dataset/NonCounter_replies_retweets_likes.json','r') as fp:\n",
    "    Noncounter_tweets_likes_retweets = json.load(fp)\n",
    "data1 = pd.read_json('replies_of_extra_tweets.json') \n",
    "data2 = pd.read_json('Refined_Project_Dataset/navish_counterspeech_data.json')"
   ]
  },
  {
   "cell_type": "code",
   "execution_count": null,
   "metadata": {
    "ExecuteTime": {
     "end_time": "2018-10-07T14:23:02.555079Z",
     "start_time": "2018-10-07T14:23:02.532706Z"
    }
   },
   "outputs": [],
   "source": [
    "data1.head(2)"
   ]
  },
  {
   "cell_type": "code",
   "execution_count": 20,
   "metadata": {
    "ExecuteTime": {
     "end_time": "2018-10-07T14:25:46.635216Z",
     "start_time": "2018-10-07T14:25:46.627261Z"
    }
   },
   "outputs": [
    {
     "data": {
      "text/plain": [
       "370"
      ]
     },
     "execution_count": 20,
     "metadata": {},
     "output_type": "execute_result"
    }
   ],
   "source": [
    "Ids = []\n",
    "for i in hate_tweets_likes_retweets:\n",
    "    Ids.append(int(i['hate_id']))\n",
    "Ids = set(Ids)\n",
    "len(set(Ids))"
   ]
  },
  {
   "cell_type": "code",
   "execution_count": 38,
   "metadata": {
    "ExecuteTime": {
     "end_time": "2018-10-07T14:51:45.859796Z",
     "start_time": "2018-10-07T14:51:45.840039Z"
    }
   },
   "outputs": [
    {
     "data": {
      "text/plain": [
       "(558, 1290, 223)"
      ]
     },
     "execution_count": 38,
     "metadata": {},
     "output_type": "execute_result"
    }
   ],
   "source": [
    "hate_usernamesID = set(df['original_tweetid'].values.astype(str))\n",
    "counter_usernamesID = set(df[df.tag!='0']['reply_id'].values.astype(str))\n",
    "Non_counter_usernamesID = set(df[df.tag=='0']['reply_id'].values.astype(str))\n",
    "len(hate_usernamesID),len(counter_usernamesID),len(Non_counter_usernamesID)"
   ]
  },
  {
   "cell_type": "code",
   "execution_count": 59,
   "metadata": {
    "ExecuteTime": {
     "end_time": "2018-10-07T15:08:12.904744Z",
     "start_time": "2018-10-07T15:08:10.762815Z"
    }
   },
   "outputs": [],
   "source": [
    "from collections import defaultdict\n",
    "replies = []\n",
    "r = defaultdict(int)\n",
    "temp1, temp2,temp_set = 0,0,set()\n",
    "for d in data1['original_tweetid'].tolist():\n",
    "    if str(d) in hate_usernamesID: \n",
    "        temp1 += 1\n",
    "        temp_set.add(str(d))\n",
    "        replies.append(data1[data1['original_tweetid']== d]['reply_id'].tolist())\n",
    "        r[str(d)] = len(set(data1[data1['original_tweetid']== d]['reply_id'].tolist()))\n",
    "for d in data2['original_tweetid'].tolist():\n",
    "    if str(d) in hate_usernamesID: \n",
    "        temp2 += 1\n",
    "        temp_set.add(str(d))\n",
    "        replies.append(data2[data2['original_tweetid']== d]['reply_id'].tolist())\n",
    "        r[str(d)] = len(set(data2[data2['original_tweetid']== d]['reply_id'].tolist()))\n",
    "rep = []\n",
    "for i in replies:\n",
    "    rep += i"
   ]
  },
  {
   "cell_type": "code",
   "execution_count": 67,
   "metadata": {
    "ExecuteTime": {
     "end_time": "2018-10-07T15:10:15.738756Z",
     "start_time": "2018-10-07T15:10:15.730985Z"
    }
   },
   "outputs": [
    {
     "data": {
      "text/plain": [
       "(3.0667976424361494, 2.0)"
      ]
     },
     "execution_count": 67,
     "metadata": {},
     "output_type": "execute_result"
    }
   ],
   "source": [
    "t =[]\n",
    "for i in r.values():\n",
    "    t.append(i)\n",
    "np.mean(t),np.median(t)"
   ]
  },
  {
   "cell_type": "code",
   "execution_count": 52,
   "metadata": {
    "ExecuteTime": {
     "end_time": "2018-10-07T14:59:59.295556Z",
     "start_time": "2018-10-07T14:59:59.289245Z"
    }
   },
   "outputs": [
    {
     "data": {
      "text/plain": [
       "(226, 1363, 509)"
      ]
     },
     "execution_count": 52,
     "metadata": {},
     "output_type": "execute_result"
    }
   ],
   "source": [
    "temp1,temp2, len(temp_set)"
   ]
  },
  {
   "cell_type": "code",
   "execution_count": 50,
   "metadata": {
    "ExecuteTime": {
     "end_time": "2018-10-07T14:58:20.619478Z",
     "start_time": "2018-10-07T14:58:20.605230Z"
    }
   },
   "outputs": [
    {
     "data": {
      "text/plain": [
       "1561"
      ]
     },
     "execution_count": 50,
     "metadata": {},
     "output_type": "execute_result"
    }
   ],
   "source": [
    "len(set(rep))"
   ]
  },
  {
   "cell_type": "code",
   "execution_count": 48,
   "metadata": {
    "ExecuteTime": {
     "end_time": "2018-10-07T14:55:23.954769Z",
     "start_time": "2018-10-07T14:55:23.929556Z"
    }
   },
   "outputs": [
    {
     "data": {
      "text/plain": [
       "509"
      ]
     },
     "execution_count": 48,
     "metadata": {},
     "output_type": "execute_result"
    }
   ],
   "source": [
    "len(set(hate_usernamesID).intersection(set(data1['original_tweetid'].astype(str).tolist())))+len(set(hate_usernamesID).intersection(set(data2['original_tweetid'].astype(str).tolist())))"
   ]
  },
  {
   "cell_type": "code",
   "execution_count": 53,
   "metadata": {
    "ExecuteTime": {
     "end_time": "2018-10-07T15:02:33.840237Z",
     "start_time": "2018-10-07T15:02:33.833862Z"
    }
   },
   "outputs": [
    {
     "data": {
      "text/plain": [
       "1711.2730844793714"
      ]
     },
     "execution_count": 53,
     "metadata": {},
     "output_type": "execute_result"
    }
   ],
   "source": [
    "558*1561/509"
   ]
  },
  {
   "cell_type": "code",
   "execution_count": null,
   "metadata": {},
   "outputs": [],
   "source": []
  }
 ],
 "metadata": {
  "kernelspec": {
   "display_name": "Python 3",
   "language": "python",
   "name": "python3"
  },
  "language_info": {
   "codemirror_mode": {
    "name": "ipython",
    "version": 3
   },
   "file_extension": ".py",
   "mimetype": "text/x-python",
   "name": "python",
   "nbconvert_exporter": "python",
   "pygments_lexer": "ipython3",
   "version": "3.6.5"
  }
 },
 "nbformat": 4,
 "nbformat_minor": 2
}
